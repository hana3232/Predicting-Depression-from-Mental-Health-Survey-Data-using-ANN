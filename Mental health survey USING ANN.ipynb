{
  "cells": [
    {
      "cell_type": "code",
      "execution_count": 1,
      "metadata": {
        "id": "kPYQRN6RLuOo"
      },
      "outputs": [],
      "source": [
        "import pandas as pd"
      ]
    },
    {
      "cell_type": "code",
      "execution_count": 2,
      "metadata": {
        "id": "HBurdiLeLzly"
      },
      "outputs": [],
      "source": [
        "df = pd.read_csv(\"train.csv\")"
      ]
    },
    {
      "cell_type": "code",
      "execution_count": 3,
      "metadata": {
        "colab": {
          "base_uri": "https://localhost:8080/",
          "height": 704
        },
        "id": "Iv3R6oCyMEQ2",
        "outputId": "4faf4ab7-0f6c-4a06-f232-dc0b3acfd185"
      },
      "outputs": [
        {
          "data": {
            "text/html": [
              "<div>\n",
              "<style scoped>\n",
              "    .dataframe tbody tr th:only-of-type {\n",
              "        vertical-align: middle;\n",
              "    }\n",
              "\n",
              "    .dataframe tbody tr th {\n",
              "        vertical-align: top;\n",
              "    }\n",
              "\n",
              "    .dataframe thead th {\n",
              "        text-align: right;\n",
              "    }\n",
              "</style>\n",
              "<table border=\"1\" class=\"dataframe\">\n",
              "  <thead>\n",
              "    <tr style=\"text-align: right;\">\n",
              "      <th></th>\n",
              "      <th>id</th>\n",
              "      <th>Name</th>\n",
              "      <th>Gender</th>\n",
              "      <th>Age</th>\n",
              "      <th>City</th>\n",
              "      <th>Working Professional or Student</th>\n",
              "      <th>Profession</th>\n",
              "      <th>Academic Pressure</th>\n",
              "      <th>Work Pressure</th>\n",
              "      <th>CGPA</th>\n",
              "      <th>Study Satisfaction</th>\n",
              "      <th>Job Satisfaction</th>\n",
              "      <th>Sleep Duration</th>\n",
              "      <th>Dietary Habits</th>\n",
              "      <th>Degree</th>\n",
              "      <th>Have you ever had suicidal thoughts ?</th>\n",
              "      <th>Work/Study Hours</th>\n",
              "      <th>Financial Stress</th>\n",
              "      <th>Family History of Mental Illness</th>\n",
              "      <th>Depression</th>\n",
              "    </tr>\n",
              "  </thead>\n",
              "  <tbody>\n",
              "    <tr>\n",
              "      <th>0</th>\n",
              "      <td>0</td>\n",
              "      <td>Aaradhya</td>\n",
              "      <td>Female</td>\n",
              "      <td>49.0</td>\n",
              "      <td>Ludhiana</td>\n",
              "      <td>Working Professional</td>\n",
              "      <td>Chef</td>\n",
              "      <td>NaN</td>\n",
              "      <td>5.0</td>\n",
              "      <td>NaN</td>\n",
              "      <td>NaN</td>\n",
              "      <td>2.0</td>\n",
              "      <td>More than 8 hours</td>\n",
              "      <td>Healthy</td>\n",
              "      <td>BHM</td>\n",
              "      <td>No</td>\n",
              "      <td>1.0</td>\n",
              "      <td>2.0</td>\n",
              "      <td>No</td>\n",
              "      <td>0</td>\n",
              "    </tr>\n",
              "    <tr>\n",
              "      <th>1</th>\n",
              "      <td>1</td>\n",
              "      <td>Vivan</td>\n",
              "      <td>Male</td>\n",
              "      <td>26.0</td>\n",
              "      <td>Varanasi</td>\n",
              "      <td>Working Professional</td>\n",
              "      <td>Teacher</td>\n",
              "      <td>NaN</td>\n",
              "      <td>4.0</td>\n",
              "      <td>NaN</td>\n",
              "      <td>NaN</td>\n",
              "      <td>3.0</td>\n",
              "      <td>Less than 5 hours</td>\n",
              "      <td>Unhealthy</td>\n",
              "      <td>LLB</td>\n",
              "      <td>Yes</td>\n",
              "      <td>7.0</td>\n",
              "      <td>3.0</td>\n",
              "      <td>No</td>\n",
              "      <td>1</td>\n",
              "    </tr>\n",
              "    <tr>\n",
              "      <th>2</th>\n",
              "      <td>2</td>\n",
              "      <td>Yuvraj</td>\n",
              "      <td>Male</td>\n",
              "      <td>33.0</td>\n",
              "      <td>Visakhapatnam</td>\n",
              "      <td>Student</td>\n",
              "      <td>NaN</td>\n",
              "      <td>5.0</td>\n",
              "      <td>NaN</td>\n",
              "      <td>8.97</td>\n",
              "      <td>2.0</td>\n",
              "      <td>NaN</td>\n",
              "      <td>5-6 hours</td>\n",
              "      <td>Healthy</td>\n",
              "      <td>B.Pharm</td>\n",
              "      <td>Yes</td>\n",
              "      <td>3.0</td>\n",
              "      <td>1.0</td>\n",
              "      <td>No</td>\n",
              "      <td>1</td>\n",
              "    </tr>\n",
              "    <tr>\n",
              "      <th>3</th>\n",
              "      <td>3</td>\n",
              "      <td>Yuvraj</td>\n",
              "      <td>Male</td>\n",
              "      <td>22.0</td>\n",
              "      <td>Mumbai</td>\n",
              "      <td>Working Professional</td>\n",
              "      <td>Teacher</td>\n",
              "      <td>NaN</td>\n",
              "      <td>5.0</td>\n",
              "      <td>NaN</td>\n",
              "      <td>NaN</td>\n",
              "      <td>1.0</td>\n",
              "      <td>Less than 5 hours</td>\n",
              "      <td>Moderate</td>\n",
              "      <td>BBA</td>\n",
              "      <td>Yes</td>\n",
              "      <td>10.0</td>\n",
              "      <td>1.0</td>\n",
              "      <td>Yes</td>\n",
              "      <td>1</td>\n",
              "    </tr>\n",
              "    <tr>\n",
              "      <th>4</th>\n",
              "      <td>4</td>\n",
              "      <td>Rhea</td>\n",
              "      <td>Female</td>\n",
              "      <td>30.0</td>\n",
              "      <td>Kanpur</td>\n",
              "      <td>Working Professional</td>\n",
              "      <td>Business Analyst</td>\n",
              "      <td>NaN</td>\n",
              "      <td>1.0</td>\n",
              "      <td>NaN</td>\n",
              "      <td>NaN</td>\n",
              "      <td>1.0</td>\n",
              "      <td>5-6 hours</td>\n",
              "      <td>Unhealthy</td>\n",
              "      <td>BBA</td>\n",
              "      <td>Yes</td>\n",
              "      <td>9.0</td>\n",
              "      <td>4.0</td>\n",
              "      <td>Yes</td>\n",
              "      <td>0</td>\n",
              "    </tr>\n",
              "    <tr>\n",
              "      <th>...</th>\n",
              "      <td>...</td>\n",
              "      <td>...</td>\n",
              "      <td>...</td>\n",
              "      <td>...</td>\n",
              "      <td>...</td>\n",
              "      <td>...</td>\n",
              "      <td>...</td>\n",
              "      <td>...</td>\n",
              "      <td>...</td>\n",
              "      <td>...</td>\n",
              "      <td>...</td>\n",
              "      <td>...</td>\n",
              "      <td>...</td>\n",
              "      <td>...</td>\n",
              "      <td>...</td>\n",
              "      <td>...</td>\n",
              "      <td>...</td>\n",
              "      <td>...</td>\n",
              "      <td>...</td>\n",
              "      <td>...</td>\n",
              "    </tr>\n",
              "    <tr>\n",
              "      <th>140695</th>\n",
              "      <td>140695</td>\n",
              "      <td>Vidya</td>\n",
              "      <td>Female</td>\n",
              "      <td>18.0</td>\n",
              "      <td>Ahmedabad</td>\n",
              "      <td>Working Professional</td>\n",
              "      <td>NaN</td>\n",
              "      <td>NaN</td>\n",
              "      <td>5.0</td>\n",
              "      <td>NaN</td>\n",
              "      <td>NaN</td>\n",
              "      <td>4.0</td>\n",
              "      <td>5-6 hours</td>\n",
              "      <td>Unhealthy</td>\n",
              "      <td>Class 12</td>\n",
              "      <td>No</td>\n",
              "      <td>2.0</td>\n",
              "      <td>4.0</td>\n",
              "      <td>Yes</td>\n",
              "      <td>1</td>\n",
              "    </tr>\n",
              "    <tr>\n",
              "      <th>140696</th>\n",
              "      <td>140696</td>\n",
              "      <td>Lata</td>\n",
              "      <td>Female</td>\n",
              "      <td>41.0</td>\n",
              "      <td>Hyderabad</td>\n",
              "      <td>Working Professional</td>\n",
              "      <td>Content Writer</td>\n",
              "      <td>NaN</td>\n",
              "      <td>5.0</td>\n",
              "      <td>NaN</td>\n",
              "      <td>NaN</td>\n",
              "      <td>4.0</td>\n",
              "      <td>7-8 hours</td>\n",
              "      <td>Moderate</td>\n",
              "      <td>B.Tech</td>\n",
              "      <td>Yes</td>\n",
              "      <td>6.0</td>\n",
              "      <td>5.0</td>\n",
              "      <td>Yes</td>\n",
              "      <td>0</td>\n",
              "    </tr>\n",
              "    <tr>\n",
              "      <th>140697</th>\n",
              "      <td>140697</td>\n",
              "      <td>Aanchal</td>\n",
              "      <td>Female</td>\n",
              "      <td>24.0</td>\n",
              "      <td>Kolkata</td>\n",
              "      <td>Working Professional</td>\n",
              "      <td>Marketing Manager</td>\n",
              "      <td>NaN</td>\n",
              "      <td>3.0</td>\n",
              "      <td>NaN</td>\n",
              "      <td>NaN</td>\n",
              "      <td>1.0</td>\n",
              "      <td>More than 8 hours</td>\n",
              "      <td>Moderate</td>\n",
              "      <td>B.Com</td>\n",
              "      <td>No</td>\n",
              "      <td>4.0</td>\n",
              "      <td>4.0</td>\n",
              "      <td>No</td>\n",
              "      <td>0</td>\n",
              "    </tr>\n",
              "    <tr>\n",
              "      <th>140698</th>\n",
              "      <td>140698</td>\n",
              "      <td>Prachi</td>\n",
              "      <td>Female</td>\n",
              "      <td>49.0</td>\n",
              "      <td>Srinagar</td>\n",
              "      <td>Working Professional</td>\n",
              "      <td>Plumber</td>\n",
              "      <td>NaN</td>\n",
              "      <td>5.0</td>\n",
              "      <td>NaN</td>\n",
              "      <td>NaN</td>\n",
              "      <td>2.0</td>\n",
              "      <td>5-6 hours</td>\n",
              "      <td>Moderate</td>\n",
              "      <td>ME</td>\n",
              "      <td>Yes</td>\n",
              "      <td>10.0</td>\n",
              "      <td>1.0</td>\n",
              "      <td>No</td>\n",
              "      <td>0</td>\n",
              "    </tr>\n",
              "    <tr>\n",
              "      <th>140699</th>\n",
              "      <td>140699</td>\n",
              "      <td>Sai</td>\n",
              "      <td>Male</td>\n",
              "      <td>27.0</td>\n",
              "      <td>Patna</td>\n",
              "      <td>Student</td>\n",
              "      <td>NaN</td>\n",
              "      <td>4.0</td>\n",
              "      <td>NaN</td>\n",
              "      <td>9.24</td>\n",
              "      <td>1.0</td>\n",
              "      <td>NaN</td>\n",
              "      <td>Less than 5 hours</td>\n",
              "      <td>Healthy</td>\n",
              "      <td>BCA</td>\n",
              "      <td>Yes</td>\n",
              "      <td>2.0</td>\n",
              "      <td>3.0</td>\n",
              "      <td>Yes</td>\n",
              "      <td>1</td>\n",
              "    </tr>\n",
              "  </tbody>\n",
              "</table>\n",
              "<p>140700 rows × 20 columns</p>\n",
              "</div>"
            ],
            "text/plain": [
              "            id      Name  Gender   Age           City  \\\n",
              "0            0  Aaradhya  Female  49.0       Ludhiana   \n",
              "1            1     Vivan    Male  26.0       Varanasi   \n",
              "2            2    Yuvraj    Male  33.0  Visakhapatnam   \n",
              "3            3    Yuvraj    Male  22.0         Mumbai   \n",
              "4            4      Rhea  Female  30.0         Kanpur   \n",
              "...        ...       ...     ...   ...            ...   \n",
              "140695  140695     Vidya  Female  18.0      Ahmedabad   \n",
              "140696  140696      Lata  Female  41.0      Hyderabad   \n",
              "140697  140697   Aanchal  Female  24.0        Kolkata   \n",
              "140698  140698    Prachi  Female  49.0       Srinagar   \n",
              "140699  140699       Sai    Male  27.0          Patna   \n",
              "\n",
              "       Working Professional or Student         Profession  Academic Pressure  \\\n",
              "0                 Working Professional               Chef                NaN   \n",
              "1                 Working Professional            Teacher                NaN   \n",
              "2                              Student                NaN                5.0   \n",
              "3                 Working Professional            Teacher                NaN   \n",
              "4                 Working Professional   Business Analyst                NaN   \n",
              "...                                ...                ...                ...   \n",
              "140695            Working Professional                NaN                NaN   \n",
              "140696            Working Professional     Content Writer                NaN   \n",
              "140697            Working Professional  Marketing Manager                NaN   \n",
              "140698            Working Professional            Plumber                NaN   \n",
              "140699                         Student                NaN                4.0   \n",
              "\n",
              "        Work Pressure  CGPA  Study Satisfaction  Job Satisfaction  \\\n",
              "0                 5.0   NaN                 NaN               2.0   \n",
              "1                 4.0   NaN                 NaN               3.0   \n",
              "2                 NaN  8.97                 2.0               NaN   \n",
              "3                 5.0   NaN                 NaN               1.0   \n",
              "4                 1.0   NaN                 NaN               1.0   \n",
              "...               ...   ...                 ...               ...   \n",
              "140695            5.0   NaN                 NaN               4.0   \n",
              "140696            5.0   NaN                 NaN               4.0   \n",
              "140697            3.0   NaN                 NaN               1.0   \n",
              "140698            5.0   NaN                 NaN               2.0   \n",
              "140699            NaN  9.24                 1.0               NaN   \n",
              "\n",
              "           Sleep Duration Dietary Habits    Degree  \\\n",
              "0       More than 8 hours        Healthy       BHM   \n",
              "1       Less than 5 hours      Unhealthy       LLB   \n",
              "2               5-6 hours        Healthy   B.Pharm   \n",
              "3       Less than 5 hours       Moderate       BBA   \n",
              "4               5-6 hours      Unhealthy       BBA   \n",
              "...                   ...            ...       ...   \n",
              "140695          5-6 hours      Unhealthy  Class 12   \n",
              "140696          7-8 hours       Moderate    B.Tech   \n",
              "140697  More than 8 hours       Moderate     B.Com   \n",
              "140698          5-6 hours       Moderate        ME   \n",
              "140699  Less than 5 hours        Healthy       BCA   \n",
              "\n",
              "       Have you ever had suicidal thoughts ?  Work/Study Hours  \\\n",
              "0                                         No               1.0   \n",
              "1                                        Yes               7.0   \n",
              "2                                        Yes               3.0   \n",
              "3                                        Yes              10.0   \n",
              "4                                        Yes               9.0   \n",
              "...                                      ...               ...   \n",
              "140695                                    No               2.0   \n",
              "140696                                   Yes               6.0   \n",
              "140697                                    No               4.0   \n",
              "140698                                   Yes              10.0   \n",
              "140699                                   Yes               2.0   \n",
              "\n",
              "        Financial Stress Family History of Mental Illness  Depression  \n",
              "0                    2.0                               No           0  \n",
              "1                    3.0                               No           1  \n",
              "2                    1.0                               No           1  \n",
              "3                    1.0                              Yes           1  \n",
              "4                    4.0                              Yes           0  \n",
              "...                  ...                              ...         ...  \n",
              "140695               4.0                              Yes           1  \n",
              "140696               5.0                              Yes           0  \n",
              "140697               4.0                               No           0  \n",
              "140698               1.0                               No           0  \n",
              "140699               3.0                              Yes           1  \n",
              "\n",
              "[140700 rows x 20 columns]"
            ]
          },
          "execution_count": 3,
          "metadata": {},
          "output_type": "execute_result"
        }
      ],
      "source": [
        "df"
      ]
    },
    {
      "cell_type": "code",
      "execution_count": 4,
      "metadata": {
        "id": "oZUcNf6yMFu-"
      },
      "outputs": [],
      "source": [
        "df.drop(\"id\",axis=1,inplace=True)"
      ]
    },
    {
      "cell_type": "code",
      "execution_count": 5,
      "metadata": {
        "colab": {
          "base_uri": "https://localhost:8080/",
          "height": 382
        },
        "id": "69PF5SLoMQPm",
        "outputId": "c0b8971e-e79f-4464-f195-67bffaf1cf9f"
      },
      "outputs": [
        {
          "data": {
            "text/html": [
              "<div>\n",
              "<style scoped>\n",
              "    .dataframe tbody tr th:only-of-type {\n",
              "        vertical-align: middle;\n",
              "    }\n",
              "\n",
              "    .dataframe tbody tr th {\n",
              "        vertical-align: top;\n",
              "    }\n",
              "\n",
              "    .dataframe thead th {\n",
              "        text-align: right;\n",
              "    }\n",
              "</style>\n",
              "<table border=\"1\" class=\"dataframe\">\n",
              "  <thead>\n",
              "    <tr style=\"text-align: right;\">\n",
              "      <th></th>\n",
              "      <th>Name</th>\n",
              "      <th>Gender</th>\n",
              "      <th>Age</th>\n",
              "      <th>City</th>\n",
              "      <th>Working Professional or Student</th>\n",
              "      <th>Profession</th>\n",
              "      <th>Academic Pressure</th>\n",
              "      <th>Work Pressure</th>\n",
              "      <th>CGPA</th>\n",
              "      <th>Study Satisfaction</th>\n",
              "      <th>Job Satisfaction</th>\n",
              "      <th>Sleep Duration</th>\n",
              "      <th>Dietary Habits</th>\n",
              "      <th>Degree</th>\n",
              "      <th>Have you ever had suicidal thoughts ?</th>\n",
              "      <th>Work/Study Hours</th>\n",
              "      <th>Financial Stress</th>\n",
              "      <th>Family History of Mental Illness</th>\n",
              "      <th>Depression</th>\n",
              "    </tr>\n",
              "  </thead>\n",
              "  <tbody>\n",
              "    <tr>\n",
              "      <th>0</th>\n",
              "      <td>Aaradhya</td>\n",
              "      <td>Female</td>\n",
              "      <td>49.0</td>\n",
              "      <td>Ludhiana</td>\n",
              "      <td>Working Professional</td>\n",
              "      <td>Chef</td>\n",
              "      <td>NaN</td>\n",
              "      <td>5.0</td>\n",
              "      <td>NaN</td>\n",
              "      <td>NaN</td>\n",
              "      <td>2.0</td>\n",
              "      <td>More than 8 hours</td>\n",
              "      <td>Healthy</td>\n",
              "      <td>BHM</td>\n",
              "      <td>No</td>\n",
              "      <td>1.0</td>\n",
              "      <td>2.0</td>\n",
              "      <td>No</td>\n",
              "      <td>0</td>\n",
              "    </tr>\n",
              "    <tr>\n",
              "      <th>1</th>\n",
              "      <td>Vivan</td>\n",
              "      <td>Male</td>\n",
              "      <td>26.0</td>\n",
              "      <td>Varanasi</td>\n",
              "      <td>Working Professional</td>\n",
              "      <td>Teacher</td>\n",
              "      <td>NaN</td>\n",
              "      <td>4.0</td>\n",
              "      <td>NaN</td>\n",
              "      <td>NaN</td>\n",
              "      <td>3.0</td>\n",
              "      <td>Less than 5 hours</td>\n",
              "      <td>Unhealthy</td>\n",
              "      <td>LLB</td>\n",
              "      <td>Yes</td>\n",
              "      <td>7.0</td>\n",
              "      <td>3.0</td>\n",
              "      <td>No</td>\n",
              "      <td>1</td>\n",
              "    </tr>\n",
              "    <tr>\n",
              "      <th>2</th>\n",
              "      <td>Yuvraj</td>\n",
              "      <td>Male</td>\n",
              "      <td>33.0</td>\n",
              "      <td>Visakhapatnam</td>\n",
              "      <td>Student</td>\n",
              "      <td>NaN</td>\n",
              "      <td>5.0</td>\n",
              "      <td>NaN</td>\n",
              "      <td>8.97</td>\n",
              "      <td>2.0</td>\n",
              "      <td>NaN</td>\n",
              "      <td>5-6 hours</td>\n",
              "      <td>Healthy</td>\n",
              "      <td>B.Pharm</td>\n",
              "      <td>Yes</td>\n",
              "      <td>3.0</td>\n",
              "      <td>1.0</td>\n",
              "      <td>No</td>\n",
              "      <td>1</td>\n",
              "    </tr>\n",
              "    <tr>\n",
              "      <th>3</th>\n",
              "      <td>Yuvraj</td>\n",
              "      <td>Male</td>\n",
              "      <td>22.0</td>\n",
              "      <td>Mumbai</td>\n",
              "      <td>Working Professional</td>\n",
              "      <td>Teacher</td>\n",
              "      <td>NaN</td>\n",
              "      <td>5.0</td>\n",
              "      <td>NaN</td>\n",
              "      <td>NaN</td>\n",
              "      <td>1.0</td>\n",
              "      <td>Less than 5 hours</td>\n",
              "      <td>Moderate</td>\n",
              "      <td>BBA</td>\n",
              "      <td>Yes</td>\n",
              "      <td>10.0</td>\n",
              "      <td>1.0</td>\n",
              "      <td>Yes</td>\n",
              "      <td>1</td>\n",
              "    </tr>\n",
              "    <tr>\n",
              "      <th>4</th>\n",
              "      <td>Rhea</td>\n",
              "      <td>Female</td>\n",
              "      <td>30.0</td>\n",
              "      <td>Kanpur</td>\n",
              "      <td>Working Professional</td>\n",
              "      <td>Business Analyst</td>\n",
              "      <td>NaN</td>\n",
              "      <td>1.0</td>\n",
              "      <td>NaN</td>\n",
              "      <td>NaN</td>\n",
              "      <td>1.0</td>\n",
              "      <td>5-6 hours</td>\n",
              "      <td>Unhealthy</td>\n",
              "      <td>BBA</td>\n",
              "      <td>Yes</td>\n",
              "      <td>9.0</td>\n",
              "      <td>4.0</td>\n",
              "      <td>Yes</td>\n",
              "      <td>0</td>\n",
              "    </tr>\n",
              "  </tbody>\n",
              "</table>\n",
              "</div>"
            ],
            "text/plain": [
              "       Name  Gender   Age           City Working Professional or Student  \\\n",
              "0  Aaradhya  Female  49.0       Ludhiana            Working Professional   \n",
              "1     Vivan    Male  26.0       Varanasi            Working Professional   \n",
              "2    Yuvraj    Male  33.0  Visakhapatnam                         Student   \n",
              "3    Yuvraj    Male  22.0         Mumbai            Working Professional   \n",
              "4      Rhea  Female  30.0         Kanpur            Working Professional   \n",
              "\n",
              "         Profession  Academic Pressure  Work Pressure  CGPA  \\\n",
              "0              Chef                NaN            5.0   NaN   \n",
              "1           Teacher                NaN            4.0   NaN   \n",
              "2               NaN                5.0            NaN  8.97   \n",
              "3           Teacher                NaN            5.0   NaN   \n",
              "4  Business Analyst                NaN            1.0   NaN   \n",
              "\n",
              "   Study Satisfaction  Job Satisfaction     Sleep Duration Dietary Habits  \\\n",
              "0                 NaN               2.0  More than 8 hours        Healthy   \n",
              "1                 NaN               3.0  Less than 5 hours      Unhealthy   \n",
              "2                 2.0               NaN          5-6 hours        Healthy   \n",
              "3                 NaN               1.0  Less than 5 hours       Moderate   \n",
              "4                 NaN               1.0          5-6 hours      Unhealthy   \n",
              "\n",
              "    Degree Have you ever had suicidal thoughts ?  Work/Study Hours  \\\n",
              "0      BHM                                    No               1.0   \n",
              "1      LLB                                   Yes               7.0   \n",
              "2  B.Pharm                                   Yes               3.0   \n",
              "3      BBA                                   Yes              10.0   \n",
              "4      BBA                                   Yes               9.0   \n",
              "\n",
              "   Financial Stress Family History of Mental Illness  Depression  \n",
              "0               2.0                               No           0  \n",
              "1               3.0                               No           1  \n",
              "2               1.0                               No           1  \n",
              "3               1.0                              Yes           1  \n",
              "4               4.0                              Yes           0  "
            ]
          },
          "execution_count": 5,
          "metadata": {},
          "output_type": "execute_result"
        }
      ],
      "source": [
        "df.head()"
      ]
    },
    {
      "cell_type": "code",
      "execution_count": 6,
      "metadata": {
        "id": "u_JtJLNeMRyj"
      },
      "outputs": [],
      "source": [
        "df.drop(\"Name\",axis=1,inplace=True)"
      ]
    },
    {
      "cell_type": "code",
      "execution_count": 7,
      "metadata": {
        "colab": {
          "base_uri": "https://localhost:8080/",
          "height": 382
        },
        "id": "8l7sIWi1M0Hb",
        "outputId": "b96013cb-6fd8-40a1-ab70-0f4b4874f424"
      },
      "outputs": [
        {
          "data": {
            "text/html": [
              "<div>\n",
              "<style scoped>\n",
              "    .dataframe tbody tr th:only-of-type {\n",
              "        vertical-align: middle;\n",
              "    }\n",
              "\n",
              "    .dataframe tbody tr th {\n",
              "        vertical-align: top;\n",
              "    }\n",
              "\n",
              "    .dataframe thead th {\n",
              "        text-align: right;\n",
              "    }\n",
              "</style>\n",
              "<table border=\"1\" class=\"dataframe\">\n",
              "  <thead>\n",
              "    <tr style=\"text-align: right;\">\n",
              "      <th></th>\n",
              "      <th>Gender</th>\n",
              "      <th>Age</th>\n",
              "      <th>City</th>\n",
              "      <th>Working Professional or Student</th>\n",
              "      <th>Profession</th>\n",
              "      <th>Academic Pressure</th>\n",
              "      <th>Work Pressure</th>\n",
              "      <th>CGPA</th>\n",
              "      <th>Study Satisfaction</th>\n",
              "      <th>Job Satisfaction</th>\n",
              "      <th>Sleep Duration</th>\n",
              "      <th>Dietary Habits</th>\n",
              "      <th>Degree</th>\n",
              "      <th>Have you ever had suicidal thoughts ?</th>\n",
              "      <th>Work/Study Hours</th>\n",
              "      <th>Financial Stress</th>\n",
              "      <th>Family History of Mental Illness</th>\n",
              "      <th>Depression</th>\n",
              "    </tr>\n",
              "  </thead>\n",
              "  <tbody>\n",
              "    <tr>\n",
              "      <th>0</th>\n",
              "      <td>Female</td>\n",
              "      <td>49.0</td>\n",
              "      <td>Ludhiana</td>\n",
              "      <td>Working Professional</td>\n",
              "      <td>Chef</td>\n",
              "      <td>NaN</td>\n",
              "      <td>5.0</td>\n",
              "      <td>NaN</td>\n",
              "      <td>NaN</td>\n",
              "      <td>2.0</td>\n",
              "      <td>More than 8 hours</td>\n",
              "      <td>Healthy</td>\n",
              "      <td>BHM</td>\n",
              "      <td>No</td>\n",
              "      <td>1.0</td>\n",
              "      <td>2.0</td>\n",
              "      <td>No</td>\n",
              "      <td>0</td>\n",
              "    </tr>\n",
              "    <tr>\n",
              "      <th>1</th>\n",
              "      <td>Male</td>\n",
              "      <td>26.0</td>\n",
              "      <td>Varanasi</td>\n",
              "      <td>Working Professional</td>\n",
              "      <td>Teacher</td>\n",
              "      <td>NaN</td>\n",
              "      <td>4.0</td>\n",
              "      <td>NaN</td>\n",
              "      <td>NaN</td>\n",
              "      <td>3.0</td>\n",
              "      <td>Less than 5 hours</td>\n",
              "      <td>Unhealthy</td>\n",
              "      <td>LLB</td>\n",
              "      <td>Yes</td>\n",
              "      <td>7.0</td>\n",
              "      <td>3.0</td>\n",
              "      <td>No</td>\n",
              "      <td>1</td>\n",
              "    </tr>\n",
              "    <tr>\n",
              "      <th>2</th>\n",
              "      <td>Male</td>\n",
              "      <td>33.0</td>\n",
              "      <td>Visakhapatnam</td>\n",
              "      <td>Student</td>\n",
              "      <td>NaN</td>\n",
              "      <td>5.0</td>\n",
              "      <td>NaN</td>\n",
              "      <td>8.97</td>\n",
              "      <td>2.0</td>\n",
              "      <td>NaN</td>\n",
              "      <td>5-6 hours</td>\n",
              "      <td>Healthy</td>\n",
              "      <td>B.Pharm</td>\n",
              "      <td>Yes</td>\n",
              "      <td>3.0</td>\n",
              "      <td>1.0</td>\n",
              "      <td>No</td>\n",
              "      <td>1</td>\n",
              "    </tr>\n",
              "    <tr>\n",
              "      <th>3</th>\n",
              "      <td>Male</td>\n",
              "      <td>22.0</td>\n",
              "      <td>Mumbai</td>\n",
              "      <td>Working Professional</td>\n",
              "      <td>Teacher</td>\n",
              "      <td>NaN</td>\n",
              "      <td>5.0</td>\n",
              "      <td>NaN</td>\n",
              "      <td>NaN</td>\n",
              "      <td>1.0</td>\n",
              "      <td>Less than 5 hours</td>\n",
              "      <td>Moderate</td>\n",
              "      <td>BBA</td>\n",
              "      <td>Yes</td>\n",
              "      <td>10.0</td>\n",
              "      <td>1.0</td>\n",
              "      <td>Yes</td>\n",
              "      <td>1</td>\n",
              "    </tr>\n",
              "    <tr>\n",
              "      <th>4</th>\n",
              "      <td>Female</td>\n",
              "      <td>30.0</td>\n",
              "      <td>Kanpur</td>\n",
              "      <td>Working Professional</td>\n",
              "      <td>Business Analyst</td>\n",
              "      <td>NaN</td>\n",
              "      <td>1.0</td>\n",
              "      <td>NaN</td>\n",
              "      <td>NaN</td>\n",
              "      <td>1.0</td>\n",
              "      <td>5-6 hours</td>\n",
              "      <td>Unhealthy</td>\n",
              "      <td>BBA</td>\n",
              "      <td>Yes</td>\n",
              "      <td>9.0</td>\n",
              "      <td>4.0</td>\n",
              "      <td>Yes</td>\n",
              "      <td>0</td>\n",
              "    </tr>\n",
              "  </tbody>\n",
              "</table>\n",
              "</div>"
            ],
            "text/plain": [
              "   Gender   Age           City Working Professional or Student  \\\n",
              "0  Female  49.0       Ludhiana            Working Professional   \n",
              "1    Male  26.0       Varanasi            Working Professional   \n",
              "2    Male  33.0  Visakhapatnam                         Student   \n",
              "3    Male  22.0         Mumbai            Working Professional   \n",
              "4  Female  30.0         Kanpur            Working Professional   \n",
              "\n",
              "         Profession  Academic Pressure  Work Pressure  CGPA  \\\n",
              "0              Chef                NaN            5.0   NaN   \n",
              "1           Teacher                NaN            4.0   NaN   \n",
              "2               NaN                5.0            NaN  8.97   \n",
              "3           Teacher                NaN            5.0   NaN   \n",
              "4  Business Analyst                NaN            1.0   NaN   \n",
              "\n",
              "   Study Satisfaction  Job Satisfaction     Sleep Duration Dietary Habits  \\\n",
              "0                 NaN               2.0  More than 8 hours        Healthy   \n",
              "1                 NaN               3.0  Less than 5 hours      Unhealthy   \n",
              "2                 2.0               NaN          5-6 hours        Healthy   \n",
              "3                 NaN               1.0  Less than 5 hours       Moderate   \n",
              "4                 NaN               1.0          5-6 hours      Unhealthy   \n",
              "\n",
              "    Degree Have you ever had suicidal thoughts ?  Work/Study Hours  \\\n",
              "0      BHM                                    No               1.0   \n",
              "1      LLB                                   Yes               7.0   \n",
              "2  B.Pharm                                   Yes               3.0   \n",
              "3      BBA                                   Yes              10.0   \n",
              "4      BBA                                   Yes               9.0   \n",
              "\n",
              "   Financial Stress Family History of Mental Illness  Depression  \n",
              "0               2.0                               No           0  \n",
              "1               3.0                               No           1  \n",
              "2               1.0                               No           1  \n",
              "3               1.0                              Yes           1  \n",
              "4               4.0                              Yes           0  "
            ]
          },
          "execution_count": 7,
          "metadata": {},
          "output_type": "execute_result"
        }
      ],
      "source": [
        "df.head()"
      ]
    },
    {
      "cell_type": "code",
      "execution_count": 8,
      "metadata": {
        "id": "WzHoKM70yKUj"
      },
      "outputs": [],
      "source": [
        "import seaborn as sns\n",
        "import matplotlib as plt"
      ]
    },
    {
      "cell_type": "code",
      "execution_count": 9,
      "metadata": {
        "colab": {
          "base_uri": "https://localhost:8080/",
          "height": 178
        },
        "id": "E9IM4pm2M1q0",
        "outputId": "0469f2bc-e600-4945-d8a7-862346f1c801"
      },
      "outputs": [
        {
          "data": {
            "text/plain": [
              "Gender\n",
              "Male      77464\n",
              "Female    63236\n",
              "Name: count, dtype: int64"
            ]
          },
          "execution_count": 9,
          "metadata": {},
          "output_type": "execute_result"
        }
      ],
      "source": [
        "df[\"Gender\"].value_counts()"
      ]
    },
    {
      "cell_type": "code",
      "execution_count": 10,
      "metadata": {
        "colab": {
          "base_uri": "https://localhost:8080/",
          "height": 648
        },
        "id": "AMyDA3CivoqF",
        "outputId": "26e72cfd-7676-4828-8175-9ab6073f10d0"
      },
      "outputs": [
        {
          "data": {
            "text/plain": [
              "Gender                                        0\n",
              "Age                                           0\n",
              "City                                          0\n",
              "Working Professional or Student               0\n",
              "Profession                                36630\n",
              "Academic Pressure                        112803\n",
              "Work Pressure                             27918\n",
              "CGPA                                     112802\n",
              "Study Satisfaction                       112803\n",
              "Job Satisfaction                          27910\n",
              "Sleep Duration                                0\n",
              "Dietary Habits                                4\n",
              "Degree                                        2\n",
              "Have you ever had suicidal thoughts ?         0\n",
              "Work/Study Hours                              0\n",
              "Financial Stress                              4\n",
              "Family History of Mental Illness              0\n",
              "Depression                                    0\n",
              "dtype: int64"
            ]
          },
          "execution_count": 10,
          "metadata": {},
          "output_type": "execute_result"
        }
      ],
      "source": [
        "df.isnull().sum()"
      ]
    },
    {
      "cell_type": "code",
      "execution_count": 11,
      "metadata": {
        "colab": {
          "base_uri": "https://localhost:8080/",
          "height": 382
        },
        "id": "nIdZuiKKUWNV",
        "outputId": "e67baa9a-ed4f-415a-ca75-84ce92948cb1"
      },
      "outputs": [
        {
          "data": {
            "text/html": [
              "<div>\n",
              "<style scoped>\n",
              "    .dataframe tbody tr th:only-of-type {\n",
              "        vertical-align: middle;\n",
              "    }\n",
              "\n",
              "    .dataframe tbody tr th {\n",
              "        vertical-align: top;\n",
              "    }\n",
              "\n",
              "    .dataframe thead th {\n",
              "        text-align: right;\n",
              "    }\n",
              "</style>\n",
              "<table border=\"1\" class=\"dataframe\">\n",
              "  <thead>\n",
              "    <tr style=\"text-align: right;\">\n",
              "      <th></th>\n",
              "      <th>Gender</th>\n",
              "      <th>Age</th>\n",
              "      <th>City</th>\n",
              "      <th>Working Professional or Student</th>\n",
              "      <th>Profession</th>\n",
              "      <th>Academic Pressure</th>\n",
              "      <th>Work Pressure</th>\n",
              "      <th>CGPA</th>\n",
              "      <th>Study Satisfaction</th>\n",
              "      <th>Job Satisfaction</th>\n",
              "      <th>Sleep Duration</th>\n",
              "      <th>Dietary Habits</th>\n",
              "      <th>Degree</th>\n",
              "      <th>Have you ever had suicidal thoughts ?</th>\n",
              "      <th>Work/Study Hours</th>\n",
              "      <th>Financial Stress</th>\n",
              "      <th>Family History of Mental Illness</th>\n",
              "      <th>Depression</th>\n",
              "    </tr>\n",
              "  </thead>\n",
              "  <tbody>\n",
              "    <tr>\n",
              "      <th>0</th>\n",
              "      <td>Female</td>\n",
              "      <td>49.0</td>\n",
              "      <td>Ludhiana</td>\n",
              "      <td>Working Professional</td>\n",
              "      <td>Chef</td>\n",
              "      <td>NaN</td>\n",
              "      <td>5.0</td>\n",
              "      <td>NaN</td>\n",
              "      <td>NaN</td>\n",
              "      <td>2.0</td>\n",
              "      <td>More than 8 hours</td>\n",
              "      <td>Healthy</td>\n",
              "      <td>BHM</td>\n",
              "      <td>No</td>\n",
              "      <td>1.0</td>\n",
              "      <td>2.0</td>\n",
              "      <td>No</td>\n",
              "      <td>0</td>\n",
              "    </tr>\n",
              "    <tr>\n",
              "      <th>1</th>\n",
              "      <td>Male</td>\n",
              "      <td>26.0</td>\n",
              "      <td>Varanasi</td>\n",
              "      <td>Working Professional</td>\n",
              "      <td>Teacher</td>\n",
              "      <td>NaN</td>\n",
              "      <td>4.0</td>\n",
              "      <td>NaN</td>\n",
              "      <td>NaN</td>\n",
              "      <td>3.0</td>\n",
              "      <td>Less than 5 hours</td>\n",
              "      <td>Unhealthy</td>\n",
              "      <td>LLB</td>\n",
              "      <td>Yes</td>\n",
              "      <td>7.0</td>\n",
              "      <td>3.0</td>\n",
              "      <td>No</td>\n",
              "      <td>1</td>\n",
              "    </tr>\n",
              "    <tr>\n",
              "      <th>2</th>\n",
              "      <td>Male</td>\n",
              "      <td>33.0</td>\n",
              "      <td>Visakhapatnam</td>\n",
              "      <td>Student</td>\n",
              "      <td>NaN</td>\n",
              "      <td>5.0</td>\n",
              "      <td>NaN</td>\n",
              "      <td>8.97</td>\n",
              "      <td>2.0</td>\n",
              "      <td>NaN</td>\n",
              "      <td>5-6 hours</td>\n",
              "      <td>Healthy</td>\n",
              "      <td>B.Pharm</td>\n",
              "      <td>Yes</td>\n",
              "      <td>3.0</td>\n",
              "      <td>1.0</td>\n",
              "      <td>No</td>\n",
              "      <td>1</td>\n",
              "    </tr>\n",
              "    <tr>\n",
              "      <th>3</th>\n",
              "      <td>Male</td>\n",
              "      <td>22.0</td>\n",
              "      <td>Mumbai</td>\n",
              "      <td>Working Professional</td>\n",
              "      <td>Teacher</td>\n",
              "      <td>NaN</td>\n",
              "      <td>5.0</td>\n",
              "      <td>NaN</td>\n",
              "      <td>NaN</td>\n",
              "      <td>1.0</td>\n",
              "      <td>Less than 5 hours</td>\n",
              "      <td>Moderate</td>\n",
              "      <td>BBA</td>\n",
              "      <td>Yes</td>\n",
              "      <td>10.0</td>\n",
              "      <td>1.0</td>\n",
              "      <td>Yes</td>\n",
              "      <td>1</td>\n",
              "    </tr>\n",
              "    <tr>\n",
              "      <th>4</th>\n",
              "      <td>Female</td>\n",
              "      <td>30.0</td>\n",
              "      <td>Kanpur</td>\n",
              "      <td>Working Professional</td>\n",
              "      <td>Business Analyst</td>\n",
              "      <td>NaN</td>\n",
              "      <td>1.0</td>\n",
              "      <td>NaN</td>\n",
              "      <td>NaN</td>\n",
              "      <td>1.0</td>\n",
              "      <td>5-6 hours</td>\n",
              "      <td>Unhealthy</td>\n",
              "      <td>BBA</td>\n",
              "      <td>Yes</td>\n",
              "      <td>9.0</td>\n",
              "      <td>4.0</td>\n",
              "      <td>Yes</td>\n",
              "      <td>0</td>\n",
              "    </tr>\n",
              "  </tbody>\n",
              "</table>\n",
              "</div>"
            ],
            "text/plain": [
              "   Gender   Age           City Working Professional or Student  \\\n",
              "0  Female  49.0       Ludhiana            Working Professional   \n",
              "1    Male  26.0       Varanasi            Working Professional   \n",
              "2    Male  33.0  Visakhapatnam                         Student   \n",
              "3    Male  22.0         Mumbai            Working Professional   \n",
              "4  Female  30.0         Kanpur            Working Professional   \n",
              "\n",
              "         Profession  Academic Pressure  Work Pressure  CGPA  \\\n",
              "0              Chef                NaN            5.0   NaN   \n",
              "1           Teacher                NaN            4.0   NaN   \n",
              "2               NaN                5.0            NaN  8.97   \n",
              "3           Teacher                NaN            5.0   NaN   \n",
              "4  Business Analyst                NaN            1.0   NaN   \n",
              "\n",
              "   Study Satisfaction  Job Satisfaction     Sleep Duration Dietary Habits  \\\n",
              "0                 NaN               2.0  More than 8 hours        Healthy   \n",
              "1                 NaN               3.0  Less than 5 hours      Unhealthy   \n",
              "2                 2.0               NaN          5-6 hours        Healthy   \n",
              "3                 NaN               1.0  Less than 5 hours       Moderate   \n",
              "4                 NaN               1.0          5-6 hours      Unhealthy   \n",
              "\n",
              "    Degree Have you ever had suicidal thoughts ?  Work/Study Hours  \\\n",
              "0      BHM                                    No               1.0   \n",
              "1      LLB                                   Yes               7.0   \n",
              "2  B.Pharm                                   Yes               3.0   \n",
              "3      BBA                                   Yes              10.0   \n",
              "4      BBA                                   Yes               9.0   \n",
              "\n",
              "   Financial Stress Family History of Mental Illness  Depression  \n",
              "0               2.0                               No           0  \n",
              "1               3.0                               No           1  \n",
              "2               1.0                               No           1  \n",
              "3               1.0                              Yes           1  \n",
              "4               4.0                              Yes           0  "
            ]
          },
          "execution_count": 11,
          "metadata": {},
          "output_type": "execute_result"
        }
      ],
      "source": [
        "df.head()"
      ]
    },
    {
      "cell_type": "code",
      "execution_count": 12,
      "metadata": {
        "colab": {
          "base_uri": "https://localhost:8080/"
        },
        "id": "m1sbsObWWaUY",
        "outputId": "8103ffd9-41e1-4d19-954b-7dfa4bbb003d"
      },
      "outputs": [
        {
          "name": "stdout",
          "output_type": "stream",
          "text": [
            "<class 'pandas.core.frame.DataFrame'>\n",
            "RangeIndex: 140700 entries, 0 to 140699\n",
            "Data columns (total 18 columns):\n",
            " #   Column                                 Non-Null Count   Dtype  \n",
            "---  ------                                 --------------   -----  \n",
            " 0   Gender                                 140700 non-null  object \n",
            " 1   Age                                    140700 non-null  float64\n",
            " 2   City                                   140700 non-null  object \n",
            " 3   Working Professional or Student        140700 non-null  object \n",
            " 4   Profession                             104070 non-null  object \n",
            " 5   Academic Pressure                      27897 non-null   float64\n",
            " 6   Work Pressure                          112782 non-null  float64\n",
            " 7   CGPA                                   27898 non-null   float64\n",
            " 8   Study Satisfaction                     27897 non-null   float64\n",
            " 9   Job Satisfaction                       112790 non-null  float64\n",
            " 10  Sleep Duration                         140700 non-null  object \n",
            " 11  Dietary Habits                         140696 non-null  object \n",
            " 12  Degree                                 140698 non-null  object \n",
            " 13  Have you ever had suicidal thoughts ?  140700 non-null  object \n",
            " 14  Work/Study Hours                       140700 non-null  float64\n",
            " 15  Financial Stress                       140696 non-null  float64\n",
            " 16  Family History of Mental Illness       140700 non-null  object \n",
            " 17  Depression                             140700 non-null  int64  \n",
            "dtypes: float64(8), int64(1), object(9)\n",
            "memory usage: 19.3+ MB\n"
          ]
        }
      ],
      "source": [
        "df.info()"
      ]
    },
    {
      "cell_type": "code",
      "execution_count": 13,
      "metadata": {
        "colab": {
          "base_uri": "https://localhost:8080/"
        },
        "id": "KIifPswMW_za",
        "outputId": "79ab7d70-d16e-4147-ba12-8be66fdf456c"
      },
      "outputs": [
        {
          "name": "stdout",
          "output_type": "stream",
          "text": [
            "Study Satisfaction                       80.172708\n",
            "Academic Pressure                        80.172708\n",
            "CGPA                                     80.171997\n",
            "Profession                               26.034115\n",
            "Work Pressure                            19.842217\n",
            "Job Satisfaction                         19.836532\n",
            "Financial Stress                          0.002843\n",
            "Dietary Habits                            0.002843\n",
            "Degree                                    0.001421\n",
            "Gender                                    0.000000\n",
            "Age                                       0.000000\n",
            "City                                      0.000000\n",
            "Working Professional or Student           0.000000\n",
            "Sleep Duration                            0.000000\n",
            "Have you ever had suicidal thoughts ?     0.000000\n",
            "Work/Study Hours                          0.000000\n",
            "Family History of Mental Illness          0.000000\n",
            "Depression                                0.000000\n",
            "dtype: float64\n"
          ]
        }
      ],
      "source": [
        "missing_percentage = df.isnull().mean() * 100\n",
        "\n",
        "missing_percentage = missing_percentage.sort_values(ascending=False)\n",
        "\n",
        "print(missing_percentage)"
      ]
    },
    {
      "cell_type": "code",
      "execution_count": 14,
      "metadata": {
        "colab": {
          "base_uri": "https://localhost:8080/",
          "height": 417
        },
        "id": "KUPJ4HVRXHQQ",
        "outputId": "9e89078a-3a82-4ff6-a327-07da7d931fa5"
      },
      "outputs": [
        {
          "data": {
            "text/html": [
              "<div>\n",
              "<style scoped>\n",
              "    .dataframe tbody tr th:only-of-type {\n",
              "        vertical-align: middle;\n",
              "    }\n",
              "\n",
              "    .dataframe tbody tr th {\n",
              "        vertical-align: top;\n",
              "    }\n",
              "\n",
              "    .dataframe thead th {\n",
              "        text-align: right;\n",
              "    }\n",
              "</style>\n",
              "<table border=\"1\" class=\"dataframe\">\n",
              "  <thead>\n",
              "    <tr style=\"text-align: right;\">\n",
              "      <th></th>\n",
              "      <th>Gender</th>\n",
              "      <th>Age</th>\n",
              "      <th>City</th>\n",
              "      <th>Working Professional or Student</th>\n",
              "      <th>Profession</th>\n",
              "      <th>Work Pressure</th>\n",
              "      <th>Job Satisfaction</th>\n",
              "      <th>Sleep Duration</th>\n",
              "      <th>Dietary Habits</th>\n",
              "      <th>Degree</th>\n",
              "      <th>Have you ever had suicidal thoughts ?</th>\n",
              "      <th>Work/Study Hours</th>\n",
              "      <th>Financial Stress</th>\n",
              "      <th>Family History of Mental Illness</th>\n",
              "      <th>Depression</th>\n",
              "    </tr>\n",
              "  </thead>\n",
              "  <tbody>\n",
              "    <tr>\n",
              "      <th>69541</th>\n",
              "      <td>Male</td>\n",
              "      <td>41.0</td>\n",
              "      <td>Vasai-Virar</td>\n",
              "      <td>Working Professional</td>\n",
              "      <td>Entrepreneur</td>\n",
              "      <td>4.0</td>\n",
              "      <td>3.0</td>\n",
              "      <td>7-8 hours</td>\n",
              "      <td>Moderate</td>\n",
              "      <td>BSc</td>\n",
              "      <td>Yes</td>\n",
              "      <td>0.0</td>\n",
              "      <td>2.0</td>\n",
              "      <td>Yes</td>\n",
              "      <td>0</td>\n",
              "    </tr>\n",
              "    <tr>\n",
              "      <th>24041</th>\n",
              "      <td>Male</td>\n",
              "      <td>26.0</td>\n",
              "      <td>Varanasi</td>\n",
              "      <td>Student</td>\n",
              "      <td>NaN</td>\n",
              "      <td>NaN</td>\n",
              "      <td>NaN</td>\n",
              "      <td>7-8 hours</td>\n",
              "      <td>Moderate</td>\n",
              "      <td>BBA</td>\n",
              "      <td>Yes</td>\n",
              "      <td>12.0</td>\n",
              "      <td>4.0</td>\n",
              "      <td>Yes</td>\n",
              "      <td>1</td>\n",
              "    </tr>\n",
              "    <tr>\n",
              "      <th>27151</th>\n",
              "      <td>Male</td>\n",
              "      <td>34.0</td>\n",
              "      <td>Jaipur</td>\n",
              "      <td>Student</td>\n",
              "      <td>NaN</td>\n",
              "      <td>NaN</td>\n",
              "      <td>NaN</td>\n",
              "      <td>More than 8 hours</td>\n",
              "      <td>Healthy</td>\n",
              "      <td>B.Com</td>\n",
              "      <td>No</td>\n",
              "      <td>5.0</td>\n",
              "      <td>1.0</td>\n",
              "      <td>Yes</td>\n",
              "      <td>0</td>\n",
              "    </tr>\n",
              "    <tr>\n",
              "      <th>68927</th>\n",
              "      <td>Male</td>\n",
              "      <td>50.0</td>\n",
              "      <td>Ghaziabad</td>\n",
              "      <td>Working Professional</td>\n",
              "      <td>Doctor</td>\n",
              "      <td>5.0</td>\n",
              "      <td>3.0</td>\n",
              "      <td>More than 8 hours</td>\n",
              "      <td>Moderate</td>\n",
              "      <td>MD</td>\n",
              "      <td>Yes</td>\n",
              "      <td>2.0</td>\n",
              "      <td>4.0</td>\n",
              "      <td>No</td>\n",
              "      <td>0</td>\n",
              "    </tr>\n",
              "    <tr>\n",
              "      <th>127147</th>\n",
              "      <td>Male</td>\n",
              "      <td>49.0</td>\n",
              "      <td>Patna</td>\n",
              "      <td>Working Professional</td>\n",
              "      <td>Sales Executive</td>\n",
              "      <td>1.0</td>\n",
              "      <td>4.0</td>\n",
              "      <td>7-8 hours</td>\n",
              "      <td>Healthy</td>\n",
              "      <td>MBA</td>\n",
              "      <td>No</td>\n",
              "      <td>12.0</td>\n",
              "      <td>1.0</td>\n",
              "      <td>Yes</td>\n",
              "      <td>0</td>\n",
              "    </tr>\n",
              "  </tbody>\n",
              "</table>\n",
              "</div>"
            ],
            "text/plain": [
              "       Gender   Age         City Working Professional or Student  \\\n",
              "69541    Male  41.0  Vasai-Virar            Working Professional   \n",
              "24041    Male  26.0     Varanasi                         Student   \n",
              "27151    Male  34.0       Jaipur                         Student   \n",
              "68927    Male  50.0    Ghaziabad            Working Professional   \n",
              "127147   Male  49.0        Patna            Working Professional   \n",
              "\n",
              "             Profession  Work Pressure  Job Satisfaction     Sleep Duration  \\\n",
              "69541      Entrepreneur            4.0               3.0          7-8 hours   \n",
              "24041               NaN            NaN               NaN          7-8 hours   \n",
              "27151               NaN            NaN               NaN  More than 8 hours   \n",
              "68927            Doctor            5.0               3.0  More than 8 hours   \n",
              "127147  Sales Executive            1.0               4.0          7-8 hours   \n",
              "\n",
              "       Dietary Habits Degree Have you ever had suicidal thoughts ?  \\\n",
              "69541        Moderate    BSc                                   Yes   \n",
              "24041        Moderate    BBA                                   Yes   \n",
              "27151         Healthy  B.Com                                    No   \n",
              "68927        Moderate     MD                                   Yes   \n",
              "127147        Healthy    MBA                                    No   \n",
              "\n",
              "        Work/Study Hours  Financial Stress Family History of Mental Illness  \\\n",
              "69541                0.0               2.0                              Yes   \n",
              "24041               12.0               4.0                              Yes   \n",
              "27151                5.0               1.0                              Yes   \n",
              "68927                2.0               4.0                               No   \n",
              "127147              12.0               1.0                              Yes   \n",
              "\n",
              "        Depression  \n",
              "69541            0  \n",
              "24041            1  \n",
              "27151            0  \n",
              "68927            0  \n",
              "127147           0  "
            ]
          },
          "execution_count": 14,
          "metadata": {},
          "output_type": "execute_result"
        }
      ],
      "source": [
        "\n",
        "# Dropping the Unique identifier columns and maximum missing containing columns\n",
        "df=df.drop(columns=['Academic Pressure', 'CGPA', 'Study Satisfaction'])\n",
        "df.sample(5)"
      ]
    },
    {
      "cell_type": "code",
      "execution_count": 15,
      "metadata": {
        "colab": {
          "base_uri": "https://localhost:8080/"
        },
        "id": "dHGw-gm0XKd1",
        "outputId": "52478ce6-3391-4032-bfdb-38d66b065c74"
      },
      "outputs": [
        {
          "data": {
            "text/plain": [
              "(140690, 15)"
            ]
          },
          "execution_count": 15,
          "metadata": {},
          "output_type": "execute_result"
        }
      ],
      "source": [
        "df = df.dropna(subset=[\"Dietary Habits\",\"Financial Stress\",\"Degree\"])\n",
        "df.shape"
      ]
    },
    {
      "cell_type": "code",
      "execution_count": 16,
      "metadata": {
        "id": "6lNK3gznXQth"
      },
      "outputs": [],
      "source": [
        "numerical_cols = ['Age', 'Work Pressure', 'Job Satisfaction', 'Work/Study Hours', 'Financial Stress']\n",
        "\n",
        "categorical_cols=['Gender', 'City', 'Working Professional or Student', 'Profession', 'Sleep Duration', 'Dietary Habits', 'Degree', 'Have you ever had suicidal thoughts ?', 'Family History of Mental Illness', 'Depression']"
      ]
    },
    {
      "cell_type": "code",
      "execution_count": 17,
      "metadata": {
        "colab": {
          "base_uri": "https://localhost:8080/"
        },
        "id": "WS6zqwGoXRSZ",
        "outputId": "f16b6b72-c0e6-40e1-be77-db8e9b5dc1d8"
      },
      "outputs": [
        {
          "name": "stdout",
          "output_type": "stream",
          "text": [
            "\n",
            "--- Unique values in 'Gender' ---\n",
            "['Female' 'Male']\n",
            "\n",
            "--- Unique values in 'City' ---\n",
            "['Ludhiana' 'Varanasi' 'Visakhapatnam' 'Mumbai' 'Kanpur' 'Ahmedabad'\n",
            " 'Thane' 'Nashik' 'Bangalore' 'Patna' 'Rajkot' 'Jaipur' 'Pune' 'Lucknow'\n",
            " 'Meerut' 'Agra' 'Surat' 'Faridabad' 'Hyderabad' 'Srinagar' 'Ghaziabad'\n",
            " 'Kolkata' 'Chennai' 'Kalyan' 'Nagpur' 'Vadodara' 'Vasai-Virar' 'Delhi'\n",
            " 'Bhopal' 'Indore' 'Ishanabad' 'Vidhi' 'Ayush' 'Gurgaon' 'Krishna'\n",
            " 'Aishwarya' 'Keshav' 'Harsha' 'Nalini' 'Aditya' 'Malyansh' 'Raghavendra'\n",
            " 'Saanvi' 'M.Tech' 'Bhavna' 'Less Delhi' 'Nandini' 'M.Com' 'Plata'\n",
            " 'Atharv' 'Pratyush' 'City' '3.0' 'Less than 5 Kalyan' 'MCA' 'Mira'\n",
            " 'Moreadhyay' 'Morena' 'Ishkarsh' 'Kashk' 'Mihir' 'Vidya' 'Tolkata' 'Anvi'\n",
            " 'Krinda' 'Ayansh' 'Shrey' 'Ivaan' 'Vaanya' 'Gaurav' 'Harsh' 'Reyansh'\n",
            " 'Kashish' 'Kibara' 'Vaishnavi' 'Chhavi' 'Parth' 'Mahi' 'Tushar' 'MSc'\n",
            " 'No' 'Rashi' 'ME' 'Molkata' 'Researcher' 'Kagan' 'Armaan' 'Ithal'\n",
            " 'Nalyan' 'Dhruv' 'Galesabad' 'Itheg' 'Aaradhya' 'Pooja' 'Khushi'\n",
            " 'Khaziabad' 'Jhanvi' 'Unirar']\n",
            "\n",
            "--- Unique values in 'Working Professional or Student' ---\n",
            "['Working Professional' 'Student']\n",
            "\n",
            "--- Unique values in 'Profession' ---\n",
            "['Chef' 'Teacher' nan 'Business Analyst' 'Finanancial Analyst' 'Chemist'\n",
            " 'Electrician' 'Software Engineer' 'Data Scientist' 'Plumber'\n",
            " 'Marketing Manager' 'Accountant' 'Entrepreneur' 'HR Manager'\n",
            " 'UX/UI Designer' 'Content Writer' 'Educational Consultant'\n",
            " 'Civil Engineer' 'Manager' 'Pharmacist' 'Financial Analyst' 'Architect'\n",
            " 'Mechanical Engineer' 'Customer Support' 'Consultant' 'Judge'\n",
            " 'Researcher' 'Pilot' 'Graphic Designer' 'Travel Consultant'\n",
            " 'Digital Marketer' 'Lawyer' 'Research Analyst' 'Sales Executive' 'Doctor'\n",
            " 'Unemployed' 'Investment Banker' 'Family Consultant' 'B.Com' 'BE'\n",
            " 'Student' 'Yogesh' 'Dev' 'MBA' 'LLM' 'BCA' 'Academic' 'Profession'\n",
            " 'FamilyVirar' 'City Manager' 'BBA' 'Medical Doctor'\n",
            " 'Working Professional' 'MBBS' 'Patna' 'Unveil' 'B.Ed' 'Nagpur' 'Moderate'\n",
            " 'M.Ed' 'Analyst' 'Pranav' 'Visakhapatnam' 'PhD' 'Yuvraj']\n",
            "\n",
            "--- Unique values in 'Sleep Duration' ---\n",
            "['More than 8 hours' 'Less than 5 hours' '5-6 hours' '7-8 hours'\n",
            " 'Sleep_Duration' '1-2 hours' '6-8 hours' '4-6 hours' '6-7 hours'\n",
            " '10-11 hours' '8-9 hours' '40-45 hours' '9-11 hours' '2-3 hours'\n",
            " '3-4 hours' 'Moderate' '55-66 hours' '4-5 hours' '9-6 hours' '1-3 hours'\n",
            " 'Indore' '45' '1-6 hours' '35-36 hours' '8 hours' 'No' '10-6 hours'\n",
            " 'than 5 hours' '49 hours' 'Unhealthy' 'Work_Study_Hours' '3-6 hours'\n",
            " '45-48 hours' '9-5' 'Pune' '9-5 hours']\n",
            "\n",
            "--- Unique values in 'Dietary Habits' ---\n",
            "['Healthy' 'Unhealthy' 'Moderate' 'Yes' 'Pratham' 'BSc' 'Gender' '3'\n",
            " 'More Healthy' 'Less than Healthy' 'Mihir' '1.0' 'Hormonal' 'Electrician'\n",
            " 'No Healthy' 'Less Healthy' 'M.Tech' 'Vegas' 'No' 'Male' 'Indoor'\n",
            " 'Class 12' '2']\n",
            "\n",
            "--- Unique values in 'Degree' ---\n",
            "['BHM' 'LLB' 'B.Pharm' 'BBA' 'MCA' 'MD' 'BSc' 'ME' 'B.Arch' 'BCA' 'BE'\n",
            " 'MA' 'B.Ed' 'B.Com' 'MBA' 'M.Com' 'MHM' 'BA' 'Class 12' 'M.Tech' 'PhD'\n",
            " 'M.Ed' 'MSc' 'B.Tech' 'LLM' 'MBBS' 'M.Pharm' 'UX/UI Designer' 'MPA' 'BH'\n",
            " 'Nalini' 'BEd' 'B.Sc' 'Veda' 'Bhopal' 'S.Tech' 'Degree' '20' 'Class 11'\n",
            " 'H_Pharm' 'M' 'P.Com' 'BPharm' 'Business Analyst' 'M.Arch' 'LL.Com'\n",
            " 'Data Scientist' 'MPharm' 'L.Ed' 'P.Pharm' 'Kalyan' 'Unite' 'BArch'\n",
            " 'HR Manager' 'Badhya' 'S.Pharm' 'LLBA' 'Vrinda' 'M. Business Analyst'\n",
            " 'Bhavesh' '0' 'LLCom' '29' 'MTech' 'Vivaan' 'BPA' 'Plumber' '5.61' 'Brit'\n",
            " 'B.03' 'Ritik' '5.56' 'MEd' 'B' 'B BA' '7.06' 'B.B.Arch' 'ACA' 'Brithika'\n",
            " 'CGPA' '24' 'M_Tech' 'Pihu' 'BB' 'Jhanvi' 'LLTech' 'Aarav' 'Entrepreneur'\n",
            " '8.56' 'LHM' 'Lata' 'S.Arch' 'Marsh' 'HCA' '5.88' 'B.Student' 'LL B.Ed'\n",
            " 'M.S' 'Navya' 'Mahika' 'K.Ed' 'B.3.79' 'Mthanya' 'Working Professional'\n",
            " 'Esha' 'LLS' 'LLEd' 'E.Tech' 'Doctor' 'N.Pharm' 'LCA' 'B B.Com' 'RCA'\n",
            " 'Mihir' 'Advait']\n",
            "\n",
            "--- Unique values in 'Have you ever had suicidal thoughts ?' ---\n",
            "['No' 'Yes']\n",
            "\n",
            "--- Unique values in 'Family History of Mental Illness' ---\n",
            "['No' 'Yes']\n",
            "\n",
            "--- Unique values in 'Depression' ---\n",
            "[0 1]\n"
          ]
        }
      ],
      "source": [
        "\n",
        "# Loop through and print unique values\n",
        "for col in categorical_cols:\n",
        "    print(f\"\\n--- Unique values in '{col}' ---\")\n",
        "    print(df[col].unique())\n"
      ]
    },
    {
      "cell_type": "code",
      "execution_count": 18,
      "metadata": {
        "id": "xRo5JtRJfZdS"
      },
      "outputs": [],
      "source": [
        "import numpy as np"
      ]
    },
    {
      "cell_type": "code",
      "execution_count": 19,
      "metadata": {
        "id": "XpwN_Y4LXVih"
      },
      "outputs": [],
      "source": [
        "#cities\n",
        "valid_cities = [\n",
        "    'Ludhiana', 'Varanasi', 'Visakhapatnam', 'Mumbai', 'Kanpur', 'Ahmedabad',\n",
        "    'Thane', 'Nashik', 'Bangalore', 'Patna', 'Rajkot', 'Jaipur', 'Pune', 'Lucknow',\n",
        "    'Meerut', 'Agra', 'Surat', 'Faridabad', 'Hyderabad', 'Srinagar', 'Ghaziabad',\n",
        "    'Kolkata', 'Chennai', 'Kalyan', 'Nagpur', 'Vadodara', 'Vasai-Virar', 'Delhi',\n",
        "    'Bhopal', 'Indore', 'Gurgaon'\n",
        "]\n",
        "df['City'] = df['City'].apply(lambda x: x if x in valid_cities else np.nan)"
      ]
    },
    {
      "cell_type": "code",
      "execution_count": 20,
      "metadata": {
        "id": "nCrQ8WvBXV2X"
      },
      "outputs": [],
      "source": [
        "#Profession\n",
        "valid_professions = [\n",
        "    'Chef', 'Teacher', 'Business Analyst', 'Financial Analyst', 'Chemist',\n",
        "    'Electrician', 'Software Engineer', 'Data Scientist', 'Plumber',\n",
        "    'Marketing Manager', 'Accountant', 'Entrepreneur', 'HR Manager',\n",
        "    'UX/UI Designer', 'Content Writer', 'Mechanical Engineer',\n",
        "    'Consultant', 'Pharmacist', 'Educational Consultant',\n",
        "    'Civil Engineer', 'Manager', 'Customer Support', 'Architect',\n",
        "    'Digital Marketer', 'Lawyer', 'Investment Banker', 'Judge', 'Researcher',\n",
        "    'Doctor', 'Sales Executive', 'Pilot', 'Graphic Designer', 'Travel Consultant',\n",
        "    'Research Analyst', 'Family Consultant', 'Medical Doctor'\n",
        "]\n",
        "df['Profession'] = df['Profession'].apply(lambda x: x if x in valid_professions else np.nan)"
      ]
    },
    {
      "cell_type": "code",
      "execution_count": 21,
      "metadata": {
        "id": "xOjo1bphXY80"
      },
      "outputs": [],
      "source": [
        "\n",
        "#Sleep Duration\n",
        "valid_sleep_duration = [\n",
        "    'More than 8 hours', 'Less than 5 hours', '5-6 hours', '7-8 hours',\n",
        "    '1-2 hours', '6-8 hours', '4-6 hours', '6-7 hours', '8-9 hours',\n",
        "    '10-11 hours', '9-11 hours', '2-3 hours', '3-4 hours', '4-5 hours',\n",
        "    '8 hours'\n",
        "]\n",
        "df['Sleep Duration'] = df['Sleep Duration'].apply(lambda x: x if x in valid_sleep_duration else np.nan)"
      ]
    },
    {
      "cell_type": "code",
      "execution_count": 22,
      "metadata": {
        "id": "OZ1sjxC6XaDw"
      },
      "outputs": [],
      "source": [
        "#Dietary Habits\n",
        "valid_dietary_habits = ['Healthy', 'Unhealthy', 'Moderate']\n",
        "df['Dietary Habits'] = df['Dietary Habits'].apply(lambda x: x if x in valid_dietary_habits else np.nan)"
      ]
    },
    {
      "cell_type": "code",
      "execution_count": 23,
      "metadata": {
        "id": "f2ztzt8EXaA_"
      },
      "outputs": [],
      "source": [
        "\n",
        "#Degree\n",
        "valid_degrees = [\n",
        "    'BHM', 'LLB', 'B.Pharm', 'BBA', 'MCA', 'MD', 'BSc', 'ME', 'B.Arch', 'BCA',\n",
        "    'BE', 'MA', 'B.Ed', 'B.Com', 'MBA', 'M.Com', 'MHM', 'BA', 'M.Tech', 'PhD',\n",
        "    'M.Ed', 'MSc', 'B.Tech', 'LLM', 'MBBS', 'M.Pharm', 'M.Arch'\n",
        "]\n",
        "df['Degree'] = df['Degree'].apply(lambda x: x if x in valid_degrees else np.nan)\n"
      ]
    },
    {
      "cell_type": "code",
      "execution_count": 24,
      "metadata": {
        "colab": {
          "base_uri": "https://localhost:8080/",
          "height": 418
        },
        "id": "qfEFKWVSXZ99",
        "outputId": "653adfd5-f028-4ec3-ca7f-5d1ebd3dba14"
      },
      "outputs": [
        {
          "name": "stdout",
          "output_type": "stream",
          "text": [
            "(140690, 15)\n"
          ]
        },
        {
          "data": {
            "text/html": [
              "<div>\n",
              "<style scoped>\n",
              "    .dataframe tbody tr th:only-of-type {\n",
              "        vertical-align: middle;\n",
              "    }\n",
              "\n",
              "    .dataframe tbody tr th {\n",
              "        vertical-align: top;\n",
              "    }\n",
              "\n",
              "    .dataframe thead th {\n",
              "        text-align: right;\n",
              "    }\n",
              "</style>\n",
              "<table border=\"1\" class=\"dataframe\">\n",
              "  <thead>\n",
              "    <tr style=\"text-align: right;\">\n",
              "      <th></th>\n",
              "      <th>Gender</th>\n",
              "      <th>Age</th>\n",
              "      <th>City</th>\n",
              "      <th>Working Professional or Student</th>\n",
              "      <th>Profession</th>\n",
              "      <th>Work Pressure</th>\n",
              "      <th>Job Satisfaction</th>\n",
              "      <th>Sleep Duration</th>\n",
              "      <th>Dietary Habits</th>\n",
              "      <th>Degree</th>\n",
              "      <th>Have you ever had suicidal thoughts ?</th>\n",
              "      <th>Work/Study Hours</th>\n",
              "      <th>Financial Stress</th>\n",
              "      <th>Family History of Mental Illness</th>\n",
              "      <th>Depression</th>\n",
              "    </tr>\n",
              "  </thead>\n",
              "  <tbody>\n",
              "    <tr>\n",
              "      <th>20082</th>\n",
              "      <td>Female</td>\n",
              "      <td>24.0</td>\n",
              "      <td>Vadodara</td>\n",
              "      <td>Working Professional</td>\n",
              "      <td>Teacher</td>\n",
              "      <td>4.0</td>\n",
              "      <td>5.0</td>\n",
              "      <td>5-6 hours</td>\n",
              "      <td>Unhealthy</td>\n",
              "      <td>MSc</td>\n",
              "      <td>Yes</td>\n",
              "      <td>5.0</td>\n",
              "      <td>5.0</td>\n",
              "      <td>Yes</td>\n",
              "      <td>0</td>\n",
              "    </tr>\n",
              "    <tr>\n",
              "      <th>86142</th>\n",
              "      <td>Female</td>\n",
              "      <td>36.0</td>\n",
              "      <td>Vadodara</td>\n",
              "      <td>Working Professional</td>\n",
              "      <td>Teacher</td>\n",
              "      <td>5.0</td>\n",
              "      <td>1.0</td>\n",
              "      <td>Less than 5 hours</td>\n",
              "      <td>Unhealthy</td>\n",
              "      <td>MBBS</td>\n",
              "      <td>Yes</td>\n",
              "      <td>12.0</td>\n",
              "      <td>3.0</td>\n",
              "      <td>No</td>\n",
              "      <td>1</td>\n",
              "    </tr>\n",
              "    <tr>\n",
              "      <th>97775</th>\n",
              "      <td>Male</td>\n",
              "      <td>40.0</td>\n",
              "      <td>Vadodara</td>\n",
              "      <td>Working Professional</td>\n",
              "      <td>Teacher</td>\n",
              "      <td>1.0</td>\n",
              "      <td>5.0</td>\n",
              "      <td>7-8 hours</td>\n",
              "      <td>Moderate</td>\n",
              "      <td>B.Arch</td>\n",
              "      <td>Yes</td>\n",
              "      <td>3.0</td>\n",
              "      <td>5.0</td>\n",
              "      <td>Yes</td>\n",
              "      <td>0</td>\n",
              "    </tr>\n",
              "    <tr>\n",
              "      <th>77140</th>\n",
              "      <td>Female</td>\n",
              "      <td>47.0</td>\n",
              "      <td>Indore</td>\n",
              "      <td>Working Professional</td>\n",
              "      <td>Pharmacist</td>\n",
              "      <td>3.0</td>\n",
              "      <td>5.0</td>\n",
              "      <td>Less than 5 hours</td>\n",
              "      <td>Healthy</td>\n",
              "      <td>MD</td>\n",
              "      <td>No</td>\n",
              "      <td>7.0</td>\n",
              "      <td>1.0</td>\n",
              "      <td>Yes</td>\n",
              "      <td>0</td>\n",
              "    </tr>\n",
              "    <tr>\n",
              "      <th>95151</th>\n",
              "      <td>Female</td>\n",
              "      <td>52.0</td>\n",
              "      <td>Vasai-Virar</td>\n",
              "      <td>Working Professional</td>\n",
              "      <td>Chef</td>\n",
              "      <td>5.0</td>\n",
              "      <td>4.0</td>\n",
              "      <td>5-6 hours</td>\n",
              "      <td>Unhealthy</td>\n",
              "      <td>BHM</td>\n",
              "      <td>No</td>\n",
              "      <td>10.0</td>\n",
              "      <td>1.0</td>\n",
              "      <td>No</td>\n",
              "      <td>0</td>\n",
              "    </tr>\n",
              "  </tbody>\n",
              "</table>\n",
              "</div>"
            ],
            "text/plain": [
              "       Gender   Age         City Working Professional or Student  Profession  \\\n",
              "20082  Female  24.0     Vadodara            Working Professional     Teacher   \n",
              "86142  Female  36.0     Vadodara            Working Professional     Teacher   \n",
              "97775    Male  40.0     Vadodara            Working Professional     Teacher   \n",
              "77140  Female  47.0       Indore            Working Professional  Pharmacist   \n",
              "95151  Female  52.0  Vasai-Virar            Working Professional        Chef   \n",
              "\n",
              "       Work Pressure  Job Satisfaction     Sleep Duration Dietary Habits  \\\n",
              "20082            4.0               5.0          5-6 hours      Unhealthy   \n",
              "86142            5.0               1.0  Less than 5 hours      Unhealthy   \n",
              "97775            1.0               5.0          7-8 hours       Moderate   \n",
              "77140            3.0               5.0  Less than 5 hours        Healthy   \n",
              "95151            5.0               4.0          5-6 hours      Unhealthy   \n",
              "\n",
              "       Degree Have you ever had suicidal thoughts ?  Work/Study Hours  \\\n",
              "20082     MSc                                   Yes               5.0   \n",
              "86142    MBBS                                   Yes              12.0   \n",
              "97775  B.Arch                                   Yes               3.0   \n",
              "77140      MD                                    No               7.0   \n",
              "95151     BHM                                    No              10.0   \n",
              "\n",
              "       Financial Stress Family History of Mental Illness  Depression  \n",
              "20082               5.0                              Yes           0  \n",
              "86142               3.0                               No           1  \n",
              "97775               5.0                              Yes           0  \n",
              "77140               1.0                              Yes           0  \n",
              "95151               1.0                               No           0  "
            ]
          },
          "execution_count": 24,
          "metadata": {},
          "output_type": "execute_result"
        }
      ],
      "source": [
        "\n",
        "# Print the filtered rows\n",
        "print(df.shape)\n",
        "df.reset_index(drop=True, inplace=True)\n",
        "df.sample(5)"
      ]
    },
    {
      "cell_type": "code",
      "execution_count": 25,
      "metadata": {
        "colab": {
          "base_uri": "https://localhost:8080/"
        },
        "id": "Mp1Mcqj2XsJo",
        "outputId": "1e36750f-a7c3-4144-95a6-9f690f7e6e54"
      },
      "outputs": [
        {
          "name": "stdout",
          "output_type": "stream",
          "text": [
            "\n",
            "\n",
            "Missing data after processing\n",
            "<class 'pandas.core.frame.DataFrame'>\n",
            "RangeIndex: 140690 entries, 0 to 140689\n",
            "Data columns (total 15 columns):\n",
            " #   Column                                 Non-Null Count   Dtype  \n",
            "---  ------                                 --------------   -----  \n",
            " 0   Gender                                 140690 non-null  object \n",
            " 1   Age                                    140690 non-null  float64\n",
            " 2   City                                   140690 non-null  object \n",
            " 3   Working Professional or Student        140690 non-null  object \n",
            " 4   Profession                             140690 non-null  object \n",
            " 5   Work Pressure                          140690 non-null  float64\n",
            " 6   Job Satisfaction                       140690 non-null  float64\n",
            " 7   Sleep Duration                         140690 non-null  object \n",
            " 8   Dietary Habits                         140690 non-null  object \n",
            " 9   Degree                                 140690 non-null  object \n",
            " 10  Have you ever had suicidal thoughts ?  140690 non-null  object \n",
            " 11  Work/Study Hours                       140690 non-null  float64\n",
            " 12  Financial Stress                       140690 non-null  float64\n",
            " 13  Family History of Mental Illness       140690 non-null  object \n",
            " 14  Depression                             140690 non-null  int64  \n",
            "dtypes: float64(5), int64(1), object(9)\n",
            "memory usage: 16.1+ MB\n"
          ]
        }
      ],
      "source": [
        "# Fill missing categorical values based on Gender and Age\n",
        "for col in categorical_cols:\n",
        "    df[col] = df.groupby(['Gender', 'Age'])[col].transform(lambda x: x.fillna(x.mode()[0]) if not x.mode().empty else x)\n",
        "\n",
        "# Fill missing numerical values based on Gender and Age\n",
        "for col in numerical_cols:\n",
        "    df[col] = df.groupby(['Gender', 'Age'])[col].transform(lambda x: x.fillna(x.mean()))\n",
        "\n",
        "print(\"\\n\\nMissing data after processing\")\n",
        "df.info()"
      ]
    },
    {
      "cell_type": "code",
      "execution_count": 26,
      "metadata": {
        "colab": {
          "base_uri": "https://localhost:8080/"
        },
        "id": "5EAwzdm_XsG5",
        "outputId": "3075cd39-059b-40dc-c8e6-9b20f6a4c205"
      },
      "outputs": [
        {
          "name": "stdout",
          "output_type": "stream",
          "text": [
            "<class 'pandas.core.frame.DataFrame'>\n",
            "RangeIndex: 140690 entries, 0 to 140689\n",
            "Data columns (total 15 columns):\n",
            " #   Column                                 Non-Null Count   Dtype  \n",
            "---  ------                                 --------------   -----  \n",
            " 0   Gender                                 140690 non-null  object \n",
            " 1   Age                                    140690 non-null  float64\n",
            " 2   City                                   140690 non-null  object \n",
            " 3   Working Professional or Student        140690 non-null  object \n",
            " 4   Profession                             140690 non-null  object \n",
            " 5   Work Pressure                          140690 non-null  float64\n",
            " 6   Job Satisfaction                       140690 non-null  float64\n",
            " 7   Sleep Duration                         140690 non-null  object \n",
            " 8   Dietary Habits                         140690 non-null  object \n",
            " 9   Degree                                 140690 non-null  object \n",
            " 10  Have you ever had suicidal thoughts ?  140690 non-null  object \n",
            " 11  Work/Study Hours                       140690 non-null  float64\n",
            " 12  Financial Stress                       140690 non-null  float64\n",
            " 13  Family History of Mental Illness       140690 non-null  object \n",
            " 14  Depression                             140690 non-null  int64  \n",
            "dtypes: float64(5), int64(1), object(9)\n",
            "memory usage: 16.1+ MB\n"
          ]
        }
      ],
      "source": [
        "\n",
        "df.info()"
      ]
    },
    {
      "cell_type": "code",
      "execution_count": 27,
      "metadata": {
        "colab": {
          "base_uri": "https://localhost:8080/",
          "height": 382
        },
        "id": "bjCe2q8xXsD6",
        "outputId": "147980a9-9ec4-4e6d-8df9-3c3f23e4a8b7"
      },
      "outputs": [
        {
          "data": {
            "text/html": [
              "<div>\n",
              "<style scoped>\n",
              "    .dataframe tbody tr th:only-of-type {\n",
              "        vertical-align: middle;\n",
              "    }\n",
              "\n",
              "    .dataframe tbody tr th {\n",
              "        vertical-align: top;\n",
              "    }\n",
              "\n",
              "    .dataframe thead th {\n",
              "        text-align: right;\n",
              "    }\n",
              "</style>\n",
              "<table border=\"1\" class=\"dataframe\">\n",
              "  <thead>\n",
              "    <tr style=\"text-align: right;\">\n",
              "      <th></th>\n",
              "      <th>Gender</th>\n",
              "      <th>Age</th>\n",
              "      <th>City</th>\n",
              "      <th>Working Professional or Student</th>\n",
              "      <th>Profession</th>\n",
              "      <th>Work Pressure</th>\n",
              "      <th>Job Satisfaction</th>\n",
              "      <th>Sleep Duration</th>\n",
              "      <th>Dietary Habits</th>\n",
              "      <th>Degree</th>\n",
              "      <th>Have you ever had suicidal thoughts ?</th>\n",
              "      <th>Work/Study Hours</th>\n",
              "      <th>Financial Stress</th>\n",
              "      <th>Family History of Mental Illness</th>\n",
              "      <th>Depression</th>\n",
              "    </tr>\n",
              "  </thead>\n",
              "  <tbody>\n",
              "    <tr>\n",
              "      <th>0</th>\n",
              "      <td>Female</td>\n",
              "      <td>49.0</td>\n",
              "      <td>Ludhiana</td>\n",
              "      <td>Working Professional</td>\n",
              "      <td>Chef</td>\n",
              "      <td>5.000000</td>\n",
              "      <td>2.000000</td>\n",
              "      <td>More than 8 hours</td>\n",
              "      <td>Healthy</td>\n",
              "      <td>BHM</td>\n",
              "      <td>No</td>\n",
              "      <td>1.0</td>\n",
              "      <td>2.0</td>\n",
              "      <td>No</td>\n",
              "      <td>0</td>\n",
              "    </tr>\n",
              "    <tr>\n",
              "      <th>1</th>\n",
              "      <td>Male</td>\n",
              "      <td>26.0</td>\n",
              "      <td>Varanasi</td>\n",
              "      <td>Working Professional</td>\n",
              "      <td>Teacher</td>\n",
              "      <td>4.000000</td>\n",
              "      <td>3.000000</td>\n",
              "      <td>Less than 5 hours</td>\n",
              "      <td>Unhealthy</td>\n",
              "      <td>LLB</td>\n",
              "      <td>Yes</td>\n",
              "      <td>7.0</td>\n",
              "      <td>3.0</td>\n",
              "      <td>No</td>\n",
              "      <td>1</td>\n",
              "    </tr>\n",
              "    <tr>\n",
              "      <th>2</th>\n",
              "      <td>Male</td>\n",
              "      <td>33.0</td>\n",
              "      <td>Visakhapatnam</td>\n",
              "      <td>Student</td>\n",
              "      <td>Teacher</td>\n",
              "      <td>3.096286</td>\n",
              "      <td>2.876204</td>\n",
              "      <td>5-6 hours</td>\n",
              "      <td>Healthy</td>\n",
              "      <td>B.Pharm</td>\n",
              "      <td>Yes</td>\n",
              "      <td>3.0</td>\n",
              "      <td>1.0</td>\n",
              "      <td>No</td>\n",
              "      <td>1</td>\n",
              "    </tr>\n",
              "    <tr>\n",
              "      <th>3</th>\n",
              "      <td>Male</td>\n",
              "      <td>22.0</td>\n",
              "      <td>Mumbai</td>\n",
              "      <td>Working Professional</td>\n",
              "      <td>Teacher</td>\n",
              "      <td>5.000000</td>\n",
              "      <td>1.000000</td>\n",
              "      <td>Less than 5 hours</td>\n",
              "      <td>Moderate</td>\n",
              "      <td>BBA</td>\n",
              "      <td>Yes</td>\n",
              "      <td>10.0</td>\n",
              "      <td>1.0</td>\n",
              "      <td>Yes</td>\n",
              "      <td>1</td>\n",
              "    </tr>\n",
              "    <tr>\n",
              "      <th>4</th>\n",
              "      <td>Female</td>\n",
              "      <td>30.0</td>\n",
              "      <td>Kanpur</td>\n",
              "      <td>Working Professional</td>\n",
              "      <td>Business Analyst</td>\n",
              "      <td>1.000000</td>\n",
              "      <td>1.000000</td>\n",
              "      <td>5-6 hours</td>\n",
              "      <td>Unhealthy</td>\n",
              "      <td>BBA</td>\n",
              "      <td>Yes</td>\n",
              "      <td>9.0</td>\n",
              "      <td>4.0</td>\n",
              "      <td>Yes</td>\n",
              "      <td>0</td>\n",
              "    </tr>\n",
              "  </tbody>\n",
              "</table>\n",
              "</div>"
            ],
            "text/plain": [
              "   Gender   Age           City Working Professional or Student  \\\n",
              "0  Female  49.0       Ludhiana            Working Professional   \n",
              "1    Male  26.0       Varanasi            Working Professional   \n",
              "2    Male  33.0  Visakhapatnam                         Student   \n",
              "3    Male  22.0         Mumbai            Working Professional   \n",
              "4  Female  30.0         Kanpur            Working Professional   \n",
              "\n",
              "         Profession  Work Pressure  Job Satisfaction     Sleep Duration  \\\n",
              "0              Chef       5.000000          2.000000  More than 8 hours   \n",
              "1           Teacher       4.000000          3.000000  Less than 5 hours   \n",
              "2           Teacher       3.096286          2.876204          5-6 hours   \n",
              "3           Teacher       5.000000          1.000000  Less than 5 hours   \n",
              "4  Business Analyst       1.000000          1.000000          5-6 hours   \n",
              "\n",
              "  Dietary Habits   Degree Have you ever had suicidal thoughts ?  \\\n",
              "0        Healthy      BHM                                    No   \n",
              "1      Unhealthy      LLB                                   Yes   \n",
              "2        Healthy  B.Pharm                                   Yes   \n",
              "3       Moderate      BBA                                   Yes   \n",
              "4      Unhealthy      BBA                                   Yes   \n",
              "\n",
              "   Work/Study Hours  Financial Stress Family History of Mental Illness  \\\n",
              "0               1.0               2.0                               No   \n",
              "1               7.0               3.0                               No   \n",
              "2               3.0               1.0                               No   \n",
              "3              10.0               1.0                              Yes   \n",
              "4               9.0               4.0                              Yes   \n",
              "\n",
              "   Depression  \n",
              "0           0  \n",
              "1           1  \n",
              "2           1  \n",
              "3           1  \n",
              "4           0  "
            ]
          },
          "execution_count": 27,
          "metadata": {},
          "output_type": "execute_result"
        }
      ],
      "source": [
        "df.head()"
      ]
    },
    {
      "cell_type": "code",
      "execution_count": 28,
      "metadata": {
        "id": "fEgYi00tXsBa"
      },
      "outputs": [],
      "source": [
        "# Outlier Detection\n"
      ]
    },
    {
      "cell_type": "code",
      "execution_count": 29,
      "metadata": {
        "colab": {
          "base_uri": "https://localhost:8080/"
        },
        "id": "_ISf--3QXr-s",
        "outputId": "1b8c45f8-823f-4f0c-a9a8-77c3120af5d6"
      },
      "outputs": [
        {
          "data": {
            "text/plain": [
              "['Age',\n",
              " 'Work Pressure',\n",
              " 'Job Satisfaction',\n",
              " 'Work/Study Hours',\n",
              " 'Financial Stress']"
            ]
          },
          "execution_count": 29,
          "metadata": {},
          "output_type": "execute_result"
        }
      ],
      "source": [
        "numerical_cols"
      ]
    },
    {
      "cell_type": "code",
      "execution_count": 30,
      "metadata": {
        "id": "0dfcySxGg09J"
      },
      "outputs": [],
      "source": [
        "def remove_outliers_iqr (df,numerical_cols):\n",
        "   df_clean = df.copy()\n",
        "\n",
        "   for col in numerical_cols:\n",
        "       Q1 = df[col].quantile(0.25)\n",
        "       Q3 = df[col].quantile(0.75)\n",
        "       IQR = Q3 - Q1\n",
        "\n",
        "\n",
        "\n",
        "       lower_bound = Q1 - 1.5 * IQR\n",
        "\n",
        "       upper_bound = Q3 + 1.5 * IQR\n",
        "\n",
        "       df_clean = df_clean[(df_clean[col] >= lower_bound) & (df_clean[col] <= upper_bound)]\n",
        "\n"
      ]
    },
    {
      "cell_type": "code",
      "execution_count": 31,
      "metadata": {
        "colab": {
          "base_uri": "https://localhost:8080/",
          "height": 429
        },
        "id": "JEC80ZFagMlJ",
        "outputId": "5fcc1bb9-6d40-4cfe-859a-3c9e0278ad95"
      },
      "outputs": [
        {
          "data": {
            "text/plain": [
              "<Axes: ylabel='Work Pressure'>"
            ]
          },
          "execution_count": 31,
          "metadata": {},
          "output_type": "execute_result"
        },
        {
          "data": {
            "image/png": "[encoded data removed]",
            "text/plain": [
              "<Figure size 640x480 with 1 Axes>"
            ]
          },
          "metadata": {},
          "output_type": "display_data"
        }
      ],
      "source": [
        "sns.boxplot(df[\"Work Pressure\"])"
      ]
    },
    {
      "cell_type": "code",
      "execution_count": 32,
      "metadata": {
        "id": "BvtXfZvSh8v5"
      },
      "outputs": [],
      "source": [
        "#Feature Engineering"
      ]
    },
    {
      "cell_type": "code",
      "execution_count": 33,
      "metadata": {
        "id": "7XRliVthWoms"
      },
      "outputs": [],
      "source": [
        "\n",
        "# Define a function to categorize sleep based on the given ranges by cate\n",
        "def categorize_sleep_duration(duration):\n",
        "    if duration in ['Less than 5 hours', '1-2 hours', '2-3 hours']:\n",
        "        return 1  # Low Sleep of the ppl\n",
        "    elif duration in ['5-6 hours', '6-7 hours', '7-8 hours', '8 hours']:\n",
        "        return 2  # Average Sleep of ppl\n",
        "    else:\n",
        "        return 3  # High Sleep (for 'More than 8 hours', '9-11 hours', '10-11 hours')"
      ]
    },
    {
      "cell_type": "code",
      "execution_count": 34,
      "metadata": {
        "id": "QrwdfKm-YT-1"
      },
      "outputs": [],
      "source": [
        "# makeing the new column for the sleep\n",
        "\n",
        "df[\"sleep_category\"] = df[\"Sleep Duration\"].apply(categorize_sleep_duration)"
      ]
    },
    {
      "cell_type": "code",
      "execution_count": 35,
      "metadata": {
        "id": "wMeA9qzIYiR_"
      },
      "outputs": [],
      "source": [
        "#droping old one sleep col\n",
        "df.drop(\"Sleep Duration\",axis=1,inplace=True)"
      ]
    },
    {
      "cell_type": "code",
      "execution_count": 36,
      "metadata": {
        "colab": {
          "base_uri": "https://localhost:8080/",
          "height": 365
        },
        "id": "L_kkGhgdWohC",
        "outputId": "d9eabf03-2948-47b6-dc52-7a1f7a29ee37"
      },
      "outputs": [
        {
          "data": {
            "text/html": [
              "<div>\n",
              "<style scoped>\n",
              "    .dataframe tbody tr th:only-of-type {\n",
              "        vertical-align: middle;\n",
              "    }\n",
              "\n",
              "    .dataframe tbody tr th {\n",
              "        vertical-align: top;\n",
              "    }\n",
              "\n",
              "    .dataframe thead th {\n",
              "        text-align: right;\n",
              "    }\n",
              "</style>\n",
              "<table border=\"1\" class=\"dataframe\">\n",
              "  <thead>\n",
              "    <tr style=\"text-align: right;\">\n",
              "      <th></th>\n",
              "      <th>Gender</th>\n",
              "      <th>Age</th>\n",
              "      <th>City</th>\n",
              "      <th>Working Professional or Student</th>\n",
              "      <th>Profession</th>\n",
              "      <th>Work Pressure</th>\n",
              "      <th>Job Satisfaction</th>\n",
              "      <th>Dietary Habits</th>\n",
              "      <th>Degree</th>\n",
              "      <th>Have you ever had suicidal thoughts ?</th>\n",
              "      <th>Work/Study Hours</th>\n",
              "      <th>Financial Stress</th>\n",
              "      <th>Family History of Mental Illness</th>\n",
              "      <th>Depression</th>\n",
              "      <th>sleep_category</th>\n",
              "    </tr>\n",
              "  </thead>\n",
              "  <tbody>\n",
              "    <tr>\n",
              "      <th>0</th>\n",
              "      <td>Female</td>\n",
              "      <td>49.0</td>\n",
              "      <td>Ludhiana</td>\n",
              "      <td>Working Professional</td>\n",
              "      <td>Chef</td>\n",
              "      <td>5.000000</td>\n",
              "      <td>2.000000</td>\n",
              "      <td>Healthy</td>\n",
              "      <td>BHM</td>\n",
              "      <td>No</td>\n",
              "      <td>1.0</td>\n",
              "      <td>2.0</td>\n",
              "      <td>No</td>\n",
              "      <td>0</td>\n",
              "      <td>3</td>\n",
              "    </tr>\n",
              "    <tr>\n",
              "      <th>1</th>\n",
              "      <td>Male</td>\n",
              "      <td>26.0</td>\n",
              "      <td>Varanasi</td>\n",
              "      <td>Working Professional</td>\n",
              "      <td>Teacher</td>\n",
              "      <td>4.000000</td>\n",
              "      <td>3.000000</td>\n",
              "      <td>Unhealthy</td>\n",
              "      <td>LLB</td>\n",
              "      <td>Yes</td>\n",
              "      <td>7.0</td>\n",
              "      <td>3.0</td>\n",
              "      <td>No</td>\n",
              "      <td>1</td>\n",
              "      <td>1</td>\n",
              "    </tr>\n",
              "    <tr>\n",
              "      <th>2</th>\n",
              "      <td>Male</td>\n",
              "      <td>33.0</td>\n",
              "      <td>Visakhapatnam</td>\n",
              "      <td>Student</td>\n",
              "      <td>Teacher</td>\n",
              "      <td>3.096286</td>\n",
              "      <td>2.876204</td>\n",
              "      <td>Healthy</td>\n",
              "      <td>B.Pharm</td>\n",
              "      <td>Yes</td>\n",
              "      <td>3.0</td>\n",
              "      <td>1.0</td>\n",
              "      <td>No</td>\n",
              "      <td>1</td>\n",
              "      <td>2</td>\n",
              "    </tr>\n",
              "    <tr>\n",
              "      <th>3</th>\n",
              "      <td>Male</td>\n",
              "      <td>22.0</td>\n",
              "      <td>Mumbai</td>\n",
              "      <td>Working Professional</td>\n",
              "      <td>Teacher</td>\n",
              "      <td>5.000000</td>\n",
              "      <td>1.000000</td>\n",
              "      <td>Moderate</td>\n",
              "      <td>BBA</td>\n",
              "      <td>Yes</td>\n",
              "      <td>10.0</td>\n",
              "      <td>1.0</td>\n",
              "      <td>Yes</td>\n",
              "      <td>1</td>\n",
              "      <td>1</td>\n",
              "    </tr>\n",
              "    <tr>\n",
              "      <th>4</th>\n",
              "      <td>Female</td>\n",
              "      <td>30.0</td>\n",
              "      <td>Kanpur</td>\n",
              "      <td>Working Professional</td>\n",
              "      <td>Business Analyst</td>\n",
              "      <td>1.000000</td>\n",
              "      <td>1.000000</td>\n",
              "      <td>Unhealthy</td>\n",
              "      <td>BBA</td>\n",
              "      <td>Yes</td>\n",
              "      <td>9.0</td>\n",
              "      <td>4.0</td>\n",
              "      <td>Yes</td>\n",
              "      <td>0</td>\n",
              "      <td>2</td>\n",
              "    </tr>\n",
              "  </tbody>\n",
              "</table>\n",
              "</div>"
            ],
            "text/plain": [
              "   Gender   Age           City Working Professional or Student  \\\n",
              "0  Female  49.0       Ludhiana            Working Professional   \n",
              "1    Male  26.0       Varanasi            Working Professional   \n",
              "2    Male  33.0  Visakhapatnam                         Student   \n",
              "3    Male  22.0         Mumbai            Working Professional   \n",
              "4  Female  30.0         Kanpur            Working Professional   \n",
              "\n",
              "         Profession  Work Pressure  Job Satisfaction Dietary Habits   Degree  \\\n",
              "0              Chef       5.000000          2.000000        Healthy      BHM   \n",
              "1           Teacher       4.000000          3.000000      Unhealthy      LLB   \n",
              "2           Teacher       3.096286          2.876204        Healthy  B.Pharm   \n",
              "3           Teacher       5.000000          1.000000       Moderate      BBA   \n",
              "4  Business Analyst       1.000000          1.000000      Unhealthy      BBA   \n",
              "\n",
              "  Have you ever had suicidal thoughts ?  Work/Study Hours  Financial Stress  \\\n",
              "0                                    No               1.0               2.0   \n",
              "1                                   Yes               7.0               3.0   \n",
              "2                                   Yes               3.0               1.0   \n",
              "3                                   Yes              10.0               1.0   \n",
              "4                                   Yes               9.0               4.0   \n",
              "\n",
              "  Family History of Mental Illness  Depression  sleep_category  \n",
              "0                               No           0               3  \n",
              "1                               No           1               1  \n",
              "2                               No           1               2  \n",
              "3                              Yes           1               1  \n",
              "4                              Yes           0               2  "
            ]
          },
          "execution_count": 36,
          "metadata": {},
          "output_type": "execute_result"
        }
      ],
      "source": [
        "df.head()"
      ]
    },
    {
      "cell_type": "code",
      "execution_count": 37,
      "metadata": {
        "id": "XoT0T4T4Woeo"
      },
      "outputs": [],
      "source": [
        "#Encoding Categorical to Numerical Data"
      ]
    },
    {
      "cell_type": "code",
      "execution_count": 38,
      "metadata": {
        "colab": {
          "base_uri": "https://localhost:8080/"
        },
        "id": "gX7XK-NaZbER",
        "outputId": "c2243518-12ca-470c-a7a9-349d0aa2da13"
      },
      "outputs": [
        {
          "name": "stderr",
          "output_type": "stream",
          "text": [
            "C:\\Users\\Admin\\AppData\\Local\\Temp\\ipykernel_12868\\1313795165.py:4: FutureWarning: Downcasting behavior in `replace` is deprecated and will be removed in a future version. To retain the old behavior, explicitly call `result.infer_objects(copy=False)`. To opt-in to the future behavior, set `pd.set_option('future.no_silent_downcasting', True)`\n",
            "  df[\"Have you ever had suicidal thoughts ?\"] =df[\"Have you ever had suicidal thoughts ?\"].replace({\"Yes\":1,\"No\":0})\n"
          ]
        }
      ],
      "source": [
        "df[\"Have you ever had suicidal thoughts ?\"].unique()\n",
        "\n",
        "\n",
        "df[\"Have you ever had suicidal thoughts ?\"] =df[\"Have you ever had suicidal thoughts ?\"].replace({\"Yes\":1,\"No\":0})"
      ]
    },
    {
      "cell_type": "code",
      "execution_count": 39,
      "metadata": {
        "colab": {
          "base_uri": "https://localhost:8080/"
        },
        "id": "xbmexCUcZjiO",
        "outputId": "bfd3894a-1298-4aed-b334-c6bd80da9626"
      },
      "outputs": [
        {
          "name": "stderr",
          "output_type": "stream",
          "text": [
            "C:\\Users\\Admin\\AppData\\Local\\Temp\\ipykernel_12868\\2655813621.py:4: FutureWarning: Downcasting behavior in `replace` is deprecated and will be removed in a future version. To retain the old behavior, explicitly call `result.infer_objects(copy=False)`. To opt-in to the future behavior, set `pd.set_option('future.no_silent_downcasting', True)`\n",
            "  df[\"Family History of Mental Illness\"] =df[\"Family History of Mental Illness\"].replace({\"Yes\":1,\"No\":0})\n"
          ]
        }
      ],
      "source": [
        "df[\"Family History of Mental Illness\"].unique()\n",
        "\n",
        "\n",
        "df[\"Family History of Mental Illness\"] =df[\"Family History of Mental Illness\"].replace({\"Yes\":1,\"No\":0})"
      ]
    },
    {
      "cell_type": "code",
      "execution_count": 40,
      "metadata": {
        "colab": {
          "base_uri": "https://localhost:8080/"
        },
        "id": "Zr_BufCDZ87F",
        "outputId": "e88f9e48-7bda-45cf-b08d-060495317071"
      },
      "outputs": [
        {
          "name": "stderr",
          "output_type": "stream",
          "text": [
            "C:\\Users\\Admin\\AppData\\Local\\Temp\\ipykernel_12868\\3972431734.py:4: FutureWarning: Downcasting behavior in `replace` is deprecated and will be removed in a future version. To retain the old behavior, explicitly call `result.infer_objects(copy=False)`. To opt-in to the future behavior, set `pd.set_option('future.no_silent_downcasting', True)`\n",
            "  df[\"Dietary Habits\"] = df[\"Dietary Habits\"].replace({\"Healthy\":1,\"Unhealthy\":2,\"Moderate\":3})\n"
          ]
        }
      ],
      "source": [
        "df[\"Dietary Habits\"].unique()\n",
        "\n",
        "\n",
        "df[\"Dietary Habits\"] = df[\"Dietary Habits\"].replace({\"Healthy\":1,\"Unhealthy\":2,\"Moderate\":3})"
      ]
    },
    {
      "cell_type": "code",
      "execution_count": 41,
      "metadata": {
        "colab": {
          "base_uri": "https://localhost:8080/",
          "height": 365
        },
        "id": "KTLp3RYEatRv",
        "outputId": "7b12e606-ef88-4aeb-8481-68227f131dc7"
      },
      "outputs": [
        {
          "data": {
            "text/html": [
              "<div>\n",
              "<style scoped>\n",
              "    .dataframe tbody tr th:only-of-type {\n",
              "        vertical-align: middle;\n",
              "    }\n",
              "\n",
              "    .dataframe tbody tr th {\n",
              "        vertical-align: top;\n",
              "    }\n",
              "\n",
              "    .dataframe thead th {\n",
              "        text-align: right;\n",
              "    }\n",
              "</style>\n",
              "<table border=\"1\" class=\"dataframe\">\n",
              "  <thead>\n",
              "    <tr style=\"text-align: right;\">\n",
              "      <th></th>\n",
              "      <th>Gender</th>\n",
              "      <th>Age</th>\n",
              "      <th>City</th>\n",
              "      <th>Working Professional or Student</th>\n",
              "      <th>Profession</th>\n",
              "      <th>Work Pressure</th>\n",
              "      <th>Job Satisfaction</th>\n",
              "      <th>Dietary Habits</th>\n",
              "      <th>Degree</th>\n",
              "      <th>Have you ever had suicidal thoughts ?</th>\n",
              "      <th>Work/Study Hours</th>\n",
              "      <th>Financial Stress</th>\n",
              "      <th>Family History of Mental Illness</th>\n",
              "      <th>Depression</th>\n",
              "      <th>sleep_category</th>\n",
              "    </tr>\n",
              "  </thead>\n",
              "  <tbody>\n",
              "    <tr>\n",
              "      <th>0</th>\n",
              "      <td>Female</td>\n",
              "      <td>49.0</td>\n",
              "      <td>Ludhiana</td>\n",
              "      <td>Working Professional</td>\n",
              "      <td>Chef</td>\n",
              "      <td>5.000000</td>\n",
              "      <td>2.000000</td>\n",
              "      <td>1</td>\n",
              "      <td>BHM</td>\n",
              "      <td>0</td>\n",
              "      <td>1.0</td>\n",
              "      <td>2.0</td>\n",
              "      <td>0</td>\n",
              "      <td>0</td>\n",
              "      <td>3</td>\n",
              "    </tr>\n",
              "    <tr>\n",
              "      <th>1</th>\n",
              "      <td>Male</td>\n",
              "      <td>26.0</td>\n",
              "      <td>Varanasi</td>\n",
              "      <td>Working Professional</td>\n",
              "      <td>Teacher</td>\n",
              "      <td>4.000000</td>\n",
              "      <td>3.000000</td>\n",
              "      <td>2</td>\n",
              "      <td>LLB</td>\n",
              "      <td>1</td>\n",
              "      <td>7.0</td>\n",
              "      <td>3.0</td>\n",
              "      <td>0</td>\n",
              "      <td>1</td>\n",
              "      <td>1</td>\n",
              "    </tr>\n",
              "    <tr>\n",
              "      <th>2</th>\n",
              "      <td>Male</td>\n",
              "      <td>33.0</td>\n",
              "      <td>Visakhapatnam</td>\n",
              "      <td>Student</td>\n",
              "      <td>Teacher</td>\n",
              "      <td>3.096286</td>\n",
              "      <td>2.876204</td>\n",
              "      <td>1</td>\n",
              "      <td>B.Pharm</td>\n",
              "      <td>1</td>\n",
              "      <td>3.0</td>\n",
              "      <td>1.0</td>\n",
              "      <td>0</td>\n",
              "      <td>1</td>\n",
              "      <td>2</td>\n",
              "    </tr>\n",
              "    <tr>\n",
              "      <th>3</th>\n",
              "      <td>Male</td>\n",
              "      <td>22.0</td>\n",
              "      <td>Mumbai</td>\n",
              "      <td>Working Professional</td>\n",
              "      <td>Teacher</td>\n",
              "      <td>5.000000</td>\n",
              "      <td>1.000000</td>\n",
              "      <td>3</td>\n",
              "      <td>BBA</td>\n",
              "      <td>1</td>\n",
              "      <td>10.0</td>\n",
              "      <td>1.0</td>\n",
              "      <td>1</td>\n",
              "      <td>1</td>\n",
              "      <td>1</td>\n",
              "    </tr>\n",
              "    <tr>\n",
              "      <th>4</th>\n",
              "      <td>Female</td>\n",
              "      <td>30.0</td>\n",
              "      <td>Kanpur</td>\n",
              "      <td>Working Professional</td>\n",
              "      <td>Business Analyst</td>\n",
              "      <td>1.000000</td>\n",
              "      <td>1.000000</td>\n",
              "      <td>2</td>\n",
              "      <td>BBA</td>\n",
              "      <td>1</td>\n",
              "      <td>9.0</td>\n",
              "      <td>4.0</td>\n",
              "      <td>1</td>\n",
              "      <td>0</td>\n",
              "      <td>2</td>\n",
              "    </tr>\n",
              "  </tbody>\n",
              "</table>\n",
              "</div>"
            ],
            "text/plain": [
              "   Gender   Age           City Working Professional or Student  \\\n",
              "0  Female  49.0       Ludhiana            Working Professional   \n",
              "1    Male  26.0       Varanasi            Working Professional   \n",
              "2    Male  33.0  Visakhapatnam                         Student   \n",
              "3    Male  22.0         Mumbai            Working Professional   \n",
              "4  Female  30.0         Kanpur            Working Professional   \n",
              "\n",
              "         Profession  Work Pressure  Job Satisfaction  Dietary Habits   Degree  \\\n",
              "0              Chef       5.000000          2.000000               1      BHM   \n",
              "1           Teacher       4.000000          3.000000               2      LLB   \n",
              "2           Teacher       3.096286          2.876204               1  B.Pharm   \n",
              "3           Teacher       5.000000          1.000000               3      BBA   \n",
              "4  Business Analyst       1.000000          1.000000               2      BBA   \n",
              "\n",
              "   Have you ever had suicidal thoughts ?  Work/Study Hours  Financial Stress  \\\n",
              "0                                      0               1.0               2.0   \n",
              "1                                      1               7.0               3.0   \n",
              "2                                      1               3.0               1.0   \n",
              "3                                      1              10.0               1.0   \n",
              "4                                      1               9.0               4.0   \n",
              "\n",
              "   Family History of Mental Illness  Depression  sleep_category  \n",
              "0                                 0           0               3  \n",
              "1                                 0           1               1  \n",
              "2                                 0           1               2  \n",
              "3                                 1           1               1  \n",
              "4                                 1           0               2  "
            ]
          },
          "execution_count": 41,
          "metadata": {},
          "output_type": "execute_result"
        }
      ],
      "source": [
        "df.head()"
      ]
    },
    {
      "cell_type": "code",
      "execution_count": 42,
      "metadata": {
        "id": "n66pPNA5bhZA"
      },
      "outputs": [],
      "source": [
        "# due to binary i can use lable encoder\n",
        "# OR ALSO REPLACE METHOED"
      ]
    },
    {
      "cell_type": "code",
      "execution_count": 43,
      "metadata": {
        "colab": {
          "base_uri": "https://localhost:8080/"
        },
        "id": "FYvAkU-6rKas",
        "outputId": "ba4aadac-a8fb-49f3-8d12-b6433f412195"
      },
      "outputs": [
        {
          "data": {
            "text/plain": [
              "array(['Female', 'Male'], dtype=object)"
            ]
          },
          "execution_count": 43,
          "metadata": {},
          "output_type": "execute_result"
        }
      ],
      "source": [
        "df[\"Gender\"].unique()"
      ]
    },
    {
      "cell_type": "code",
      "execution_count": 44,
      "metadata": {
        "colab": {
          "base_uri": "https://localhost:8080/"
        },
        "id": "tZphiCztq6_B",
        "outputId": "50795c59-5736-4f1c-8117-0acecd1ee7e1"
      },
      "outputs": [
        {
          "name": "stderr",
          "output_type": "stream",
          "text": [
            "C:\\Users\\Admin\\AppData\\Local\\Temp\\ipykernel_12868\\3077849553.py:1: FutureWarning: Downcasting behavior in `replace` is deprecated and will be removed in a future version. To retain the old behavior, explicitly call `result.infer_objects(copy=False)`. To opt-in to the future behavior, set `pd.set_option('future.no_silent_downcasting', True)`\n",
            "  df[\"Gender\"] = df[\"Gender\"].replace({\"Male\":1,\"Female\":0})\n"
          ]
        }
      ],
      "source": [
        "df[\"Gender\"] = df[\"Gender\"].replace({\"Male\":1,\"Female\":0})"
      ]
    },
    {
      "cell_type": "code",
      "execution_count": 45,
      "metadata": {
        "colab": {
          "base_uri": "https://localhost:8080/"
        },
        "id": "zmaVASG1rIpK",
        "outputId": "6eed8f21-3e73-4a48-d141-01428ab1b3e1"
      },
      "outputs": [
        {
          "data": {
            "text/plain": [
              "array(['Working Professional', 'Student'], dtype=object)"
            ]
          },
          "execution_count": 45,
          "metadata": {},
          "output_type": "execute_result"
        }
      ],
      "source": [
        "df[\"Working Professional or Student\"].unique()"
      ]
    },
    {
      "cell_type": "code",
      "execution_count": 46,
      "metadata": {
        "colab": {
          "base_uri": "https://localhost:8080/"
        },
        "id": "qqIPVikSrmVj",
        "outputId": "dac01374-ab18-4c4c-ace8-ce1358b8a17b"
      },
      "outputs": [
        {
          "name": "stderr",
          "output_type": "stream",
          "text": [
            "C:\\Users\\Admin\\AppData\\Local\\Temp\\ipykernel_12868\\2631667678.py:1: FutureWarning: Downcasting behavior in `replace` is deprecated and will be removed in a future version. To retain the old behavior, explicitly call `result.infer_objects(copy=False)`. To opt-in to the future behavior, set `pd.set_option('future.no_silent_downcasting', True)`\n",
            "  df[\"Working Professional or Student\"] = df[\"Working Professional or Student\"].replace({\"Working Professional\":1,\"Student\":0})\n"
          ]
        }
      ],
      "source": [
        "df[\"Working Professional or Student\"] = df[\"Working Professional or Student\"].replace({\"Working Professional\":1,\"Student\":0})"
      ]
    },
    {
      "cell_type": "code",
      "execution_count": 47,
      "metadata": {
        "colab": {
          "base_uri": "https://localhost:8080/",
          "height": 313
        },
        "id": "Z6JqoWu6rwXq",
        "outputId": "7c6e1090-1151-48ca-fa4e-6970d32c1564"
      },
      "outputs": [
        {
          "data": {
            "text/html": [
              "<div>\n",
              "<style scoped>\n",
              "    .dataframe tbody tr th:only-of-type {\n",
              "        vertical-align: middle;\n",
              "    }\n",
              "\n",
              "    .dataframe tbody tr th {\n",
              "        vertical-align: top;\n",
              "    }\n",
              "\n",
              "    .dataframe thead th {\n",
              "        text-align: right;\n",
              "    }\n",
              "</style>\n",
              "<table border=\"1\" class=\"dataframe\">\n",
              "  <thead>\n",
              "    <tr style=\"text-align: right;\">\n",
              "      <th></th>\n",
              "      <th>Gender</th>\n",
              "      <th>Age</th>\n",
              "      <th>City</th>\n",
              "      <th>Working Professional or Student</th>\n",
              "      <th>Profession</th>\n",
              "      <th>Work Pressure</th>\n",
              "      <th>Job Satisfaction</th>\n",
              "      <th>Dietary Habits</th>\n",
              "      <th>Degree</th>\n",
              "      <th>Have you ever had suicidal thoughts ?</th>\n",
              "      <th>Work/Study Hours</th>\n",
              "      <th>Financial Stress</th>\n",
              "      <th>Family History of Mental Illness</th>\n",
              "      <th>Depression</th>\n",
              "      <th>sleep_category</th>\n",
              "    </tr>\n",
              "  </thead>\n",
              "  <tbody>\n",
              "    <tr>\n",
              "      <th>0</th>\n",
              "      <td>0</td>\n",
              "      <td>49.0</td>\n",
              "      <td>Ludhiana</td>\n",
              "      <td>1</td>\n",
              "      <td>Chef</td>\n",
              "      <td>5.000000</td>\n",
              "      <td>2.000000</td>\n",
              "      <td>1</td>\n",
              "      <td>BHM</td>\n",
              "      <td>0</td>\n",
              "      <td>1.0</td>\n",
              "      <td>2.0</td>\n",
              "      <td>0</td>\n",
              "      <td>0</td>\n",
              "      <td>3</td>\n",
              "    </tr>\n",
              "    <tr>\n",
              "      <th>1</th>\n",
              "      <td>1</td>\n",
              "      <td>26.0</td>\n",
              "      <td>Varanasi</td>\n",
              "      <td>1</td>\n",
              "      <td>Teacher</td>\n",
              "      <td>4.000000</td>\n",
              "      <td>3.000000</td>\n",
              "      <td>2</td>\n",
              "      <td>LLB</td>\n",
              "      <td>1</td>\n",
              "      <td>7.0</td>\n",
              "      <td>3.0</td>\n",
              "      <td>0</td>\n",
              "      <td>1</td>\n",
              "      <td>1</td>\n",
              "    </tr>\n",
              "    <tr>\n",
              "      <th>2</th>\n",
              "      <td>1</td>\n",
              "      <td>33.0</td>\n",
              "      <td>Visakhapatnam</td>\n",
              "      <td>0</td>\n",
              "      <td>Teacher</td>\n",
              "      <td>3.096286</td>\n",
              "      <td>2.876204</td>\n",
              "      <td>1</td>\n",
              "      <td>B.Pharm</td>\n",
              "      <td>1</td>\n",
              "      <td>3.0</td>\n",
              "      <td>1.0</td>\n",
              "      <td>0</td>\n",
              "      <td>1</td>\n",
              "      <td>2</td>\n",
              "    </tr>\n",
              "    <tr>\n",
              "      <th>3</th>\n",
              "      <td>1</td>\n",
              "      <td>22.0</td>\n",
              "      <td>Mumbai</td>\n",
              "      <td>1</td>\n",
              "      <td>Teacher</td>\n",
              "      <td>5.000000</td>\n",
              "      <td>1.000000</td>\n",
              "      <td>3</td>\n",
              "      <td>BBA</td>\n",
              "      <td>1</td>\n",
              "      <td>10.0</td>\n",
              "      <td>1.0</td>\n",
              "      <td>1</td>\n",
              "      <td>1</td>\n",
              "      <td>1</td>\n",
              "    </tr>\n",
              "    <tr>\n",
              "      <th>4</th>\n",
              "      <td>0</td>\n",
              "      <td>30.0</td>\n",
              "      <td>Kanpur</td>\n",
              "      <td>1</td>\n",
              "      <td>Business Analyst</td>\n",
              "      <td>1.000000</td>\n",
              "      <td>1.000000</td>\n",
              "      <td>2</td>\n",
              "      <td>BBA</td>\n",
              "      <td>1</td>\n",
              "      <td>9.0</td>\n",
              "      <td>4.0</td>\n",
              "      <td>1</td>\n",
              "      <td>0</td>\n",
              "      <td>2</td>\n",
              "    </tr>\n",
              "  </tbody>\n",
              "</table>\n",
              "</div>"
            ],
            "text/plain": [
              "   Gender   Age           City  Working Professional or Student  \\\n",
              "0       0  49.0       Ludhiana                                1   \n",
              "1       1  26.0       Varanasi                                1   \n",
              "2       1  33.0  Visakhapatnam                                0   \n",
              "3       1  22.0         Mumbai                                1   \n",
              "4       0  30.0         Kanpur                                1   \n",
              "\n",
              "         Profession  Work Pressure  Job Satisfaction  Dietary Habits   Degree  \\\n",
              "0              Chef       5.000000          2.000000               1      BHM   \n",
              "1           Teacher       4.000000          3.000000               2      LLB   \n",
              "2           Teacher       3.096286          2.876204               1  B.Pharm   \n",
              "3           Teacher       5.000000          1.000000               3      BBA   \n",
              "4  Business Analyst       1.000000          1.000000               2      BBA   \n",
              "\n",
              "   Have you ever had suicidal thoughts ?  Work/Study Hours  Financial Stress  \\\n",
              "0                                      0               1.0               2.0   \n",
              "1                                      1               7.0               3.0   \n",
              "2                                      1               3.0               1.0   \n",
              "3                                      1              10.0               1.0   \n",
              "4                                      1               9.0               4.0   \n",
              "\n",
              "   Family History of Mental Illness  Depression  sleep_category  \n",
              "0                                 0           0               3  \n",
              "1                                 0           1               1  \n",
              "2                                 0           1               2  \n",
              "3                                 1           1               1  \n",
              "4                                 1           0               2  "
            ]
          },
          "execution_count": 47,
          "metadata": {},
          "output_type": "execute_result"
        }
      ],
      "source": [
        "df.head()"
      ]
    },
    {
      "cell_type": "code",
      "execution_count": 48,
      "metadata": {
        "id": "xG9dtuzvr1id"
      },
      "outputs": [],
      "source": [
        "#Downward Sampling"
      ]
    },
    {
      "cell_type": "code",
      "execution_count": 49,
      "metadata": {
        "id": "cldpZTGYskxU"
      },
      "outputs": [],
      "source": [
        "from sklearn.utils import resample\n",
        "\n",
        "profession_counts =df[\"Profession\"].value_counts()\n",
        "\n",
        "\n",
        "\n"
      ]
    },
    {
      "cell_type": "code",
      "execution_count": 50,
      "metadata": {
        "colab": {
          "base_uri": "https://localhost:8080/",
          "height": 1000
        },
        "id": "BRqeR_VmsoyW",
        "outputId": "e5f83fbc-7618-4489-9d3a-20ef875a25ea"
      },
      "outputs": [
        {
          "data": {
            "text/plain": [
              "Profession\n",
              "Teacher                   61841\n",
              "Content Writer             7814\n",
              "HR Manager                 5086\n",
              "Architect                  4370\n",
              "Consultant                 4228\n",
              "Pharmacist                 3893\n",
              "Doctor                     3255\n",
              "Business Analyst           3161\n",
              "Entrepreneur               2968\n",
              "Chemist                    2967\n",
              "Chef                       2862\n",
              "Educational Consultant     2852\n",
              "Data Scientist             2390\n",
              "Researcher                 2328\n",
              "Lawyer                     2212\n",
              "Customer Support           2055\n",
              "Marketing Manager          1976\n",
              "Pilot                      1913\n",
              "Travel Consultant          1860\n",
              "Plumber                    1748\n",
              "Sales Executive            1739\n",
              "Manager                    1737\n",
              "Judge                      1712\n",
              "Electrician                1582\n",
              "Financial Analyst          1574\n",
              "Software Engineer          1510\n",
              "Civil Engineer             1469\n",
              "UX/UI Designer             1452\n",
              "Digital Marketer           1372\n",
              "Accountant                 1339\n",
              "Mechanical Engineer        1177\n",
              "Graphic Designer           1163\n",
              "Research Analyst            690\n",
              "Investment Banker           393\n",
              "Family Consultant             1\n",
              "Medical Doctor                1\n",
              "Name: count, dtype: int64"
            ]
          },
          "execution_count": 50,
          "metadata": {},
          "output_type": "execute_result"
        }
      ],
      "source": [
        "df[\"Profession\"].value_counts()"
      ]
    },
    {
      "cell_type": "code",
      "execution_count": 51,
      "metadata": {
        "id": "M4OnUf0dtDa7"
      },
      "outputs": [],
      "source": [
        "# will remove the very rare professions"
      ]
    },
    {
      "cell_type": "code",
      "execution_count": 52,
      "metadata": {
        "id": "z7Nt5_CPyHBq"
      },
      "outputs": [],
      "source": [
        "profession_counts = df['Profession'].value_counts()\n",
        "valid_professions = profession_counts[profession_counts >= 100].index"
      ]
    },
    {
      "cell_type": "code",
      "execution_count": 53,
      "metadata": {
        "id": "p83qbBqsyLp-"
      },
      "outputs": [],
      "source": [
        "df = df[df['Profession'].isin(valid_professions)].copy()\n"
      ]
    },
    {
      "cell_type": "code",
      "execution_count": 54,
      "metadata": {
        "id": "cnctm5c1yUWg"
      },
      "outputs": [],
      "source": [
        "# Step 2: Cap max samples per profession (e.g., max 8000 per profession)\n",
        "balanced_dfs = []\n",
        "max_per_class = 8000\n",
        "\n",
        "\n",
        "for prof in df['Profession'].unique():\n",
        "    prof_df = df[df['Profession'] == prof]\n",
        "    if len(prof_df) > max_per_class:\n",
        "        prof_df = resample(prof_df, replace=False, n_samples=max_per_class, random_state=42)\n",
        "    balanced_dfs.append(prof_df)"
      ]
    },
    {
      "cell_type": "code",
      "execution_count": 55,
      "metadata": {
        "colab": {
          "base_uri": "https://localhost:8080/"
        },
        "id": "ZhDp4HIsyiKb",
        "outputId": "9bfe94a1-fa93-4673-d261-878fda5d3c7f"
      },
      "outputs": [
        {
          "name": "stdout",
          "output_type": "stream",
          "text": [
            "Profession\n",
            "Teacher                   8000\n",
            "Content Writer            7814\n",
            "HR Manager                5086\n",
            "Architect                 4370\n",
            "Consultant                4228\n",
            "Pharmacist                3893\n",
            "Doctor                    3255\n",
            "Business Analyst          3161\n",
            "Entrepreneur              2968\n",
            "Chemist                   2967\n",
            "Chef                      2862\n",
            "Educational Consultant    2852\n",
            "Data Scientist            2390\n",
            "Researcher                2328\n",
            "Lawyer                    2212\n",
            "Customer Support          2055\n",
            "Marketing Manager         1976\n",
            "Pilot                     1913\n",
            "Travel Consultant         1860\n",
            "Plumber                   1748\n",
            "Sales Executive           1739\n",
            "Manager                   1737\n",
            "Judge                     1712\n",
            "Electrician               1582\n",
            "Financial Analyst         1574\n",
            "Software Engineer         1510\n",
            "Civil Engineer            1469\n",
            "UX/UI Designer            1452\n",
            "Digital Marketer          1372\n",
            "Accountant                1339\n",
            "Mechanical Engineer       1177\n",
            "Graphic Designer          1163\n",
            "Research Analyst           690\n",
            "Investment Banker          393\n",
            "Name: count, dtype: int64\n"
          ]
        }
      ],
      "source": [
        "# Combine all and shuffle\n",
        "df = pd.concat(balanced_dfs)\n",
        "df = df.sample(frac=1, random_state=42).reset_index(drop=True)\n",
        "\n",
        "# Final profession distribution\n",
        "print(df['Profession'].value_counts())"
      ]
    },
    {
      "cell_type": "code",
      "execution_count": 56,
      "metadata": {
        "colab": {
          "base_uri": "https://localhost:8080/"
        },
        "id": "qjd1EMjyynfv",
        "outputId": "aeca408f-dc20-4cb7-d54c-8c892024a014"
      },
      "outputs": [
        {
          "data": {
            "text/plain": [
              "Index(['Gender', 'Age', 'City', 'Working Professional or Student',\n",
              "       'Profession', 'Work Pressure', 'Job Satisfaction', 'Dietary Habits',\n",
              "       'Degree', 'Have you ever had suicidal thoughts ?', 'Work/Study Hours',\n",
              "       'Financial Stress', 'Family History of Mental Illness', 'Depression',\n",
              "       'sleep_category'],\n",
              "      dtype='object')"
            ]
          },
          "execution_count": 56,
          "metadata": {},
          "output_type": "execute_result"
        }
      ],
      "source": [
        "df.columns"
      ]
    },
    {
      "cell_type": "code",
      "execution_count": 57,
      "metadata": {
        "colab": {
          "base_uri": "https://localhost:8080/",
          "height": 178
        },
        "id": "QCwQdqLryvV2",
        "outputId": "2e831bd1-e022-4bec-83f8-4ee3ed86c922"
      },
      "outputs": [
        {
          "data": {
            "text/plain": [
              "Depression\n",
              "0    78978\n",
              "1     7869\n",
              "Name: count, dtype: int64"
            ]
          },
          "execution_count": 57,
          "metadata": {},
          "output_type": "execute_result"
        }
      ],
      "source": [
        "df[\"Depression\"].value_counts()"
      ]
    },
    {
      "cell_type": "code",
      "execution_count": 58,
      "metadata": {
        "colab": {
          "base_uri": "https://localhost:8080/",
          "height": 178
        },
        "id": "PR_GF6MizA7n",
        "outputId": "0e1b4789-54ad-46ae-bc6a-4c438fb4acde"
      },
      "outputs": [
        {
          "data": {
            "text/plain": [
              "Working Professional or Student\n",
              "1    82378\n",
              "0     4469\n",
              "Name: count, dtype: int64"
            ]
          },
          "execution_count": 58,
          "metadata": {},
          "output_type": "execute_result"
        }
      ],
      "source": [
        "df[\"Working Professional or Student\"].value_counts()"
      ]
    },
    {
      "cell_type": "code",
      "execution_count": 59,
      "metadata": {
        "id": "YO6tG9no0oKM"
      },
      "outputs": [],
      "source": [
        "#Upward Sampling"
      ]
    },
    {
      "cell_type": "code",
      "execution_count": 60,
      "metadata": {
        "id": "1PDQrm1g2AMY"
      },
      "outputs": [],
      "source": [
        "from sklearn.utils import resample\n",
        "\n",
        "df_majority = df[df[\"Working Professional or Student\"]== 1] #40685\n",
        "df_minority = df[df[\"Working Professional or Student\"]== 0] #5042\n",
        "\n",
        "# chceking both are non empty bbfore proceeding the upsampling\n",
        "\n",
        "if len(df_majority) > 0 and len and len(df_minority) > 0:\n",
        "  df_minority_upsampled = resample(\n",
        "      df_minority,\n",
        "      replace=True,\n",
        "      n_samples=len(df_majority),\n",
        "      random_state=42)\n"
      ]
    },
    {
      "cell_type": "code",
      "execution_count": 61,
      "metadata": {
        "id": "09hp0s823CXz"
      },
      "outputs": [],
      "source": [
        "# lets comnbain this to gather\n",
        "\n",
        "df =pd.concat([df_majority,df_minority_upsampled])\n",
        "#doing shuffle\n",
        "\n",
        "df = df.sample(frac=1,random_state=42).reset_index(drop=True)"
      ]
    },
    {
      "cell_type": "code",
      "execution_count": 62,
      "metadata": {
        "colab": {
          "base_uri": "https://localhost:8080/"
        },
        "id": "OTjEE0Ij3aX6",
        "outputId": "8096818e-9148-4073-fdc1-4cc1150a99e7"
      },
      "outputs": [
        {
          "name": "stdout",
          "output_type": "stream",
          "text": [
            "Working Professional or Student\n",
            "0    82378\n",
            "1    82378\n",
            "Name: count, dtype: int64\n"
          ]
        }
      ],
      "source": [
        "print(df[\"Working Professional or Student\"].value_counts())"
      ]
    },
    {
      "cell_type": "code",
      "execution_count": 63,
      "metadata": {
        "id": "NkGOIPV-3kGy"
      },
      "outputs": [],
      "source": [
        "# now for Depression"
      ]
    },
    {
      "cell_type": "code",
      "execution_count": 64,
      "metadata": {
        "colab": {
          "base_uri": "https://localhost:8080/",
          "height": 178
        },
        "id": "mY-lz75z336y",
        "outputId": "62fc1974-aad5-4990-b127-4c9f8772fa66"
      },
      "outputs": [
        {
          "data": {
            "text/plain": [
              "Depression\n",
              "0    109310\n",
              "1     55446\n",
              "Name: count, dtype: int64"
            ]
          },
          "execution_count": 64,
          "metadata": {},
          "output_type": "execute_result"
        }
      ],
      "source": [
        "df[\"Depression\"].value_counts()"
      ]
    },
    {
      "cell_type": "code",
      "execution_count": 65,
      "metadata": {
        "colab": {
          "base_uri": "https://localhost:8080/",
          "height": 178
        },
        "id": "k8I0NtAB4JKd",
        "outputId": "0ee3193d-96bb-44da-e2fd-e116aa0e22ad"
      },
      "outputs": [
        {
          "data": {
            "text/plain": [
              "Depression\n",
              "0    109310\n",
              "1     55446\n",
              "Name: count, dtype: int64"
            ]
          },
          "execution_count": 65,
          "metadata": {},
          "output_type": "execute_result"
        }
      ],
      "source": [
        "df[\"Depression\"].value_counts()"
      ]
    },
    {
      "cell_type": "code",
      "execution_count": 66,
      "metadata": {
        "id": "JgbYm5ZnHVhN"
      },
      "outputs": [],
      "source": [
        "\n",
        "from sklearn.utils import resample\n",
        "\n",
        "\n",
        "df_majarity = df[df[\"Depression\"]== 0]\n",
        "df_minority = df[df[\"Depression\"]== 1]\n",
        "\n",
        "# Upsample the minority class\n",
        "df_minority_upsampled = resample(df_minority,\n",
        "                                 replace=True,       # sample with replacement\n",
        "                                 n_samples=len(df_majority),  # match number of majority class\n",
        "                                 random_state=42)     # reproducible results\n"
      ]
    },
    {
      "cell_type": "code",
      "execution_count": 67,
      "metadata": {
        "colab": {
          "base_uri": "https://localhost:8080/"
        },
        "id": "03ZV8MCuczEs",
        "outputId": "3fe7f4b9-9927-4739-e5d9-2ecc9439027d"
      },
      "outputs": [
        {
          "name": "stdout",
          "output_type": "stream",
          "text": [
            "Depression\n",
            "1    87524\n",
            "0    77232\n",
            "Name: count, dtype: int64\n"
          ]
        }
      ],
      "source": [
        "# same way cobaining the majority calss with unsampled minority class\n",
        "\n",
        "df_main = pd.concat([df_majority, df_minority_upsampled])\n",
        "\n",
        "# Shuffle the dataset\n",
        "df= df_main.sample(frac=1, random_state=42).reset_index(drop=True)\n",
        "\n",
        "# Check the new class distribution\n",
        "print(df_main['Depression'].value_counts())\n"
      ]
    },
    {
      "cell_type": "code",
      "execution_count": 68,
      "metadata": {
        "colab": {
          "base_uri": "https://localhost:8080/",
          "height": 178
        },
        "id": "TkRCmQXudFs4",
        "outputId": "b390440b-d3d4-49c2-ab2d-855ffea85e4c"
      },
      "outputs": [
        {
          "data": {
            "text/plain": [
              "Depression\n",
              "1    87524\n",
              "0    77232\n",
              "Name: count, dtype: int64"
            ]
          },
          "execution_count": 68,
          "metadata": {},
          "output_type": "execute_result"
        }
      ],
      "source": [
        "df[\"Depression\"].value_counts()"
      ]
    },
    {
      "cell_type": "code",
      "execution_count": 69,
      "metadata": {
        "colab": {
          "base_uri": "https://localhost:8080/",
          "height": 636
        },
        "id": "uNTwg-4GdIvl",
        "outputId": "297d18cc-46f2-44f3-c742-8571d09cfd0f"
      },
      "outputs": [
        {
          "name": "stdout",
          "output_type": "stream",
          "text": [
            "Depression\n",
            "1    87524\n",
            "0    77232\n",
            "Name: count, dtype: int64\n"
          ]
        },
        {
          "name": "stderr",
          "output_type": "stream",
          "text": [
            "C:\\Users\\Admin\\AppData\\Local\\Temp\\ipykernel_12868\\1397525719.py:6: FutureWarning: \n",
            "\n",
            "Passing `palette` without assigning `hue` is deprecated and will be removed in v0.14.0. Assign the `x` variable to `hue` and set `legend=False` for the same effect.\n",
            "\n",
            "  sns.countplot(data=df, x='Depression', palette='Set2')\n"
          ]
        },
        {
          "data": {
            "image/png": "[encoded data removed]",
            "text/plain": [
              "<Figure size 640x480 with 1 Axes>"
            ]
          },
          "metadata": {},
          "output_type": "display_data"
        }
      ],
      "source": [
        "import seaborn as sns\n",
        "import matplotlib.pyplot as plt\n",
        "\n",
        "print(df['Depression'].value_counts())\n",
        "\n",
        "sns.countplot(data=df, x='Depression', palette='Set2')\n",
        "plt.title(\"Class Distribution After Upsampling\")\n",
        "plt.show()"
      ]
    },
    {
      "cell_type": "code",
      "execution_count": 70,
      "metadata": {
        "colab": {
          "base_uri": "https://localhost:8080/"
        },
        "id": "zRrJjgQfdSV-",
        "outputId": "090ed653-126d-4a9e-a8d0-29b4fac6ea0a"
      },
      "outputs": [
        {
          "name": "stdout",
          "output_type": "stream",
          "text": [
            "1.6.1\n"
          ]
        }
      ],
      "source": [
        "\n",
        "import sklearn\n",
        "print(sklearn.__version__)"
      ]
    },
    {
      "cell_type": "code",
      "execution_count": 71,
      "metadata": {
        "id": "C2srUi21dYlc"
      },
      "outputs": [],
      "source": [
        "city_label_encoding = {\n",
        "    'Kalyan': 0,\n",
        "    'Patna': 1,\n",
        "    'Vasai-Virar': 2,\n",
        "    'Kolkata': 3,\n",
        "    'Ahmedabad': 4,\n",
        "    'Meerut': 5,\n",
        "    'Ludhiana': 6,\n",
        "    'Pune': 7,\n",
        "    'Rajkot': 8,\n",
        "    'Visakhapatnam': 9,\n",
        "    'Srinagar': 10,\n",
        "    'Mumbai': 11,\n",
        "    'Indore': 12,\n",
        "    'Agra': 13,\n",
        "    'Surat': 14,\n",
        "    'Varanasi': 15,\n",
        "    'Vadodara': 16,\n",
        "    'Hyderabad': 17,\n",
        "    'Kanpur': 18,\n",
        "    'Jaipur': 19,\n",
        "    'Thane': 20,\n",
        "    'Lucknow': 21,\n",
        "    'Nagpur': 22,\n",
        "    'Bangalore': 23,\n",
        "    'Chennai': 24,\n",
        "    'Ghaziabad': 25,\n",
        "    'Delhi': 26,\n",
        "    'Bhopal': 27,\n",
        "    'Faridabad': 28,\n",
        "    'Nashik': 29,\n",
        "    'Gurgaon': 30\n",
        "}\n",
        "\n",
        "# Assume you have a DataFrame called df with a 'city' column\n",
        "# Apply city label encoding\n",
        "df['city_encoded'] = df['City'].map(city_label_encoding)\n",
        "df=df.drop(columns='City')"
      ]
    },
    {
      "cell_type": "code",
      "execution_count": 72,
      "metadata": {
        "id": "I6nBxoIzdZID"
      },
      "outputs": [],
      "source": [
        "# Your predefined label encoding dictionary\n",
        "label_encoding = {\n",
        "    'Teacher': 0,\n",
        "    'Content Writer': 1,\n",
        "    'HR Manager': 2,\n",
        "    'Architect': 3,\n",
        "    'Consultant': 4,\n",
        "    'Pharmacist': 5,\n",
        "    'Doctor': 6,\n",
        "    'Business Analyst': 7,\n",
        "    'Entrepreneur': 8,\n",
        "    'Chemist': 9,\n",
        "    'Chef': 10,\n",
        "    'Educational Consultant': 11,\n",
        "    'Data Scientist': 12,\n",
        "    'Researcher': 13,\n",
        "    'Lawyer': 14,\n",
        "    'Customer Support': 15,\n",
        "    'Marketing Manager': 16,\n",
        "    'Pilot': 17,\n",
        "    'Travel Consultant': 18,\n",
        "    'Plumber': 19,\n",
        "    'Sales Executive': 20,\n",
        "    'Manager': 21,\n",
        "    'Judge': 22,\n",
        "    'Electrician': 23,\n",
        "    'Financial Analyst': 24,\n",
        "    'Software Engineer': 25,\n",
        "    'Civil Engineer': 26,\n",
        "    'UX/UI Designer': 27,\n",
        "    'Digital Marketer': 28,\n",
        "    'Accountant': 29,\n",
        "    'Mechanical Engineer': 30,\n",
        "    'Graphic Designer': 31,\n",
        "    'Research Analyst': 32,\n",
        "    'Investment Banker': 33,\n",
        "    'Family Consultant': 34,\n",
        "    'Medical Doctor': 35\n",
        "}\n",
        "\n",
        "# Assume you already have a DataFrame called df with a 'profession' column\n",
        "# Apply label encoding\n",
        "df['profession_encoded'] = df['Profession'].map(label_encoding)\n",
        "df=df.drop(columns='Profession')"
      ]
    },
    {
      "cell_type": "code",
      "execution_count": 73,
      "metadata": {
        "id": "fN2Q5v1xdchq"
      },
      "outputs": [],
      "source": [
        "# Predefined label encoding for degrees\n",
        "degree_label_encoding = {\n",
        "    'B.Ed': 0,\n",
        "    'B.Arch': 1,\n",
        "    'B.Com': 2,\n",
        "    'BHM': 3,\n",
        "    'BSc': 4,\n",
        "    'B.Pharm': 5,\n",
        "    'BCA': 6,\n",
        "    'M.Ed': 7,\n",
        "    'MCA': 8,\n",
        "    'BBA': 9,\n",
        "    'MSc': 10,\n",
        "    'LLM': 11,\n",
        "    'LLB': 12,\n",
        "    'M.Tech': 13,\n",
        "    'M.Pharm': 14,\n",
        "    'B.Tech': 15,\n",
        "    'MBA': 16,\n",
        "    'BA': 17,\n",
        "    'ME': 18,\n",
        "    'MD': 19,\n",
        "    'MHM': 20,\n",
        "    'MBBS': 21,\n",
        "    'BE': 22,\n",
        "    'PhD': 23,\n",
        "    'M.Com': 24,\n",
        "    'MA': 25,\n",
        "    'M.Arch': 26\n",
        "}\n",
        "\n",
        "# Assuming you have a DataFrame `df` with a 'degree' column\n",
        "# Apply the encoding\n",
        "df['degree_encoded'] = df['Degree'].map(degree_label_encoding)\n",
        "df=df.drop(columns='Degree')"
      ]
    },
    {
      "cell_type": "code",
      "execution_count": 74,
      "metadata": {
        "id": "jrWqQ6YBdfMN"
      },
      "outputs": [],
      "source": [
        "pd.set_option(\"display.max_columns\",None)"
      ]
    },
    {
      "cell_type": "code",
      "execution_count": 75,
      "metadata": {
        "colab": {
          "base_uri": "https://localhost:8080/",
          "height": 295
        },
        "id": "KWVnyEildi_J",
        "outputId": "72d3b70d-8177-4e25-8844-5400dfe5ae56"
      },
      "outputs": [
        {
          "data": {
            "text/html": [
              "<div>\n",
              "<style scoped>\n",
              "    .dataframe tbody tr th:only-of-type {\n",
              "        vertical-align: middle;\n",
              "    }\n",
              "\n",
              "    .dataframe tbody tr th {\n",
              "        vertical-align: top;\n",
              "    }\n",
              "\n",
              "    .dataframe thead th {\n",
              "        text-align: right;\n",
              "    }\n",
              "</style>\n",
              "<table border=\"1\" class=\"dataframe\">\n",
              "  <thead>\n",
              "    <tr style=\"text-align: right;\">\n",
              "      <th></th>\n",
              "      <th>Gender</th>\n",
              "      <th>Age</th>\n",
              "      <th>Working Professional or Student</th>\n",
              "      <th>Work Pressure</th>\n",
              "      <th>Job Satisfaction</th>\n",
              "      <th>Dietary Habits</th>\n",
              "      <th>Have you ever had suicidal thoughts ?</th>\n",
              "      <th>Work/Study Hours</th>\n",
              "      <th>Financial Stress</th>\n",
              "      <th>Family History of Mental Illness</th>\n",
              "      <th>Depression</th>\n",
              "      <th>sleep_category</th>\n",
              "      <th>city_encoded</th>\n",
              "      <th>profession_encoded</th>\n",
              "      <th>degree_encoded</th>\n",
              "    </tr>\n",
              "  </thead>\n",
              "  <tbody>\n",
              "    <tr>\n",
              "      <th>0</th>\n",
              "      <td>0</td>\n",
              "      <td>24.0</td>\n",
              "      <td>0</td>\n",
              "      <td>3.321508</td>\n",
              "      <td>2.845133</td>\n",
              "      <td>3</td>\n",
              "      <td>1</td>\n",
              "      <td>9.0</td>\n",
              "      <td>4.0</td>\n",
              "      <td>0</td>\n",
              "      <td>1</td>\n",
              "      <td>2</td>\n",
              "      <td>27</td>\n",
              "      <td>0</td>\n",
              "      <td>15</td>\n",
              "    </tr>\n",
              "    <tr>\n",
              "      <th>1</th>\n",
              "      <td>0</td>\n",
              "      <td>31.0</td>\n",
              "      <td>1</td>\n",
              "      <td>5.000000</td>\n",
              "      <td>2.000000</td>\n",
              "      <td>2</td>\n",
              "      <td>1</td>\n",
              "      <td>2.0</td>\n",
              "      <td>3.0</td>\n",
              "      <td>1</td>\n",
              "      <td>1</td>\n",
              "      <td>2</td>\n",
              "      <td>4</td>\n",
              "      <td>5</td>\n",
              "      <td>14</td>\n",
              "    </tr>\n",
              "    <tr>\n",
              "      <th>2</th>\n",
              "      <td>0</td>\n",
              "      <td>25.0</td>\n",
              "      <td>1</td>\n",
              "      <td>5.000000</td>\n",
              "      <td>3.000000</td>\n",
              "      <td>3</td>\n",
              "      <td>1</td>\n",
              "      <td>12.0</td>\n",
              "      <td>5.0</td>\n",
              "      <td>0</td>\n",
              "      <td>1</td>\n",
              "      <td>1</td>\n",
              "      <td>6</td>\n",
              "      <td>12</td>\n",
              "      <td>18</td>\n",
              "    </tr>\n",
              "    <tr>\n",
              "      <th>3</th>\n",
              "      <td>0</td>\n",
              "      <td>28.0</td>\n",
              "      <td>0</td>\n",
              "      <td>3.360331</td>\n",
              "      <td>2.788430</td>\n",
              "      <td>3</td>\n",
              "      <td>1</td>\n",
              "      <td>1.0</td>\n",
              "      <td>1.0</td>\n",
              "      <td>0</td>\n",
              "      <td>1</td>\n",
              "      <td>2</td>\n",
              "      <td>3</td>\n",
              "      <td>0</td>\n",
              "      <td>4</td>\n",
              "    </tr>\n",
              "    <tr>\n",
              "      <th>4</th>\n",
              "      <td>1</td>\n",
              "      <td>37.0</td>\n",
              "      <td>1</td>\n",
              "      <td>5.000000</td>\n",
              "      <td>2.000000</td>\n",
              "      <td>2</td>\n",
              "      <td>1</td>\n",
              "      <td>10.0</td>\n",
              "      <td>5.0</td>\n",
              "      <td>1</td>\n",
              "      <td>1</td>\n",
              "      <td>2</td>\n",
              "      <td>18</td>\n",
              "      <td>16</td>\n",
              "      <td>25</td>\n",
              "    </tr>\n",
              "  </tbody>\n",
              "</table>\n",
              "</div>"
            ],
            "text/plain": [
              "   Gender   Age  Working Professional or Student  Work Pressure  \\\n",
              "0       0  24.0                                0       3.321508   \n",
              "1       0  31.0                                1       5.000000   \n",
              "2       0  25.0                                1       5.000000   \n",
              "3       0  28.0                                0       3.360331   \n",
              "4       1  37.0                                1       5.000000   \n",
              "\n",
              "   Job Satisfaction  Dietary Habits  Have you ever had suicidal thoughts ?  \\\n",
              "0          2.845133               3                                      1   \n",
              "1          2.000000               2                                      1   \n",
              "2          3.000000               3                                      1   \n",
              "3          2.788430               3                                      1   \n",
              "4          2.000000               2                                      1   \n",
              "\n",
              "   Work/Study Hours  Financial Stress  Family History of Mental Illness  \\\n",
              "0               9.0               4.0                                 0   \n",
              "1               2.0               3.0                                 1   \n",
              "2              12.0               5.0                                 0   \n",
              "3               1.0               1.0                                 0   \n",
              "4              10.0               5.0                                 1   \n",
              "\n",
              "   Depression  sleep_category  city_encoded  profession_encoded  \\\n",
              "0           1               2            27                   0   \n",
              "1           1               2             4                   5   \n",
              "2           1               1             6                  12   \n",
              "3           1               2             3                   0   \n",
              "4           1               2            18                  16   \n",
              "\n",
              "   degree_encoded  \n",
              "0              15  \n",
              "1              14  \n",
              "2              18  \n",
              "3               4  \n",
              "4              25  "
            ]
          },
          "execution_count": 75,
          "metadata": {},
          "output_type": "execute_result"
        }
      ],
      "source": [
        "df.head()"
      ]
    },
    {
      "cell_type": "code",
      "execution_count": 76,
      "metadata": {
        "colab": {
          "base_uri": "https://localhost:8080/"
        },
        "id": "yi0XPysSdvgf",
        "outputId": "37eb5f17-4cc2-404c-a42a-f7ecc4273dc5"
      },
      "outputs": [
        {
          "name": "stdout",
          "output_type": "stream",
          "text": [
            "<class 'pandas.core.frame.DataFrame'>\n",
            "RangeIndex: 164756 entries, 0 to 164755\n",
            "Data columns (total 15 columns):\n",
            " #   Column                                 Non-Null Count   Dtype  \n",
            "---  ------                                 --------------   -----  \n",
            " 0   Gender                                 164756 non-null  int64  \n",
            " 1   Age                                    164756 non-null  float64\n",
            " 2   Working Professional or Student        164756 non-null  int64  \n",
            " 3   Work Pressure                          164756 non-null  float64\n",
            " 4   Job Satisfaction                       164756 non-null  float64\n",
            " 5   Dietary Habits                         164756 non-null  int64  \n",
            " 6   Have you ever had suicidal thoughts ?  164756 non-null  int64  \n",
            " 7   Work/Study Hours                       164756 non-null  float64\n",
            " 8   Financial Stress                       164756 non-null  float64\n",
            " 9   Family History of Mental Illness       164756 non-null  int64  \n",
            " 10  Depression                             164756 non-null  int64  \n",
            " 11  sleep_category                         164756 non-null  int64  \n",
            " 12  city_encoded                           164756 non-null  int64  \n",
            " 13  profession_encoded                     164756 non-null  int64  \n",
            " 14  degree_encoded                         164756 non-null  int64  \n",
            "dtypes: float64(5), int64(10)\n",
            "memory usage: 18.9 MB\n"
          ]
        }
      ],
      "source": [
        "df.info()"
      ]
    },
    {
      "cell_type": "code",
      "execution_count": 77,
      "metadata": {
        "colab": {
          "base_uri": "https://localhost:8080/"
        },
        "id": "qaDpQ6CUeCpg",
        "outputId": "6b60948e-4358-42b6-d0c6-6a9a7d8c25be"
      },
      "outputs": [
        {
          "data": {
            "text/plain": [
              "Index(['Gender', 'Age', 'Working Professional or Student', 'Work Pressure',\n",
              "       'Job Satisfaction', 'Dietary Habits',\n",
              "       'Have you ever had suicidal thoughts ?', 'Work/Study Hours',\n",
              "       'Financial Stress', 'Family History of Mental Illness', 'Depression',\n",
              "       'sleep_category', 'city_encoded', 'profession_encoded',\n",
              "       'degree_encoded'],\n",
              "      dtype='object')"
            ]
          },
          "execution_count": 77,
          "metadata": {},
          "output_type": "execute_result"
        }
      ],
      "source": [
        "df.columns"
      ]
    },
    {
      "cell_type": "code",
      "execution_count": 78,
      "metadata": {
        "id": "qi0xgS3YeHEK"
      },
      "outputs": [],
      "source": [
        "numerical_cols = ['Age', 'Work Pressure', 'Job Satisfaction', 'Work/Study Hours', 'Financial Stress']\n",
        "\n",
        "# Changed 'Sleep_Category' to 'sleep_category' to match the column name in the DataFrame\n",
        "categorical_cols=['Gender','profession_encoded','city_encoded','degree_encoded', 'Working Professional or Student', 'sleep_category', 'Dietary Habits', 'Have you ever had suicidal thoughts ?', 'Family History of Mental Illness', 'Depression']"
      ]
    },
    {
      "cell_type": "code",
      "execution_count": 79,
      "metadata": {
        "colab": {
          "base_uri": "https://localhost:8080/",
          "height": 1000
        },
        "id": "wFJyFIJ0eUZi",
        "outputId": "4ac33acc-0c99-4619-bb17-f44c080da194"
      },
      "outputs": [
        {
          "data": {
            "image/png": "[encoded data removed]",
            "text/plain": [
              "<Figure size 1000x400 with 1 Axes>"
            ]
          },
          "metadata": {},
          "output_type": "display_data"
        },
        {
          "data": {
            "image/png": "[encoded data removed]",
            "text/plain": [
              "<Figure size 1000x400 with 1 Axes>"
            ]
          },
          "metadata": {},
          "output_type": "display_data"
        },
        {
          "data": {
            "image/png": "[encoded data removed]",
            "text/plain": [
              "<Figure size 1000x400 with 1 Axes>"
            ]
          },
          "metadata": {},
          "output_type": "display_data"
        },
        {
          "data": {
            "image/png": "[encoded data removed]",
            "text/plain": [
              "<Figure size 1000x400 with 1 Axes>"
            ]
          },
          "metadata": {},
          "output_type": "display_data"
        },
        {
          "data": {
            "image/png": "[encoded data removed]",
            "text/plain": [
              "<Figure size 1000x400 with 1 Axes>"
            ]
          },
          "metadata": {},
          "output_type": "display_data"
        },
        {
          "name": "stdout",
          "output_type": "stream",
          "text": [
            "\n",
            "--- Categorical Features EDA ---\n",
            "\n",
            "Value counts for Gender:\n",
            "Gender\n",
            "1    97994\n",
            "0    66762\n",
            "Name: count, dtype: int64\n",
            "\n",
            "Value counts for profession_encoded:\n",
            "profession_encoded\n",
            "0     61370\n",
            "2     23059\n",
            "1      8079\n",
            "3      5189\n",
            "4      4516\n",
            "5      4094\n",
            "6      3557\n",
            "7      3426\n",
            "11     3197\n",
            "10     3139\n",
            "9      3099\n",
            "8      3099\n",
            "12     2635\n",
            "14     2483\n",
            "13     2449\n",
            "15     2200\n",
            "16     2134\n",
            "17     2046\n",
            "22     1982\n",
            "18     1977\n",
            "21     1966\n",
            "19     1910\n",
            "20     1865\n",
            "24     1765\n",
            "23     1670\n",
            "26     1669\n",
            "25     1650\n",
            "27     1568\n",
            "28     1483\n",
            "29     1479\n",
            "31     1459\n",
            "30     1347\n",
            "32      748\n",
            "33      447\n",
            "Name: count, dtype: int64\n",
            "\n",
            "Value counts for city_encoded:\n",
            "city_encoded\n",
            "0     8663\n",
            "2     6770\n",
            "10    6747\n",
            "4     6683\n",
            "17    6625\n",
            "1     6366\n",
            "6     6268\n",
            "3     6235\n",
            "20    6126\n",
            "7     6063\n",
            "5     6028\n",
            "8     5870\n",
            "11    5836\n",
            "21    5566\n",
            "9     5493\n",
            "14    5343\n",
            "13    5336\n",
            "19    5131\n",
            "12    5097\n",
            "22    4878\n",
            "24    4863\n",
            "26    4767\n",
            "15    4667\n",
            "27    4654\n",
            "23    4572\n",
            "16    4484\n",
            "18    4268\n",
            "25    4177\n",
            "29    3654\n",
            "28    3525\n",
            "30       1\n",
            "Name: count, dtype: int64\n",
            "\n",
            "Value counts for degree_encoded:\n",
            "degree_encoded\n",
            "0     16966\n",
            "1     14089\n",
            "2     11805\n",
            "3     10445\n",
            "4      8951\n",
            "6      8782\n",
            "8      7541\n",
            "10     7417\n",
            "15     6356\n",
            "9      6042\n",
            "13     5854\n",
            "7      5507\n",
            "5      5503\n",
            "17     4612\n",
            "14     4256\n",
            "24     4136\n",
            "22     4052\n",
            "16     4043\n",
            "18     3830\n",
            "12     3798\n",
            "25     3773\n",
            "20     3597\n",
            "11     3535\n",
            "19     3402\n",
            "21     3276\n",
            "23     3185\n",
            "26        3\n",
            "Name: count, dtype: int64\n",
            "\n",
            "Value counts for Working Professional or Student:\n",
            "Working Professional or Student\n",
            "1    89986\n",
            "0    74770\n",
            "Name: count, dtype: int64\n",
            "\n",
            "Value counts for sleep_category:\n",
            "sleep_category\n",
            "2    80828\n",
            "1    48908\n",
            "3    35020\n",
            "Name: count, dtype: int64\n",
            "\n",
            "Value counts for Dietary Habits:\n",
            "Dietary Habits\n",
            "2    64101\n",
            "3    55942\n",
            "1    44713\n",
            "Name: count, dtype: int64\n",
            "\n",
            "Value counts for Have you ever had suicidal thoughts ?:\n",
            "Have you ever had suicidal thoughts ?\n",
            "1    107872\n",
            "0     56884\n",
            "Name: count, dtype: int64\n",
            "\n",
            "Value counts for Family History of Mental Illness:\n",
            "Family History of Mental Illness\n",
            "0    82714\n",
            "1    82042\n",
            "Name: count, dtype: int64\n",
            "\n",
            "Value counts for Depression:\n",
            "Depression\n",
            "1    87524\n",
            "0    77232\n",
            "Name: count, dtype: int64\n"
          ]
        },
        {
          "name": "stderr",
          "output_type": "stream",
          "text": [
            "C:\\Users\\Admin\\AppData\\Local\\Temp\\ipykernel_12868\\2921499058.py:25: FutureWarning: \n",
            "\n",
            "Passing `palette` without assigning `hue` is deprecated and will be removed in v0.14.0. Assign the `x` variable to `hue` and set `legend=False` for the same effect.\n",
            "\n",
            "  sns.countplot(data=df, x=col, order=order, palette='Set2')\n"
          ]
        },
        {
          "data": {
            "image/png": "[encoded data removed]",
            "text/plain": [
              "<Figure size 1200x500 with 1 Axes>"
            ]
          },
          "metadata": {},
          "output_type": "display_data"
        },
        {
          "name": "stderr",
          "output_type": "stream",
          "text": [
            "C:\\Users\\Admin\\AppData\\Local\\Temp\\ipykernel_12868\\2921499058.py:25: FutureWarning: \n",
            "\n",
            "Passing `palette` without assigning `hue` is deprecated and will be removed in v0.14.0. Assign the `x` variable to `hue` and set `legend=False` for the same effect.\n",
            "\n",
            "  sns.countplot(data=df, x=col, order=order, palette='Set2')\n"
          ]
        },
        {
          "data": {
            "image/png": "[encoded data removed]",
            "text/plain": [
              "<Figure size 1200x500 with 1 Axes>"
            ]
          },
          "metadata": {},
          "output_type": "display_data"
        },
        {
          "name": "stderr",
          "output_type": "stream",
          "text": [
            "C:\\Users\\Admin\\AppData\\Local\\Temp\\ipykernel_12868\\2921499058.py:25: FutureWarning: \n",
            "\n",
            "Passing `palette` without assigning `hue` is deprecated and will be removed in v0.14.0. Assign the `x` variable to `hue` and set `legend=False` for the same effect.\n",
            "\n",
            "  sns.countplot(data=df, x=col, order=order, palette='Set2')\n"
          ]
        },
        {
          "data": {
            "image/png": "[encoded data removed]",
            "text/plain": [
              "<Figure size 1200x500 with 1 Axes>"
            ]
          },
          "metadata": {},
          "output_type": "display_data"
        },
        {
          "name": "stderr",
          "output_type": "stream",
          "text": [
            "C:\\Users\\Admin\\AppData\\Local\\Temp\\ipykernel_12868\\2921499058.py:25: FutureWarning: \n",
            "\n",
            "Passing `palette` without assigning `hue` is deprecated and will be removed in v0.14.0. Assign the `x` variable to `hue` and set `legend=False` for the same effect.\n",
            "\n",
            "  sns.countplot(data=df, x=col, order=order, palette='Set2')\n"
          ]
        },
        {
          "data": {
            "image/png": "[encoded data removed]",
            "text/plain": [
              "<Figure size 1200x500 with 1 Axes>"
            ]
          },
          "metadata": {},
          "output_type": "display_data"
        },
        {
          "name": "stderr",
          "output_type": "stream",
          "text": [
            "C:\\Users\\Admin\\AppData\\Local\\Temp\\ipykernel_12868\\2921499058.py:25: FutureWarning: \n",
            "\n",
            "Passing `palette` without assigning `hue` is deprecated and will be removed in v0.14.0. Assign the `x` variable to `hue` and set `legend=False` for the same effect.\n",
            "\n",
            "  sns.countplot(data=df, x=col, order=order, palette='Set2')\n"
          ]
        },
        {
          "data": {
            "image/png": "[encoded data removed]",
            "text/plain": [
              "<Figure size 1200x500 with 1 Axes>"
            ]
          },
          "metadata": {},
          "output_type": "display_data"
        },
        {
          "name": "stderr",
          "output_type": "stream",
          "text": [
            "C:\\Users\\Admin\\AppData\\Local\\Temp\\ipykernel_12868\\2921499058.py:25: FutureWarning: \n",
            "\n",
            "Passing `palette` without assigning `hue` is deprecated and will be removed in v0.14.0. Assign the `x` variable to `hue` and set `legend=False` for the same effect.\n",
            "\n",
            "  sns.countplot(data=df, x=col, order=order, palette='Set2')\n"
          ]
        },
        {
          "data": {
            "image/png": "[encoded data removed]",
            "text/plain": [
              "<Figure size 1200x500 with 1 Axes>"
            ]
          },
          "metadata": {},
          "output_type": "display_data"
        },
        {
          "name": "stderr",
          "output_type": "stream",
          "text": [
            "C:\\Users\\Admin\\AppData\\Local\\Temp\\ipykernel_12868\\2921499058.py:25: FutureWarning: \n",
            "\n",
            "Passing `palette` without assigning `hue` is deprecated and will be removed in v0.14.0. Assign the `x` variable to `hue` and set `legend=False` for the same effect.\n",
            "\n",
            "  sns.countplot(data=df, x=col, order=order, palette='Set2')\n"
          ]
        },
        {
          "data": {
            "image/png": "[encoded data removed]",
            "text/plain": [
              "<Figure size 1200x500 with 1 Axes>"
            ]
          },
          "metadata": {},
          "output_type": "display_data"
        },
        {
          "name": "stderr",
          "output_type": "stream",
          "text": [
            "C:\\Users\\Admin\\AppData\\Local\\Temp\\ipykernel_12868\\2921499058.py:25: FutureWarning: \n",
            "\n",
            "Passing `palette` without assigning `hue` is deprecated and will be removed in v0.14.0. Assign the `x` variable to `hue` and set `legend=False` for the same effect.\n",
            "\n",
            "  sns.countplot(data=df, x=col, order=order, palette='Set2')\n"
          ]
        },
        {
          "data": {
            "image/png": "[encoded data removed]",
            "text/plain": [
              "<Figure size 1200x500 with 1 Axes>"
            ]
          },
          "metadata": {},
          "output_type": "display_data"
        },
        {
          "name": "stderr",
          "output_type": "stream",
          "text": [
            "C:\\Users\\Admin\\AppData\\Local\\Temp\\ipykernel_12868\\2921499058.py:25: FutureWarning: \n",
            "\n",
            "Passing `palette` without assigning `hue` is deprecated and will be removed in v0.14.0. Assign the `x` variable to `hue` and set `legend=False` for the same effect.\n",
            "\n",
            "  sns.countplot(data=df, x=col, order=order, palette='Set2')\n"
          ]
        },
        {
          "data": {
            "image/png": "[encoded data removed]",
            "text/plain": [
              "<Figure size 1200x500 with 1 Axes>"
            ]
          },
          "metadata": {},
          "output_type": "display_data"
        },
        {
          "name": "stderr",
          "output_type": "stream",
          "text": [
            "C:\\Users\\Admin\\AppData\\Local\\Temp\\ipykernel_12868\\2921499058.py:25: FutureWarning: \n",
            "\n",
            "Passing `palette` without assigning `hue` is deprecated and will be removed in v0.14.0. Assign the `x` variable to `hue` and set `legend=False` for the same effect.\n",
            "\n",
            "  sns.countplot(data=df, x=col, order=order, palette='Set2')\n"
          ]
        },
        {
          "data": {
            "image/png": "[encoded data removed]",
            "text/plain": [
              "<Figure size 1200x500 with 1 Axes>"
            ]
          },
          "metadata": {},
          "output_type": "display_data"
        },
        {
          "data": {
            "image/png": "[encoded data removed]",
            "text/plain": [
              "<Figure size 1200x800 with 2 Axes>"
            ]
          },
          "metadata": {},
          "output_type": "display_data"
        }
      ],
      "source": [
        "import matplotlib.pyplot as plt\n",
        "import seaborn as sns\n",
        "# -------------------- NUMERICAL FEATURES EDA --------------------\n",
        "\n",
        "# Plotting Numerical Distributions\n",
        "for col in numerical_cols:\n",
        "    plt.figure(figsize=(10, 4))\n",
        "    sns.histplot(df[col], kde=True, bins=30, color='skyblue')\n",
        "    plt.title(f'Distribution of {col}')\n",
        "    plt.xlabel(col)\n",
        "    plt.ylabel('Frequency')\n",
        "    plt.grid(True)\n",
        "    plt.show()\n",
        "\n",
        "# -------------------- CATEGORICAL FEATURES EDA --------------------\n",
        "print(\"\\n--- Categorical Features EDA ---\")\n",
        "for col in categorical_cols:\n",
        "    print(f\"\\nValue counts for {col}:\")\n",
        "    print(df[col].value_counts())\n",
        "\n",
        "# Plotting Categorical Distributions\n",
        "for col in categorical_cols:\n",
        "    plt.figure(figsize=(12, 5))\n",
        "    order = df[col].value_counts().index\n",
        "    sns.countplot(data=df, x=col, order=order, palette='Set2')\n",
        "    plt.title(f'Count Plot of {col}')\n",
        "    plt.xticks(rotation=45, ha='right')\n",
        "    plt.grid(True)\n",
        "    plt.show()\n",
        "\n",
        "# -------------------- CORRELATION HEATMAP --------------------\n",
        "if len(numerical_cols) > 1:\n",
        "    plt.figure(figsize=(12, 8))\n",
        "    corr = df[numerical_cols].corr()\n",
        "    sns.heatmap(corr, annot=True, cmap='coolwarm', fmt='.2f')\n",
        "    plt.title(\"Correlation Heatmap between Nu\")"
      ]
    },
    {
      "cell_type": "code",
      "execution_count": 80,
      "metadata": {
        "colab": {
          "base_uri": "https://localhost:8080/"
        },
        "id": "wjQZwBWae80W",
        "outputId": "9214f10f-56b3-49e6-8a85-01936360f479"
      },
      "outputs": [
        {
          "name": "stdout",
          "output_type": "stream",
          "text": [
            "profession_encoded\n",
            "0     61370\n",
            "2     23059\n",
            "1      8079\n",
            "3      5189\n",
            "4      4516\n",
            "5      4094\n",
            "6      3557\n",
            "7      3426\n",
            "11     3197\n",
            "10     3139\n",
            "9      3099\n",
            "8      3099\n",
            "12     2635\n",
            "14     2483\n",
            "13     2449\n",
            "15     2200\n",
            "16     2134\n",
            "17     2046\n",
            "22     1982\n",
            "18     1977\n",
            "21     1966\n",
            "19     1910\n",
            "20     1865\n",
            "24     1765\n",
            "23     1670\n",
            "26     1669\n",
            "25     1650\n",
            "27     1568\n",
            "28     1483\n",
            "29     1479\n",
            "31     1459\n",
            "30     1347\n",
            "32      748\n",
            "33      447\n",
            "Name: count, dtype: int64\n"
          ]
        }
      ],
      "source": [
        "print(df[\"profession_encoded\"].value_counts())"
      ]
    },
    {
      "cell_type": "code",
      "execution_count": 81,
      "metadata": {
        "id": "NwAmdboieYSE"
      },
      "outputs": [],
      "source": [
        "# Data modelling"
      ]
    },
    {
      "cell_type": "code",
      "execution_count": 82,
      "metadata": {
        "colab": {
          "base_uri": "https://localhost:8080/"
        },
        "id": "hRVKInVVfu_Y",
        "outputId": "e35b5231-406b-4c86-9716-4ec63860f4a6"
      },
      "outputs": [
        {
          "name": "stdout",
          "output_type": "stream",
          "text": [
            "<class 'pandas.core.frame.DataFrame'>\n",
            "RangeIndex: 164756 entries, 0 to 164755\n",
            "Data columns (total 15 columns):\n",
            " #   Column                                 Non-Null Count   Dtype  \n",
            "---  ------                                 --------------   -----  \n",
            " 0   Gender                                 164756 non-null  int64  \n",
            " 1   Age                                    164756 non-null  float64\n",
            " 2   Working Professional or Student        164756 non-null  int64  \n",
            " 3   Work Pressure                          164756 non-null  float64\n",
            " 4   Job Satisfaction                       164756 non-null  float64\n",
            " 5   Dietary Habits                         164756 non-null  int64  \n",
            " 6   Have you ever had suicidal thoughts ?  164756 non-null  int64  \n",
            " 7   Work/Study Hours                       164756 non-null  float64\n",
            " 8   Financial Stress                       164756 non-null  float64\n",
            " 9   Family History of Mental Illness       164756 non-null  int64  \n",
            " 10  Depression                             164756 non-null  int64  \n",
            " 11  sleep_category                         164756 non-null  int64  \n",
            " 12  city_encoded                           164756 non-null  int64  \n",
            " 13  profession_encoded                     164756 non-null  int64  \n",
            " 14  degree_encoded                         164756 non-null  int64  \n",
            "dtypes: float64(5), int64(10)\n",
            "memory usage: 18.9 MB\n"
          ]
        }
      ],
      "source": [
        "df.info()"
      ]
    },
    {
      "cell_type": "code",
      "execution_count": 83,
      "metadata": {
        "colab": {
          "base_uri": "https://localhost:8080/",
          "height": 295
        },
        "id": "N488X6A9fu4D",
        "outputId": "f3670017-8e15-4551-96d5-8f1938c4e778"
      },
      "outputs": [
        {
          "data": {
            "text/html": [
              "<div>\n",
              "<style scoped>\n",
              "    .dataframe tbody tr th:only-of-type {\n",
              "        vertical-align: middle;\n",
              "    }\n",
              "\n",
              "    .dataframe tbody tr th {\n",
              "        vertical-align: top;\n",
              "    }\n",
              "\n",
              "    .dataframe thead th {\n",
              "        text-align: right;\n",
              "    }\n",
              "</style>\n",
              "<table border=\"1\" class=\"dataframe\">\n",
              "  <thead>\n",
              "    <tr style=\"text-align: right;\">\n",
              "      <th></th>\n",
              "      <th>Gender</th>\n",
              "      <th>Age</th>\n",
              "      <th>Working Professional or Student</th>\n",
              "      <th>Work Pressure</th>\n",
              "      <th>Job Satisfaction</th>\n",
              "      <th>Dietary Habits</th>\n",
              "      <th>Have you ever had suicidal thoughts ?</th>\n",
              "      <th>Work/Study Hours</th>\n",
              "      <th>Financial Stress</th>\n",
              "      <th>Family History of Mental Illness</th>\n",
              "      <th>Depression</th>\n",
              "      <th>sleep_category</th>\n",
              "      <th>city_encoded</th>\n",
              "      <th>profession_encoded</th>\n",
              "      <th>degree_encoded</th>\n",
              "    </tr>\n",
              "  </thead>\n",
              "  <tbody>\n",
              "    <tr>\n",
              "      <th>0</th>\n",
              "      <td>0</td>\n",
              "      <td>24.0</td>\n",
              "      <td>0</td>\n",
              "      <td>3.321508</td>\n",
              "      <td>2.845133</td>\n",
              "      <td>3</td>\n",
              "      <td>1</td>\n",
              "      <td>9.0</td>\n",
              "      <td>4.0</td>\n",
              "      <td>0</td>\n",
              "      <td>1</td>\n",
              "      <td>2</td>\n",
              "      <td>27</td>\n",
              "      <td>0</td>\n",
              "      <td>15</td>\n",
              "    </tr>\n",
              "    <tr>\n",
              "      <th>1</th>\n",
              "      <td>0</td>\n",
              "      <td>31.0</td>\n",
              "      <td>1</td>\n",
              "      <td>5.000000</td>\n",
              "      <td>2.000000</td>\n",
              "      <td>2</td>\n",
              "      <td>1</td>\n",
              "      <td>2.0</td>\n",
              "      <td>3.0</td>\n",
              "      <td>1</td>\n",
              "      <td>1</td>\n",
              "      <td>2</td>\n",
              "      <td>4</td>\n",
              "      <td>5</td>\n",
              "      <td>14</td>\n",
              "    </tr>\n",
              "    <tr>\n",
              "      <th>2</th>\n",
              "      <td>0</td>\n",
              "      <td>25.0</td>\n",
              "      <td>1</td>\n",
              "      <td>5.000000</td>\n",
              "      <td>3.000000</td>\n",
              "      <td>3</td>\n",
              "      <td>1</td>\n",
              "      <td>12.0</td>\n",
              "      <td>5.0</td>\n",
              "      <td>0</td>\n",
              "      <td>1</td>\n",
              "      <td>1</td>\n",
              "      <td>6</td>\n",
              "      <td>12</td>\n",
              "      <td>18</td>\n",
              "    </tr>\n",
              "    <tr>\n",
              "      <th>3</th>\n",
              "      <td>0</td>\n",
              "      <td>28.0</td>\n",
              "      <td>0</td>\n",
              "      <td>3.360331</td>\n",
              "      <td>2.788430</td>\n",
              "      <td>3</td>\n",
              "      <td>1</td>\n",
              "      <td>1.0</td>\n",
              "      <td>1.0</td>\n",
              "      <td>0</td>\n",
              "      <td>1</td>\n",
              "      <td>2</td>\n",
              "      <td>3</td>\n",
              "      <td>0</td>\n",
              "      <td>4</td>\n",
              "    </tr>\n",
              "    <tr>\n",
              "      <th>4</th>\n",
              "      <td>1</td>\n",
              "      <td>37.0</td>\n",
              "      <td>1</td>\n",
              "      <td>5.000000</td>\n",
              "      <td>2.000000</td>\n",
              "      <td>2</td>\n",
              "      <td>1</td>\n",
              "      <td>10.0</td>\n",
              "      <td>5.0</td>\n",
              "      <td>1</td>\n",
              "      <td>1</td>\n",
              "      <td>2</td>\n",
              "      <td>18</td>\n",
              "      <td>16</td>\n",
              "      <td>25</td>\n",
              "    </tr>\n",
              "  </tbody>\n",
              "</table>\n",
              "</div>"
            ],
            "text/plain": [
              "   Gender   Age  Working Professional or Student  Work Pressure  \\\n",
              "0       0  24.0                                0       3.321508   \n",
              "1       0  31.0                                1       5.000000   \n",
              "2       0  25.0                                1       5.000000   \n",
              "3       0  28.0                                0       3.360331   \n",
              "4       1  37.0                                1       5.000000   \n",
              "\n",
              "   Job Satisfaction  Dietary Habits  Have you ever had suicidal thoughts ?  \\\n",
              "0          2.845133               3                                      1   \n",
              "1          2.000000               2                                      1   \n",
              "2          3.000000               3                                      1   \n",
              "3          2.788430               3                                      1   \n",
              "4          2.000000               2                                      1   \n",
              "\n",
              "   Work/Study Hours  Financial Stress  Family History of Mental Illness  \\\n",
              "0               9.0               4.0                                 0   \n",
              "1               2.0               3.0                                 1   \n",
              "2              12.0               5.0                                 0   \n",
              "3               1.0               1.0                                 0   \n",
              "4              10.0               5.0                                 1   \n",
              "\n",
              "   Depression  sleep_category  city_encoded  profession_encoded  \\\n",
              "0           1               2            27                   0   \n",
              "1           1               2             4                   5   \n",
              "2           1               1             6                  12   \n",
              "3           1               2             3                   0   \n",
              "4           1               2            18                  16   \n",
              "\n",
              "   degree_encoded  \n",
              "0              15  \n",
              "1              14  \n",
              "2              18  \n",
              "3               4  \n",
              "4              25  "
            ]
          },
          "execution_count": 83,
          "metadata": {},
          "output_type": "execute_result"
        }
      ],
      "source": [
        "df.head()"
      ]
    },
    {
      "cell_type": "code",
      "execution_count": 84,
      "metadata": {
        "id": "BGQaRuSmfxRp"
      },
      "outputs": [],
      "source": [
        "target_column = 'Depression'\n",
        "X = df.drop(columns=[target_column])  # Features DataFrame\n",
        "y = df[target_column]"
      ]
    },
    {
      "cell_type": "code",
      "execution_count": 85,
      "metadata": {
        "id": "V_ti3nlmIBfa"
      },
      "outputs": [],
      "source": [
        "from sklearn.preprocessing import StandardScaler"
      ]
    },
    {
      "cell_type": "code",
      "execution_count": 86,
      "metadata": {
        "id": "S63t-b6BIJGg"
      },
      "outputs": [],
      "source": [
        "sc = StandardScaler()"
      ]
    },
    {
      "cell_type": "code",
      "execution_count": 87,
      "metadata": {
        "id": "cDeYxbWuITha"
      },
      "outputs": [],
      "source": [
        "X = sc.fit_transform(X)"
      ]
    },
    {
      "cell_type": "code",
      "execution_count": 88,
      "metadata": {
        "colab": {
          "base_uri": "https://localhost:8080/"
        },
        "id": "wWhTuhzVIe_u",
        "outputId": "4adb68bb-80f6-4fcc-e10d-6ffaa92eb90f"
      },
      "outputs": [
        {
          "data": {
            "text/plain": [
              "array([[-1.21153251, -0.82250204, -1.09704334, ...,  1.61040226,\n",
              "        -0.7423227 ,  0.7797732 ],\n",
              "       [-1.21153251, -0.28345548,  0.91154102, ..., -1.06202125,\n",
              "        -0.17797155,  0.64731536],\n",
              "       [-1.21153251, -0.74549539,  0.91154102, ..., -0.8296366 ,\n",
              "         0.61212007,  1.17714671],\n",
              "       ...,\n",
              "       [-1.21153251, -0.20644883, -1.09704334, ...,  1.84278691,\n",
              "        -0.7423227 , -0.94217868],\n",
              "       [ 0.82540088, -1.05352199, -1.09704334, ..., -0.71344427,\n",
              "        -0.51658224, -0.14743166],\n",
              "       [ 0.82540088, -0.12944218, -1.09704334, ...,  1.26182528,\n",
              "        -0.7423227 ,  1.70697806]])"
            ]
          },
          "execution_count": 88,
          "metadata": {},
          "output_type": "execute_result"
        }
      ],
      "source": [
        "X"
      ]
    },
    {
      "cell_type": "code",
      "execution_count": 89,
      "metadata": {
        "colab": {
          "base_uri": "https://localhost:8080/"
        },
        "id": "SHnP8qL_1VRD",
        "outputId": "943a3b51-6538-414b-a531-a45f3fea4f6c"
      },
      "outputs": [
        {
          "name": "stdout",
          "output_type": "stream",
          "text": [
            "Requirement already satisfied: tensorflow in c:\\users\\admin\\appdata\\local\\programs\\python\\python312\\lib\\site-packages (2.19.0)\n",
            "Requirement already satisfied: absl-py>=1.0.0 in c:\\users\\admin\\appdata\\local\\programs\\python\\python312\\lib\\site-packages (from tensorflow) (2.2.2)\n",
            "Requirement already satisfied: astunparse>=1.6.0 in c:\\users\\admin\\appdata\\local\\programs\\python\\python312\\lib\\site-packages (from tensorflow) (1.6.3)\n",
            "Requirement already satisfied: flatbuffers>=24.3.25 in c:\\users\\admin\\appdata\\local\\programs\\python\\python312\\lib\\site-packages (from tensorflow) (25.2.10)\n",
            "Requirement already satisfied: gast!=0.5.0,!=0.5.1,!=0.5.2,>=0.2.1 in c:\\users\\admin\\appdata\\local\\programs\\python\\python312\\lib\\site-packages (from tensorflow) (0.6.0)\n",
            "Requirement already satisfied: google-pasta>=0.1.1 in c:\\users\\admin\\appdata\\local\\programs\\python\\python312\\lib\\site-packages (from tensorflow) (0.2.0)\n",
            "Requirement already satisfied: libclang>=13.0.0 in c:\\users\\admin\\appdata\\local\\programs\\python\\python312\\lib\\site-packages (from tensorflow) (18.1.1)\n",
            "Requirement already satisfied: opt-einsum>=2.3.2 in c:\\users\\admin\\appdata\\local\\programs\\python\\python312\\lib\\site-packages (from tensorflow) (3.4.0)\n",
            "Requirement already satisfied: packaging in c:\\users\\admin\\appdata\\roaming\\python\\python312\\site-packages (from tensorflow) (24.2)\n",
            "Requirement already satisfied: protobuf!=4.21.0,!=4.21.1,!=4.21.2,!=4.21.3,!=4.21.4,!=4.21.5,<6.0.0dev,>=3.20.3 in c:\\users\\admin\\appdata\\local\\programs\\python\\python312\\lib\\site-packages (from tensorflow) (5.29.4)\n",
            "Requirement already satisfied: requests<3,>=2.21.0 in c:\\users\\admin\\appdata\\local\\programs\\python\\python312\\lib\\site-packages (from tensorflow) (2.32.3)\n",
            "Requirement already satisfied: setuptools in c:\\users\\admin\\appdata\\local\\programs\\python\\python312\\lib\\site-packages (from tensorflow) (80.4.0)\n",
            "Requirement already satisfied: six>=1.12.0 in c:\\users\\admin\\appdata\\roaming\\python\\python312\\site-packages (from tensorflow) (1.17.0)\n",
            "Requirement already satisfied: termcolor>=1.1.0 in c:\\users\\admin\\appdata\\local\\programs\\python\\python312\\lib\\site-packages (from tensorflow) (3.1.0)\n",
            "Requirement already satisfied: typing-extensions>=3.6.6 in c:\\users\\admin\\appdata\\local\\programs\\python\\python312\\lib\\site-packages (from tensorflow) (4.14.1)\n",
            "Requirement already satisfied: wrapt>=1.11.0 in c:\\users\\admin\\appdata\\local\\programs\\python\\python312\\lib\\site-packages (from tensorflow) (1.17.2)\n",
            "Requirement already satisfied: grpcio<2.0,>=1.24.3 in c:\\users\\admin\\appdata\\local\\programs\\python\\python312\\lib\\site-packages (from tensorflow) (1.71.0)\n",
            "Requirement already satisfied: tensorboard~=2.19.0 in c:\\users\\admin\\appdata\\local\\programs\\python\\python312\\lib\\site-packages (from tensorflow) (2.19.0)\n",
            "Requirement already satisfied: keras>=3.5.0 in c:\\users\\admin\\appdata\\local\\programs\\python\\python312\\lib\\site-packages (from tensorflow) (3.9.2)\n",
            "Requirement already satisfied: numpy<2.2.0,>=1.26.0 in c:\\users\\admin\\appdata\\local\\programs\\python\\python312\\lib\\site-packages (from tensorflow) (2.1.3)\n",
            "Requirement already satisfied: h5py>=3.11.0 in c:\\users\\admin\\appdata\\local\\programs\\python\\python312\\lib\\site-packages (from tensorflow) (3.13.0)\n",
            "Requirement already satisfied: ml-dtypes<1.0.0,>=0.5.1 in c:\\users\\admin\\appdata\\local\\programs\\python\\python312\\lib\\site-packages (from tensorflow) (0.5.1)\n",
            "Requirement already satisfied: charset-normalizer<4,>=2 in c:\\users\\admin\\appdata\\local\\programs\\python\\python312\\lib\\site-packages (from requests<3,>=2.21.0->tensorflow) (3.4.1)\n",
            "Requirement already satisfied: idna<4,>=2.5 in c:\\users\\admin\\appdata\\local\\programs\\python\\python312\\lib\\site-packages (from requests<3,>=2.21.0->tensorflow) (3.10)\n",
            "Requirement already satisfied: urllib3<3,>=1.21.1 in c:\\users\\admin\\appdata\\local\\programs\\python\\python312\\lib\\site-packages (from requests<3,>=2.21.0->tensorflow) (2.5.0)\n",
            "Requirement already satisfied: certifi>=2017.4.17 in c:\\users\\admin\\appdata\\local\\programs\\python\\python312\\lib\\site-packages (from requests<3,>=2.21.0->tensorflow) (2025.8.3)\n",
            "Requirement already satisfied: markdown>=2.6.8 in c:\\users\\admin\\appdata\\local\\programs\\python\\python312\\lib\\site-packages (from tensorboard~=2.19.0->tensorflow) (3.8)\n",
            "Requirement already satisfied: tensorboard-data-server<0.8.0,>=0.7.0 in c:\\users\\admin\\appdata\\local\\programs\\python\\python312\\lib\\site-packages (from tensorboard~=2.19.0->tensorflow) (0.7.2)\n",
            "Requirement already satisfied: werkzeug>=1.0.1 in c:\\users\\admin\\appdata\\local\\programs\\python\\python312\\lib\\site-packages (from tensorboard~=2.19.0->tensorflow) (3.1.3)\n",
            "Requirement already satisfied: wheel<1.0,>=0.23.0 in c:\\users\\admin\\appdata\\local\\programs\\python\\python312\\lib\\site-packages (from astunparse>=1.6.0->tensorflow) (0.45.1)\n",
            "Requirement already satisfied: rich in c:\\users\\admin\\appdata\\local\\programs\\python\\python312\\lib\\site-packages (from keras>=3.5.0->tensorflow) (14.0.0)\n",
            "Requirement already satisfied: namex in c:\\users\\admin\\appdata\\local\\programs\\python\\python312\\lib\\site-packages (from keras>=3.5.0->tensorflow) (0.0.9)\n",
            "Requirement already satisfied: optree in c:\\users\\admin\\appdata\\local\\programs\\python\\python312\\lib\\site-packages (from keras>=3.5.0->tensorflow) (0.15.0)\n",
            "Requirement already satisfied: MarkupSafe>=2.1.1 in c:\\users\\admin\\appdata\\local\\programs\\python\\python312\\lib\\site-packages (from werkzeug>=1.0.1->tensorboard~=2.19.0->tensorflow) (3.0.2)\n",
            "Requirement already satisfied: markdown-it-py>=2.2.0 in c:\\users\\admin\\appdata\\local\\programs\\python\\python312\\lib\\site-packages (from rich->keras>=3.5.0->tensorflow) (3.0.0)\n",
            "Requirement already satisfied: pygments<3.0.0,>=2.13.0 in c:\\users\\admin\\appdata\\roaming\\python\\python312\\site-packages (from rich->keras>=3.5.0->tensorflow) (2.19.1)\n",
            "Requirement already satisfied: mdurl~=0.1 in c:\\users\\admin\\appdata\\local\\programs\\python\\python312\\lib\\site-packages (from markdown-it-py>=2.2.0->rich->keras>=3.5.0->tensorflow) (0.1.2)\n",
            "Note: you may need to restart the kernel to use updated packages.\n"
          ]
        },
        {
          "name": "stderr",
          "output_type": "stream",
          "text": [
            "\n",
            "[notice] A new release of pip is available: 25.1.1 -> 25.2\n",
            "[notice] To update, run: python.exe -m pip install --upgrade pip\n"
          ]
        }
      ],
      "source": [
        "pip install tensorflow"
      ]
    },
    {
      "cell_type": "code",
      "execution_count": 90,
      "metadata": {
        "id": "EZPOBmkKlvVZ"
      },
      "outputs": [],
      "source": [
        "from tensorflow.keras.utils import to_categorical"
      ]
    },
    {
      "cell_type": "code",
      "execution_count": 91,
      "metadata": {
        "colab": {
          "base_uri": "https://localhost:8080/"
        },
        "id": "B4bZzyEClzJl",
        "outputId": "be5a1ec4-f75f-412a-ae44-ee364536ba4c"
      },
      "outputs": [
        {
          "data": {
            "text/plain": [
              "array([[0., 1.],\n",
              "       [0., 1.],\n",
              "       [0., 1.],\n",
              "       ...,\n",
              "       [0., 1.],\n",
              "       [0., 1.],\n",
              "       [0., 1.]])"
            ]
          },
          "execution_count": 91,
          "metadata": {},
          "output_type": "execute_result"
        }
      ],
      "source": [
        "ynew = to_categorical(y)\n",
        "ynew"
      ]
    },
    {
      "cell_type": "code",
      "execution_count": 92,
      "metadata": {
        "id": "6I9DeDaKf8rJ"
      },
      "outputs": [],
      "source": [
        "from sklearn.model_selection import train_test_split"
      ]
    },
    {
      "cell_type": "code",
      "execution_count": 93,
      "metadata": {
        "id": "QcmqKCFmhNAR"
      },
      "outputs": [],
      "source": [
        "X_train, X_test, ynew_train, ynew_test = train_test_split(X,ynew, test_size= 0.25)"
      ]
    },
    {
      "cell_type": "code",
      "execution_count": 94,
      "metadata": {
        "colab": {
          "base_uri": "https://localhost:8080/"
        },
        "id": "i73c1fXZhjs6",
        "outputId": "17dde144-2c0e-43cf-a7e1-d92e64bb7c41"
      },
      "outputs": [
        {
          "name": "stderr",
          "output_type": "stream",
          "text": [
            "c:\\Users\\Admin\\AppData\\Local\\Programs\\Python\\Python312\\Lib\\site-packages\\keras\\src\\layers\\core\\dense.py:87: UserWarning: Do not pass an `input_shape`/`input_dim` argument to a layer. When using Sequential models, prefer using an `Input(shape)` object as the first layer in the model instead.\n",
            "  super().__init__(activity_regularizer=activity_regularizer, **kwargs)\n"
          ]
        }
      ],
      "source": [
        "from tensorflow.keras.models import Sequential\n",
        "from tensorflow.keras.layers import Dense, Dropout\n",
        "from tensorflow.keras.callbacks import EarlyStopping\n",
        "\n",
        "model = Sequential()\n",
        "model.add(Dense(500, input_dim=X_train.shape[1], activation=\"relu\"))\n",
        "model.add(Dropout(0.5))  # Increased dropout to 50%\n",
        "\n",
        "model.add(Dense(250, activation=\"relu\"))\n",
        "model.add(Dropout(0.5))\n",
        "\n",
        "model.add(Dense(10, activation=\"relu\"))\n",
        "model.add(Dropout(0.5))\n",
        "\n",
        "model.add(Dense(2, activation='softmax'))\n",
        "model.compile(loss='binary_crossentropy', optimizer='adam', metrics=['accuracy'])\n",
        "\n",
        "\n"
      ]
    },
    {
      "cell_type": "code",
      "execution_count": 95,
      "metadata": {
        "colab": {
          "base_uri": "https://localhost:8080/"
        },
        "id": "pv2KxFmolpDs",
        "outputId": "fea06339-2743-42e4-812d-5cb68bb36009"
      },
      "outputs": [
        {
          "data": {
            "text/plain": [
              "(123567, 14)"
            ]
          },
          "execution_count": 95,
          "metadata": {},
          "output_type": "execute_result"
        }
      ],
      "source": [
        "X_train.shape"
      ]
    },
    {
      "cell_type": "code",
      "execution_count": 96,
      "metadata": {
        "colab": {
          "base_uri": "https://localhost:8080/"
        },
        "id": "rj6DzZgvIvfc",
        "outputId": "b882208b-bc08-4e82-a768-3b2de1b8757f"
      },
      "outputs": [
        {
          "data": {
            "text/plain": [
              "array([[ 0.82540088, -0.97651534, -1.09704334, ..., -1.06202125,\n",
              "        -0.7423227 , -0.01497382],\n",
              "       [ 0.82540088,  0.56361768,  0.91154102, ...,  0.09990202,\n",
              "         1.40221169, -0.41234734],\n",
              "       [-1.21153251,  1.79572409,  0.91154102, ...,  1.26182528,\n",
              "         2.30517354,  1.8394359 ],\n",
              "       ...,\n",
              "       [-1.21153251, -0.82250204, -1.09704334, ..., -0.01629031,\n",
              "        -0.7423227 , -0.54480517],\n",
              "       [-1.21153251, -0.43746878, -1.09704334, ..., -0.8296366 ,\n",
              "        -0.7423227 ,  0.91223104],\n",
              "       [ 0.82540088, -1.05352199, -1.09704334, ...,  0.44847899,\n",
              "        -0.51658224, -1.07463652]])"
            ]
          },
          "execution_count": 96,
          "metadata": {},
          "output_type": "execute_result"
        }
      ],
      "source": [
        "X_train"
      ]
    },
    {
      "cell_type": "code",
      "execution_count": 97,
      "metadata": {
        "colab": {
          "base_uri": "https://localhost:8080/",
          "height": 353
        },
        "id": "RfEFfPoNmKeM",
        "outputId": "74137786-61b2-48eb-f539-6389c71a3b91"
      },
      "outputs": [
        {
          "data": {
            "text/html": [
              "<pre style=\"white-space:pre;overflow-x:auto;line-height:normal;font-family:Menlo,'DejaVu Sans Mono',consolas,'Courier New',monospace\"><span style=\"font-weight: bold\">Model: \"sequential\"</span>\n",
              "</pre>\n"
            ],
            "text/plain": [
              "\u001b[1mModel: \"sequential\"\u001b[0m\n"
            ]
          },
          "metadata": {},
          "output_type": "display_data"
        },
        {
          "data": {
            "text/html": [
              "<pre style=\"white-space:pre;overflow-x:auto;line-height:normal;font-family:Menlo,'DejaVu Sans Mono',consolas,'Courier New',monospace\">┏━━━━━━━━━━━━━━━━━━━━━━━━━━━━━━━━━┳━━━━━━━━━━━━━━━━━━━━━━━━┳━━━━━━━━━━━━━━━┓\n",
              "┃<span style=\"font-weight: bold\"> Layer (type)                    </span>┃<span style=\"font-weight: bold\"> Output Shape           </span>┃<span style=\"font-weight: bold\">       Param # </span>┃\n",
              "┡━━━━━━━━━━━━━━━━━━━━━━━━━━━━━━━━━╇━━━━━━━━━━━━━━━━━━━━━━━━╇━━━━━━━━━━━━━━━┩\n",
              "│ dense (<span style=\"color: #0087ff; text-decoration-color: #0087ff\">Dense</span>)                   │ (<span style=\"color: #00d7ff; text-decoration-color: #00d7ff\">None</span>, <span style=\"color: #00af00; text-decoration-color: #00af00\">500</span>)            │         <span style=\"color: #00af00; text-decoration-color: #00af00\">7,500</span> │\n",
              "├─────────────────────────────────┼────────────────────────┼───────────────┤\n",
              "│ dropout (<span style=\"color: #0087ff; text-decoration-color: #0087ff\">Dropout</span>)               │ (<span style=\"color: #00d7ff; text-decoration-color: #00d7ff\">None</span>, <span style=\"color: #00af00; text-decoration-color: #00af00\">500</span>)            │             <span style=\"color: #00af00; text-decoration-color: #00af00\">0</span> │\n",
              "├─────────────────────────────────┼────────────────────────┼───────────────┤\n",
              "│ dense_1 (<span style=\"color: #0087ff; text-decoration-color: #0087ff\">Dense</span>)                 │ (<span style=\"color: #00d7ff; text-decoration-color: #00d7ff\">None</span>, <span style=\"color: #00af00; text-decoration-color: #00af00\">250</span>)            │       <span style=\"color: #00af00; text-decoration-color: #00af00\">125,250</span> │\n",
              "├─────────────────────────────────┼────────────────────────┼───────────────┤\n",
              "│ dropout_1 (<span style=\"color: #0087ff; text-decoration-color: #0087ff\">Dropout</span>)             │ (<span style=\"color: #00d7ff; text-decoration-color: #00d7ff\">None</span>, <span style=\"color: #00af00; text-decoration-color: #00af00\">250</span>)            │             <span style=\"color: #00af00; text-decoration-color: #00af00\">0</span> │\n",
              "├─────────────────────────────────┼────────────────────────┼───────────────┤\n",
              "│ dense_2 (<span style=\"color: #0087ff; text-decoration-color: #0087ff\">Dense</span>)                 │ (<span style=\"color: #00d7ff; text-decoration-color: #00d7ff\">None</span>, <span style=\"color: #00af00; text-decoration-color: #00af00\">10</span>)             │         <span style=\"color: #00af00; text-decoration-color: #00af00\">2,510</span> │\n",
              "├─────────────────────────────────┼────────────────────────┼───────────────┤\n",
              "│ dropout_2 (<span style=\"color: #0087ff; text-decoration-color: #0087ff\">Dropout</span>)             │ (<span style=\"color: #00d7ff; text-decoration-color: #00d7ff\">None</span>, <span style=\"color: #00af00; text-decoration-color: #00af00\">10</span>)             │             <span style=\"color: #00af00; text-decoration-color: #00af00\">0</span> │\n",
              "├─────────────────────────────────┼────────────────────────┼───────────────┤\n",
              "│ dense_3 (<span style=\"color: #0087ff; text-decoration-color: #0087ff\">Dense</span>)                 │ (<span style=\"color: #00d7ff; text-decoration-color: #00d7ff\">None</span>, <span style=\"color: #00af00; text-decoration-color: #00af00\">2</span>)              │            <span style=\"color: #00af00; text-decoration-color: #00af00\">22</span> │\n",
              "└─────────────────────────────────┴────────────────────────┴───────────────┘\n",
              "</pre>\n"
            ],
            "text/plain": [
              "┏━━━━━━━━━━━━━━━━━━━━━━━━━━━━━━━━━┳━━━━━━━━━━━━━━━━━━━━━━━━┳━━━━━━━━━━━━━━━┓\n",
              "┃\u001b[1m \u001b[0m\u001b[1mLayer (type)                   \u001b[0m\u001b[1m \u001b[0m┃\u001b[1m \u001b[0m\u001b[1mOutput Shape          \u001b[0m\u001b[1m \u001b[0m┃\u001b[1m \u001b[0m\u001b[1m      Param #\u001b[0m\u001b[1m \u001b[0m┃\n",
              "┡━━━━━━━━━━━━━━━━━━━━━━━━━━━━━━━━━╇━━━━━━━━━━━━━━━━━━━━━━━━╇━━━━━━━━━━━━━━━┩\n",
              "│ dense (\u001b[38;5;33mDense\u001b[0m)                   │ (\u001b[38;5;45mNone\u001b[0m, \u001b[38;5;34m500\u001b[0m)            │         \u001b[38;5;34m7,500\u001b[0m │\n",
              "├─────────────────────────────────┼────────────────────────┼───────────────┤\n",
              "│ dropout (\u001b[38;5;33mDropout\u001b[0m)               │ (\u001b[38;5;45mNone\u001b[0m, \u001b[38;5;34m500\u001b[0m)            │             \u001b[38;5;34m0\u001b[0m │\n",
              "├─────────────────────────────────┼────────────────────────┼───────────────┤\n",
              "│ dense_1 (\u001b[38;5;33mDense\u001b[0m)                 │ (\u001b[38;5;45mNone\u001b[0m, \u001b[38;5;34m250\u001b[0m)            │       \u001b[38;5;34m125,250\u001b[0m │\n",
              "├─────────────────────────────────┼────────────────────────┼───────────────┤\n",
              "│ dropout_1 (\u001b[38;5;33mDropout\u001b[0m)             │ (\u001b[38;5;45mNone\u001b[0m, \u001b[38;5;34m250\u001b[0m)            │             \u001b[38;5;34m0\u001b[0m │\n",
              "├─────────────────────────────────┼────────────────────────┼───────────────┤\n",
              "│ dense_2 (\u001b[38;5;33mDense\u001b[0m)                 │ (\u001b[38;5;45mNone\u001b[0m, \u001b[38;5;34m10\u001b[0m)             │         \u001b[38;5;34m2,510\u001b[0m │\n",
              "├─────────────────────────────────┼────────────────────────┼───────────────┤\n",
              "│ dropout_2 (\u001b[38;5;33mDropout\u001b[0m)             │ (\u001b[38;5;45mNone\u001b[0m, \u001b[38;5;34m10\u001b[0m)             │             \u001b[38;5;34m0\u001b[0m │\n",
              "├─────────────────────────────────┼────────────────────────┼───────────────┤\n",
              "│ dense_3 (\u001b[38;5;33mDense\u001b[0m)                 │ (\u001b[38;5;45mNone\u001b[0m, \u001b[38;5;34m2\u001b[0m)              │            \u001b[38;5;34m22\u001b[0m │\n",
              "└─────────────────────────────────┴────────────────────────┴───────────────┘\n"
            ]
          },
          "metadata": {},
          "output_type": "display_data"
        },
        {
          "data": {
            "text/html": [
              "<pre style=\"white-space:pre;overflow-x:auto;line-height:normal;font-family:Menlo,'DejaVu Sans Mono',consolas,'Courier New',monospace\"><span style=\"font-weight: bold\"> Total params: </span><span style=\"color: #00af00; text-decoration-color: #00af00\">135,282</span> (528.45 KB)\n",
              "</pre>\n"
            ],
            "text/plain": [
              "\u001b[1m Total params: \u001b[0m\u001b[38;5;34m135,282\u001b[0m (528.45 KB)\n"
            ]
          },
          "metadata": {},
          "output_type": "display_data"
        },
        {
          "data": {
            "text/html": [
              "<pre style=\"white-space:pre;overflow-x:auto;line-height:normal;font-family:Menlo,'DejaVu Sans Mono',consolas,'Courier New',monospace\"><span style=\"font-weight: bold\"> Trainable params: </span><span style=\"color: #00af00; text-decoration-color: #00af00\">135,282</span> (528.45 KB)\n",
              "</pre>\n"
            ],
            "text/plain": [
              "\u001b[1m Trainable params: \u001b[0m\u001b[38;5;34m135,282\u001b[0m (528.45 KB)\n"
            ]
          },
          "metadata": {},
          "output_type": "display_data"
        },
        {
          "data": {
            "text/html": [
              "<pre style=\"white-space:pre;overflow-x:auto;line-height:normal;font-family:Menlo,'DejaVu Sans Mono',consolas,'Courier New',monospace\"><span style=\"font-weight: bold\"> Non-trainable params: </span><span style=\"color: #00af00; text-decoration-color: #00af00\">0</span> (0.00 B)\n",
              "</pre>\n"
            ],
            "text/plain": [
              "\u001b[1m Non-trainable params: \u001b[0m\u001b[38;5;34m0\u001b[0m (0.00 B)\n"
            ]
          },
          "metadata": {},
          "output_type": "display_data"
        }
      ],
      "source": [
        "model.summary()"
      ]
    },
    {
      "cell_type": "code",
      "execution_count": 98,
      "metadata": {
        "colab": {
          "base_uri": "https://localhost:8080/"
        },
        "id": "IrVv8XoBmNAQ",
        "outputId": "74798d62-9a64-4122-b912-87eb6df8bfc7"
      },
      "outputs": [
        {
          "name": "stdout",
          "output_type": "stream",
          "text": [
            "Epoch 1/10\n",
            "\u001b[1m1978/1978\u001b[0m \u001b[32m━━━━━━━━━━━━━━━━━━━━\u001b[0m\u001b[37m\u001b[0m \u001b[1m23s\u001b[0m 10ms/step - accuracy: 0.9310 - loss: 0.1999 - val_accuracy: 0.9677 - val_loss: 0.0867\n",
            "Epoch 2/10\n",
            "\u001b[1m1978/1978\u001b[0m \u001b[32m━━━━━━━━━━━━━━━━━━━━\u001b[0m\u001b[37m\u001b[0m \u001b[1m26s\u001b[0m 13ms/step - accuracy: 0.9578 - loss: 0.1315 - val_accuracy: 0.9692 - val_loss: 0.0861\n",
            "Epoch 3/10\n",
            "\u001b[1m1978/1978\u001b[0m \u001b[32m━━━━━━━━━━━━━━━━━━━━\u001b[0m\u001b[37m\u001b[0m \u001b[1m26s\u001b[0m 13ms/step - accuracy: 0.9566 - loss: 0.1298 - val_accuracy: 0.9667 - val_loss: 0.0854\n",
            "Epoch 4/10\n",
            "\u001b[1m1978/1978\u001b[0m \u001b[32m━━━━━━━━━━━━━━━━━━━━\u001b[0m\u001b[37m\u001b[0m \u001b[1m21s\u001b[0m 10ms/step - accuracy: 0.9563 - loss: 0.1283 - val_accuracy: 0.9688 - val_loss: 0.0863\n",
            "Epoch 5/10\n",
            "\u001b[1m1978/1978\u001b[0m \u001b[32m━━━━━━━━━━━━━━━━━━━━\u001b[0m\u001b[37m\u001b[0m \u001b[1m17s\u001b[0m 9ms/step - accuracy: 0.9552 - loss: 0.1298 - val_accuracy: 0.9676 - val_loss: 0.0845\n",
            "Epoch 6/10\n",
            "\u001b[1m1978/1978\u001b[0m \u001b[32m━━━━━━━━━━━━━━━━━━━━\u001b[0m\u001b[37m\u001b[0m \u001b[1m19s\u001b[0m 10ms/step - accuracy: 0.9568 - loss: 0.1276 - val_accuracy: 0.9687 - val_loss: 0.0882\n",
            "Epoch 7/10\n",
            "\u001b[1m1978/1978\u001b[0m \u001b[32m━━━━━━━━━━━━━━━━━━━━\u001b[0m\u001b[37m\u001b[0m \u001b[1m27s\u001b[0m 14ms/step - accuracy: 0.9576 - loss: 0.1277 - val_accuracy: 0.9684 - val_loss: 0.0834\n",
            "Epoch 8/10\n",
            "\u001b[1m1978/1978\u001b[0m \u001b[32m━━━━━━━━━━━━━━━━━━━━\u001b[0m\u001b[37m\u001b[0m \u001b[1m25s\u001b[0m 12ms/step - accuracy: 0.9578 - loss: 0.1279 - val_accuracy: 0.9687 - val_loss: 0.0854\n",
            "Epoch 9/10\n",
            "\u001b[1m1978/1978\u001b[0m \u001b[32m━━━━━━━━━━━━━━━━━━━━\u001b[0m\u001b[37m\u001b[0m \u001b[1m25s\u001b[0m 13ms/step - accuracy: 0.9585 - loss: 0.1245 - val_accuracy: 0.9687 - val_loss: 0.0856\n",
            "Epoch 10/10\n",
            "\u001b[1m1978/1978\u001b[0m \u001b[32m━━━━━━━━━━━━━━━━━━━━\u001b[0m\u001b[37m\u001b[0m \u001b[1m21s\u001b[0m 10ms/step - accuracy: 0.9571 - loss: 0.1234 - val_accuracy: 0.9679 - val_loss: 0.0860\n"
          ]
        }
      ],
      "source": [
        "result = model.fit(X_train,ynew_train,epochs=10, batch_size= 50, validation_split = 0.2)"
      ]
    },
    {
      "cell_type": "code",
      "execution_count": 99,
      "metadata": {
        "colab": {
          "base_uri": "https://localhost:8080/",
          "height": 363
        },
        "id": "PiT3aUMumYoZ",
        "outputId": "d81b5903-3164-47fd-e298-43411f692307"
      },
      "outputs": [
        {
          "data": {
            "text/html": [
              "<div>\n",
              "<style scoped>\n",
              "    .dataframe tbody tr th:only-of-type {\n",
              "        vertical-align: middle;\n",
              "    }\n",
              "\n",
              "    .dataframe tbody tr th {\n",
              "        vertical-align: top;\n",
              "    }\n",
              "\n",
              "    .dataframe thead th {\n",
              "        text-align: right;\n",
              "    }\n",
              "</style>\n",
              "<table border=\"1\" class=\"dataframe\">\n",
              "  <thead>\n",
              "    <tr style=\"text-align: right;\">\n",
              "      <th></th>\n",
              "      <th>accuracy</th>\n",
              "      <th>loss</th>\n",
              "      <th>val_accuracy</th>\n",
              "      <th>val_loss</th>\n",
              "    </tr>\n",
              "  </thead>\n",
              "  <tbody>\n",
              "    <tr>\n",
              "      <th>0</th>\n",
              "      <td>0.950573</td>\n",
              "      <td>0.157059</td>\n",
              "      <td>0.967670</td>\n",
              "      <td>0.086735</td>\n",
              "    </tr>\n",
              "    <tr>\n",
              "      <th>1</th>\n",
              "      <td>0.957068</td>\n",
              "      <td>0.132428</td>\n",
              "      <td>0.969208</td>\n",
              "      <td>0.086108</td>\n",
              "    </tr>\n",
              "    <tr>\n",
              "      <th>2</th>\n",
              "      <td>0.956410</td>\n",
              "      <td>0.129456</td>\n",
              "      <td>0.966699</td>\n",
              "      <td>0.085427</td>\n",
              "    </tr>\n",
              "    <tr>\n",
              "      <th>3</th>\n",
              "      <td>0.956521</td>\n",
              "      <td>0.128468</td>\n",
              "      <td>0.968763</td>\n",
              "      <td>0.086270</td>\n",
              "    </tr>\n",
              "    <tr>\n",
              "      <th>4</th>\n",
              "      <td>0.956531</td>\n",
              "      <td>0.127690</td>\n",
              "      <td>0.967630</td>\n",
              "      <td>0.084530</td>\n",
              "    </tr>\n",
              "    <tr>\n",
              "      <th>5</th>\n",
              "      <td>0.956612</td>\n",
              "      <td>0.127593</td>\n",
              "      <td>0.968722</td>\n",
              "      <td>0.088174</td>\n",
              "    </tr>\n",
              "    <tr>\n",
              "      <th>6</th>\n",
              "      <td>0.957664</td>\n",
              "      <td>0.126275</td>\n",
              "      <td>0.968358</td>\n",
              "      <td>0.083352</td>\n",
              "    </tr>\n",
              "    <tr>\n",
              "      <th>7</th>\n",
              "      <td>0.957897</td>\n",
              "      <td>0.126636</td>\n",
              "      <td>0.968682</td>\n",
              "      <td>0.085353</td>\n",
              "    </tr>\n",
              "    <tr>\n",
              "      <th>8</th>\n",
              "      <td>0.957523</td>\n",
              "      <td>0.125900</td>\n",
              "      <td>0.968682</td>\n",
              "      <td>0.085647</td>\n",
              "    </tr>\n",
              "    <tr>\n",
              "      <th>9</th>\n",
              "      <td>0.957047</td>\n",
              "      <td>0.124920</td>\n",
              "      <td>0.967872</td>\n",
              "      <td>0.085971</td>\n",
              "    </tr>\n",
              "  </tbody>\n",
              "</table>\n",
              "</div>"
            ],
            "text/plain": [
              "   accuracy      loss  val_accuracy  val_loss\n",
              "0  0.950573  0.157059      0.967670  0.086735\n",
              "1  0.957068  0.132428      0.969208  0.086108\n",
              "2  0.956410  0.129456      0.966699  0.085427\n",
              "3  0.956521  0.128468      0.968763  0.086270\n",
              "4  0.956531  0.127690      0.967630  0.084530\n",
              "5  0.956612  0.127593      0.968722  0.088174\n",
              "6  0.957664  0.126275      0.968358  0.083352\n",
              "7  0.957897  0.126636      0.968682  0.085353\n",
              "8  0.957523  0.125900      0.968682  0.085647\n",
              "9  0.957047  0.124920      0.967872  0.085971"
            ]
          },
          "execution_count": 99,
          "metadata": {},
          "output_type": "execute_result"
        }
      ],
      "source": [
        "result_df = pd.DataFrame(result.history)\n",
        "result_df"
      ]
    },
    {
      "cell_type": "code",
      "execution_count": 100,
      "metadata": {
        "id": "9nnF5LldLpij"
      },
      "outputs": [],
      "source": [
        "import pickle\n",
        "from tensorflow.keras.models import load_model"
      ]
    },
    {
      "cell_type": "code",
      "execution_count": 101,
      "metadata": {
        "colab": {
          "base_uri": "https://localhost:8080/"
        },
        "id": "WcTh2NYUMNNL",
        "outputId": "1a468711-442c-4fe7-8227-d0fb18856b5b"
      },
      "outputs": [
        {
          "name": "stderr",
          "output_type": "stream",
          "text": [
            "WARNING:absl:You are saving your model as an HDF5 file via `model.save()` or `keras.saving.save_model(model)`. This file format is considered legacy. We recommend using instead the native Keras format, e.g. `model.save('my_model.keras')` or `keras.saving.save_model(model, 'my_model.keras')`. \n"
          ]
        }
      ],
      "source": [
        "import tensorflow as tf\n",
        "\n",
        "# Assuming 'model' is your trained TensorFlow model\n",
        "model.save('my_model.h5') # Save the model to an HDF5 file"
      ]
    },
    {
      "cell_type": "code",
      "execution_count": 102,
      "metadata": {
        "colab": {
          "base_uri": "https://localhost:8080/"
        },
        "id": "U-csuHl7rkwi",
        "outputId": "bc895660-42a5-449a-f2d3-e3f4dae70e16"
      },
      "outputs": [
        {
          "name": "stdout",
          "output_type": "stream",
          "text": [
            "[[ 0.82540088 -0.97651534 -1.09704334 ... -1.06202125 -0.7423227\n",
            "  -0.01497382]\n",
            " [ 0.82540088  0.56361768  0.91154102 ...  0.09990202  1.40221169\n",
            "  -0.41234734]\n",
            " [-1.21153251  1.79572409  0.91154102 ...  1.26182528  2.30517354\n",
            "   1.8394359 ]\n",
            " ...\n",
            " [-1.21153251 -0.82250204 -1.09704334 ... -0.01629031 -0.7423227\n",
            "  -0.54480517]\n",
            " [-1.21153251 -0.43746878 -1.09704334 ... -0.8296366  -0.7423227\n",
            "   0.91223104]\n",
            " [ 0.82540088 -1.05352199 -1.09704334 ...  0.44847899 -0.51658224\n",
            "  -1.07463652]]\n"
          ]
        }
      ],
      "source": [
        "feature_names = X_train\n",
        "print(feature_names)\n",
        "# Save the feature names to a file\n",
        "with open(\"feature_names.pkl\", \"wb\") as f:\n",
        "    pickle.dump(feature_names, f)"
      ]
    },
    {
      "cell_type": "code",
      "execution_count": null,
      "metadata": {
        "id": "HHQLYGdNHq56"
      },
      "outputs": [],
      "source": []
    },
    {
      "cell_type": "code",
      "execution_count": null,
      "metadata": {
        "id": "4DbyNPZ_HuPj"
      },
      "outputs": [],
      "source": []
    },
    {
      "cell_type": "code",
      "execution_count": null,
      "metadata": {
        "id": "J5U319FXMgy2"
      },
      "outputs": [],
      "source": []
    }
  ],
  "metadata": {
    "accelerator": "TPU",
    "colab": {
      "gpuType": "V28",
      "provenance": []
    },
    "kernelspec": {
      "display_name": "Python 3",
      "name": "python3"
    },
    "language_info": {
      "codemirror_mode": {
        "name": "ipython",
        "version": 3
      },
      "file_extension": ".py",
      "mimetype": "text/x-python",
      "name": "python",
      "nbconvert_exporter": "python",
      "pygments_lexer": "ipython3",
      "version": "3.12.4"
    }
  },
  "nbformat": 4,
  "nbformat_minor": 0
}
